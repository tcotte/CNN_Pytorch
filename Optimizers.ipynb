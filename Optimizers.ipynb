{
  "nbformat": 4,
  "nbformat_minor": 0,
  "metadata": {
    "colab": {
      "name": "Optimizers.ipynb",
      "provenance": [],
      "authorship_tag": "ABX9TyPAd1zmZzBRRsfbQc185zee",
      "include_colab_link": true
    },
    "kernelspec": {
      "name": "python3",
      "display_name": "Python 3"
    },
    "accelerator": "GPU"
  },
  "cells": [
    {
      "cell_type": "markdown",
      "metadata": {
        "id": "view-in-github",
        "colab_type": "text"
      },
      "source": [
        "<a href=\"https://colab.research.google.com/github/tcotte/CNN_Pytorch/blob/master/Optimizers.ipynb\" target=\"_parent\"><img src=\"https://colab.research.google.com/assets/colab-badge.svg\" alt=\"Open In Colab\"/></a>"
      ]
    },
    {
      "cell_type": "markdown",
      "metadata": {
        "id": "pM0cRdn8G9sW"
      },
      "source": [
        "## Optimizers"
      ]
    },
    {
      "cell_type": "code",
      "metadata": {
        "colab": {
          "base_uri": "https://localhost:8080/"
        },
        "id": "WHW3JHYZGNwB",
        "outputId": "0c2c85c3-f301-410f-ae3f-c268f99dc6ce"
      },
      "source": [
        "!git clone https://github.com/tcotte/CNN_Pytorch\r\n",
        "%cd CNN_Pytorch"
      ],
      "execution_count": 1,
      "outputs": [
        {
          "output_type": "stream",
          "text": [
            "Cloning into 'CNN_Pytorch'...\n",
            "remote: Enumerating objects: 17, done.\u001b[K\n",
            "remote: Counting objects: 100% (17/17), done.\u001b[K\n",
            "remote: Compressing objects: 100% (15/15), done.\u001b[K\n",
            "remote: Total 3109 (delta 3), reused 12 (delta 2), pack-reused 3092\u001b[K\n",
            "Receiving objects: 100% (3109/3109), 97.61 MiB | 36.64 MiB/s, done.\n",
            "Resolving deltas: 100% (21/21), done.\n",
            "Checking out files: 100% (3318/3318), done.\n",
            "/content/CNN_Pytorch\n"
          ],
          "name": "stdout"
        }
      ]
    },
    {
      "cell_type": "code",
      "metadata": {
        "id": "voioApIwGfrW"
      },
      "source": [
        "import numpy\r\n",
        "import numpy as np\r\n",
        "import torch\r\n",
        "import torch.nn as nn\r\n",
        "import torch.nn.functional as F\r\n",
        "import torch.utils.data.dataloader as dataloader\r\n",
        "import torch.optim as optim\r\n",
        "\r\n",
        "from torch.utils.data import TensorDataset\r\n",
        "from torchvision import transforms\r\n",
        "from torchvision.datasets import MNIST\r\n",
        "import matplotlib.pyplot as plt\r\n",
        "\r\n",
        "SEED = 1\r\n",
        "\r\n",
        "# CUDA?\r\n",
        "cuda = torch.cuda.is_available()\r\n",
        "\r\n",
        "# For reproducibility\r\n",
        "torch.manual_seed(SEED)\r\n",
        "device = torch.device(\"cuda\" if cuda else \"cpu\")\r\n",
        "\r\n",
        "if cuda:\r\n",
        "    torch.cuda.manual_seed(SEED)"
      ],
      "execution_count": 4,
      "outputs": []
    },
    {
      "cell_type": "markdown",
      "metadata": {
        "id": "XsP9EceMGnBQ"
      },
      "source": [
        "We are going to use the alex architecture and try different optimizers on this notebook."
      ]
    },
    {
      "cell_type": "code",
      "metadata": {
        "id": "kGDtPncgGilA"
      },
      "source": [
        "from torchvision import transforms\r\n",
        "\r\n",
        "AlexTransform = transforms.Compose([\r\n",
        "    transforms.Resize((227, 227)),\r\n",
        "    transforms.ToTensor(),\r\n",
        "    transforms.Normalize((0.1307,), (0.3081,))\r\n",
        "])"
      ],
      "execution_count": 2,
      "outputs": []
    },
    {
      "cell_type": "markdown",
      "metadata": {
        "id": "LJqlCKNNG6TM"
      },
      "source": [
        "### Load Dataset"
      ]
    },
    {
      "cell_type": "code",
      "metadata": {
        "id": "P8qTRquXG4gq"
      },
      "source": [
        "import os\r\n",
        "import torchvision\r\n",
        "\r\n",
        "class_names = ['T-shirt/top', 'Trouser', 'Pullover', 'Dress', 'Coat',\r\n",
        "               'Sandal', 'Shirt', 'Sneaker', 'Bag', 'Ankle boot']\r\n",
        "\r\n",
        "batch_size=256\r\n",
        "dataset_dir = os.path.join(os.path.expanduser(\"~\"), 'Datasets', 'FashionMNIST')\r\n",
        "\r\n",
        "# Load the dataset for alexnet arch\r\n",
        "train_dataset = torchvision.datasets.FashionMNIST(root=dataset_dir,\r\n",
        "                                           train=True,\r\n",
        "                                           transform= AlexTransform,\r\n",
        "                                           download=True)\r\n",
        "\r\n",
        "test_dataset = torchvision.datasets.FashionMNIST(root=dataset_dir,\r\n",
        "                                           train=False,\r\n",
        "                                           transform= AlexTransform,\r\n",
        "                                           download=True)\r\n",
        "\r\n",
        "train_loader = torch.utils.data.DataLoader(dataset=train_dataset,\r\n",
        "                                          batch_size=batch_size,\r\n",
        "                                          shuffle=True,                \r\n",
        "                                          num_workers=4)\r\n",
        "\r\n",
        "test_loader = torch.utils.data.DataLoader(dataset=test_dataset,\r\n",
        "                                          batch_size=batch_size,\r\n",
        "                                          shuffle=True,                \r\n",
        "                                          num_workers=4)"
      ],
      "execution_count": 9,
      "outputs": []
    },
    {
      "cell_type": "code",
      "metadata": {
        "id": "_pPtgV07HM29",
        "outputId": "255678ba-4af1-43e8-a235-aad6e4563b03",
        "colab": {
          "base_uri": "https://localhost:8080/",
          "height": 281
        }
      },
      "source": [
        "from functions.plot_picture import matplotlib_imshow\r\n",
        "\r\n",
        "# get some random training images\r\n",
        "dataiter = iter(train_loader)\r\n",
        "\r\n",
        "images, labels = dataiter.next()\r\n",
        "\r\n",
        "# # creat grid of images\r\n",
        "img_grid = torchvision.utils.make_grid(images[0])\r\n",
        "\r\n",
        "# # show images & labels\r\n",
        "matplotlib_imshow(img_grid, class_names[labels[0]])"
      ],
      "execution_count": 10,
      "outputs": [
        {
          "output_type": "display_data",
          "data": {
            "image/png": "[encoded data removed]",
            "text/plain": [
              "<Figure size 432x288 with 1 Axes>"
            ]
          },
          "metadata": {
            "tags": [],
            "needs_background": "light"
          }
        }
      ]
    },
    {
      "cell_type": "code",
      "metadata": {
        "id": "cvCrIAmfHiAo",
        "outputId": "d664550e-a8fd-49ac-eb44-c1b129c32c55",
        "colab": {
          "base_uri": "https://localhost:8080/",
          "height": 817
        }
      },
      "source": [
        "from functions.training import train_model, evaluate_model\r\n",
        "from models.alexnet_arch import AlexNet\r\n",
        "from models.lenet_arch import Model_Type_LeNet\r\n",
        "import torch.optim as optim\r\n",
        "\r\n",
        "EPOCHS = 10\r\n",
        "losses_an = []\r\n",
        "accuracies_an = []\r\n",
        "nb_batch = int(np.ceil(len(train_loader.dataset)/batch_size))\r\n",
        "\r\n",
        "alexnet_model = AlexNet()\r\n",
        "\r\n",
        "optimizers = {\"SGD\": optim.SGD(alexnet_model.parameters(),  lr=0.001),\r\n",
        "             \"AdamW\": optim.AdamW(alexnet_model.parameters(),  lr=0.001),\r\n",
        "             \"Adagrad\": optim.Adagrad(alexnet_model.parameters(),  lr=0.001),\r\n",
        "             \"Adam\": optim.Adam(alexnet_model.parameters(),  lr=0.001)\r\n",
        "}\r\n",
        "\r\n",
        "alexnet_model.to(device)\r\n",
        "for opt in optimizers:\r\n",
        "  print(\"<================ \"+opt+\" ================>\")\r\n",
        "  for epoch in range(EPOCHS):\r\n",
        "    losses_an.extend(train_model(train_loader, device, alexnet_model, optimizers[opt], epoch,  EPOCHS, batch_size)[-nb_batch:])\r\n",
        "    accuracies_an.append(evaluate_model(alexnet_model, device, test_loader, losses_an[-1], EPOCHS, epoch, batch_size, len(train_loader.dataset)))"
      ],
      "execution_count": 24,
      "outputs": [
        {
          "output_type": "stream",
          "text": [
            "<================ SGD ================>\n",
            " Train Epoch: 1/10 [60000/60000 (100%)]\tLoss: 2.302470\t Test Accuracy: 13.0000%\n",
            " Train Epoch: 2/10 [60000/60000 (100%)]\tLoss: 2.300724\t Test Accuracy: 15.5100%\n",
            " Train Epoch: 3/10 [60000/60000 (100%)]\tLoss: 2.298950\t Test Accuracy: 18.8000%\n",
            " Train Epoch: 4/10 [60000/60000 (100%)]\tLoss: 2.293018\t Test Accuracy: 23.2500%\n",
            " Train Epoch: 5/10 [60000/60000 (100%)]\tLoss: 2.287746\t Test Accuracy: 26.3800%\n",
            " Train Epoch: 6/10 [60000/60000 (100%)]\tLoss: 2.247393\t Test Accuracy: 21.8100%\n",
            " Train Epoch: 7/10 [60000/60000 (100%)]\tLoss: 1.157704\t Test Accuracy: 51.1400%\n",
            " Train Epoch: 8/10 [60000/60000 (100%)]\tLoss: 1.104713\t Test Accuracy: 59.8600%\n",
            " Train Epoch: 9/10 [60000/60000 (100%)]\tLoss: 0.834160\t Test Accuracy: 62.4400%\n",
            " Train Epoch: 10/10 [60000/60000 (100%)]\tLoss: 0.997662\t Test Accuracy: 63.2100%\n",
            "<================ AdamW ================>\n",
            " Train Epoch: 1/10 [60000/60000 (100%)]\tLoss: 2.301218\t Test Accuracy: 10.3900%\n",
            " Train Epoch: 2/10 [60000/60000 (100%)]\tLoss: 2.302879\t Test Accuracy: 10.2000%\n",
            " Train Epoch: 3/10 [60000/60000 (100%)]\tLoss: 2.301322\t Test Accuracy: 9.9500%\n",
            " Train Epoch: 4/10 [60000/60000 (100%)]\tLoss: 2.303951\t Test Accuracy: 9.8100%\n",
            " Train Epoch: 5/10 [60000/60000 (100%)]\tLoss: 2.302387\t Test Accuracy: 9.6600%\n",
            " Train Epoch: 6/10 [60000/60000 (100%)]\tLoss: 2.303426\t Test Accuracy: 10.0600%\n",
            " Train Epoch: 7/10 [60000/60000 (100%)]\tLoss: 2.301320\t Test Accuracy: 9.6800%\n",
            " Train Epoch: 8/10 [60000/60000 (100%)]\tLoss: 2.301078\t Test Accuracy: 9.7600%\n",
            " Train Epoch: 9/10 [60000/60000 (100%)]\tLoss: 2.302269\t Test Accuracy: 10.0400%\n",
            " Train Epoch: 10/10 [60000/60000 (100%)]\tLoss: 2.303796\t Test Accuracy: 10.0300%\n",
            "<================ Adagrad ================>\n"
          ],
          "name": "stdout"
        },
        {
          "output_type": "error",
          "ename": "RuntimeError",
          "evalue": "ignored",
          "traceback": [
            "\u001b[0;31m---------------------------------------------------------------------------\u001b[0m",
            "\u001b[0;31mRuntimeError\u001b[0m                              Traceback (most recent call last)",
            "\u001b[0;32m<ipython-input-24-ca30fb612f8a>\u001b[0m in \u001b[0;36m<module>\u001b[0;34m()\u001b[0m\n\u001b[1;32m     21\u001b[0m   \u001b[0mprint\u001b[0m\u001b[0;34m(\u001b[0m\u001b[0;34m\"<================ \"\u001b[0m\u001b[0;34m+\u001b[0m\u001b[0mopt\u001b[0m\u001b[0;34m+\u001b[0m\u001b[0;34m\" ================>\"\u001b[0m\u001b[0;34m)\u001b[0m\u001b[0;34m\u001b[0m\u001b[0;34m\u001b[0m\u001b[0m\n\u001b[1;32m     22\u001b[0m   \u001b[0;32mfor\u001b[0m \u001b[0mepoch\u001b[0m \u001b[0;32min\u001b[0m \u001b[0mrange\u001b[0m\u001b[0;34m(\u001b[0m\u001b[0mEPOCHS\u001b[0m\u001b[0;34m)\u001b[0m\u001b[0;34m:\u001b[0m\u001b[0;34m\u001b[0m\u001b[0;34m\u001b[0m\u001b[0m\n\u001b[0;32m---> 23\u001b[0;31m     \u001b[0mlosses_an\u001b[0m\u001b[0;34m.\u001b[0m\u001b[0mextend\u001b[0m\u001b[0;34m(\u001b[0m\u001b[0mtrain_model\u001b[0m\u001b[0;34m(\u001b[0m\u001b[0mtrain_loader\u001b[0m\u001b[0;34m,\u001b[0m \u001b[0mdevice\u001b[0m\u001b[0;34m,\u001b[0m \u001b[0malexnet_model\u001b[0m\u001b[0;34m,\u001b[0m \u001b[0moptimizers\u001b[0m\u001b[0;34m[\u001b[0m\u001b[0mopt\u001b[0m\u001b[0;34m]\u001b[0m\u001b[0;34m,\u001b[0m \u001b[0mepoch\u001b[0m\u001b[0;34m,\u001b[0m  \u001b[0mEPOCHS\u001b[0m\u001b[0;34m,\u001b[0m \u001b[0mbatch_size\u001b[0m\u001b[0;34m)\u001b[0m\u001b[0;34m[\u001b[0m\u001b[0;34m-\u001b[0m\u001b[0mnb_batch\u001b[0m\u001b[0;34m:\u001b[0m\u001b[0;34m]\u001b[0m\u001b[0;34m)\u001b[0m\u001b[0;34m\u001b[0m\u001b[0;34m\u001b[0m\u001b[0m\n\u001b[0m\u001b[1;32m     24\u001b[0m     \u001b[0maccuracies_an\u001b[0m\u001b[0;34m.\u001b[0m\u001b[0mappend\u001b[0m\u001b[0;34m(\u001b[0m\u001b[0mevaluate_model\u001b[0m\u001b[0;34m(\u001b[0m\u001b[0malexnet_model\u001b[0m\u001b[0;34m,\u001b[0m \u001b[0mdevice\u001b[0m\u001b[0;34m,\u001b[0m \u001b[0mtest_loader\u001b[0m\u001b[0;34m,\u001b[0m \u001b[0mlosses_an\u001b[0m\u001b[0;34m[\u001b[0m\u001b[0;34m-\u001b[0m\u001b[0;36m1\u001b[0m\u001b[0;34m]\u001b[0m\u001b[0;34m,\u001b[0m \u001b[0mEPOCHS\u001b[0m\u001b[0;34m,\u001b[0m \u001b[0mepoch\u001b[0m\u001b[0;34m,\u001b[0m \u001b[0mbatch_size\u001b[0m\u001b[0;34m,\u001b[0m \u001b[0mlen\u001b[0m\u001b[0;34m(\u001b[0m\u001b[0mtrain_loader\u001b[0m\u001b[0;34m.\u001b[0m\u001b[0mdataset\u001b[0m\u001b[0;34m)\u001b[0m\u001b[0;34m)\u001b[0m\u001b[0;34m)\u001b[0m\u001b[0;34m\u001b[0m\u001b[0;34m\u001b[0m\u001b[0m\n",
            "\u001b[0;32m/content/CNN_Pytorch/functions/training.py\u001b[0m in \u001b[0;36mtrain_model\u001b[0;34m(train_loader, device, model, optimizer, epoch, EPOCHS, BATCH_SIZE)\u001b[0m\n\u001b[1;32m     23\u001b[0m         \u001b[0;31m# Backpropagation\u001b[0m\u001b[0;34m\u001b[0m\u001b[0;34m\u001b[0m\u001b[0;34m\u001b[0m\u001b[0m\n\u001b[1;32m     24\u001b[0m         \u001b[0mloss\u001b[0m\u001b[0;34m.\u001b[0m\u001b[0mbackward\u001b[0m\u001b[0;34m(\u001b[0m\u001b[0;34m)\u001b[0m\u001b[0;34m\u001b[0m\u001b[0;34m\u001b[0m\u001b[0m\n\u001b[0;32m---> 25\u001b[0;31m         \u001b[0moptimizer\u001b[0m\u001b[0;34m.\u001b[0m\u001b[0mstep\u001b[0m\u001b[0;34m(\u001b[0m\u001b[0;34m)\u001b[0m\u001b[0;34m\u001b[0m\u001b[0;34m\u001b[0m\u001b[0m\n\u001b[0m\u001b[1;32m     26\u001b[0m         \u001b[0;31m# update model weights\u001b[0m\u001b[0;34m\u001b[0m\u001b[0;34m\u001b[0m\u001b[0;34m\u001b[0m\u001b[0m\n\u001b[1;32m     27\u001b[0m         \u001b[0moptimizer\u001b[0m\u001b[0;34m.\u001b[0m\u001b[0mstep\u001b[0m\u001b[0;34m(\u001b[0m\u001b[0;34m)\u001b[0m\u001b[0;34m\u001b[0m\u001b[0;34m\u001b[0m\u001b[0m\n",
            "\u001b[0;32m/usr/local/lib/python3.6/dist-packages/torch/autograd/grad_mode.py\u001b[0m in \u001b[0;36mdecorate_context\u001b[0;34m(*args, **kwargs)\u001b[0m\n\u001b[1;32m     24\u001b[0m         \u001b[0;32mdef\u001b[0m \u001b[0mdecorate_context\u001b[0m\u001b[0;34m(\u001b[0m\u001b[0;34m*\u001b[0m\u001b[0margs\u001b[0m\u001b[0;34m,\u001b[0m \u001b[0;34m**\u001b[0m\u001b[0mkwargs\u001b[0m\u001b[0;34m)\u001b[0m\u001b[0;34m:\u001b[0m\u001b[0;34m\u001b[0m\u001b[0;34m\u001b[0m\u001b[0m\n\u001b[1;32m     25\u001b[0m             \u001b[0;32mwith\u001b[0m \u001b[0mself\u001b[0m\u001b[0;34m.\u001b[0m\u001b[0m__class__\u001b[0m\u001b[0;34m(\u001b[0m\u001b[0;34m)\u001b[0m\u001b[0;34m:\u001b[0m\u001b[0;34m\u001b[0m\u001b[0;34m\u001b[0m\u001b[0m\n\u001b[0;32m---> 26\u001b[0;31m                 \u001b[0;32mreturn\u001b[0m \u001b[0mfunc\u001b[0m\u001b[0;34m(\u001b[0m\u001b[0;34m*\u001b[0m\u001b[0margs\u001b[0m\u001b[0;34m,\u001b[0m \u001b[0;34m**\u001b[0m\u001b[0mkwargs\u001b[0m\u001b[0;34m)\u001b[0m\u001b[0;34m\u001b[0m\u001b[0;34m\u001b[0m\u001b[0m\n\u001b[0m\u001b[1;32m     27\u001b[0m         \u001b[0;32mreturn\u001b[0m \u001b[0mcast\u001b[0m\u001b[0;34m(\u001b[0m\u001b[0mF\u001b[0m\u001b[0;34m,\u001b[0m \u001b[0mdecorate_context\u001b[0m\u001b[0;34m)\u001b[0m\u001b[0;34m\u001b[0m\u001b[0;34m\u001b[0m\u001b[0m\n\u001b[1;32m     28\u001b[0m \u001b[0;34m\u001b[0m\u001b[0m\n",
            "\u001b[0;32m/usr/local/lib/python3.6/dist-packages/torch/optim/adagrad.py\u001b[0m in \u001b[0;36mstep\u001b[0;34m(self, closure)\u001b[0m\n\u001b[1;32m     88\u001b[0m                       \u001b[0mgroup\u001b[0m\u001b[0;34m[\u001b[0m\u001b[0;34m'weight_decay'\u001b[0m\u001b[0;34m]\u001b[0m\u001b[0;34m,\u001b[0m\u001b[0;34m\u001b[0m\u001b[0;34m\u001b[0m\u001b[0m\n\u001b[1;32m     89\u001b[0m                       \u001b[0mgroup\u001b[0m\u001b[0;34m[\u001b[0m\u001b[0;34m'lr_decay'\u001b[0m\u001b[0;34m]\u001b[0m\u001b[0;34m,\u001b[0m\u001b[0;34m\u001b[0m\u001b[0;34m\u001b[0m\u001b[0m\n\u001b[0;32m---> 90\u001b[0;31m                       group['eps'])\n\u001b[0m\u001b[1;32m     91\u001b[0m \u001b[0;34m\u001b[0m\u001b[0m\n\u001b[1;32m     92\u001b[0m         \u001b[0;32mreturn\u001b[0m \u001b[0mloss\u001b[0m\u001b[0;34m\u001b[0m\u001b[0;34m\u001b[0m\u001b[0m\n",
            "\u001b[0;32m/usr/local/lib/python3.6/dist-packages/torch/optim/functional.py\u001b[0m in \u001b[0;36madagrad\u001b[0;34m(params, grads, state_sums, state_steps, lr, weight_decay, lr_decay, eps)\u001b[0m\n\u001b[1;32m     46\u001b[0m             \u001b[0mparam\u001b[0m\u001b[0;34m.\u001b[0m\u001b[0madd_\u001b[0m\u001b[0;34m(\u001b[0m\u001b[0m_make_sparse\u001b[0m\u001b[0;34m(\u001b[0m\u001b[0mgrad\u001b[0m\u001b[0;34m,\u001b[0m \u001b[0mgrad_indices\u001b[0m\u001b[0;34m,\u001b[0m \u001b[0mgrad_values\u001b[0m \u001b[0;34m/\u001b[0m \u001b[0mstd_values\u001b[0m\u001b[0;34m)\u001b[0m\u001b[0;34m,\u001b[0m \u001b[0malpha\u001b[0m\u001b[0;34m=\u001b[0m\u001b[0;34m-\u001b[0m\u001b[0mclr\u001b[0m\u001b[0;34m)\u001b[0m\u001b[0;34m\u001b[0m\u001b[0;34m\u001b[0m\u001b[0m\n\u001b[1;32m     47\u001b[0m         \u001b[0;32melse\u001b[0m\u001b[0;34m:\u001b[0m\u001b[0;34m\u001b[0m\u001b[0;34m\u001b[0m\u001b[0m\n\u001b[0;32m---> 48\u001b[0;31m             \u001b[0mstate_sum\u001b[0m\u001b[0;34m.\u001b[0m\u001b[0maddcmul_\u001b[0m\u001b[0;34m(\u001b[0m\u001b[0mgrad\u001b[0m\u001b[0;34m,\u001b[0m \u001b[0mgrad\u001b[0m\u001b[0;34m,\u001b[0m \u001b[0mvalue\u001b[0m\u001b[0;34m=\u001b[0m\u001b[0;36m1\u001b[0m\u001b[0;34m)\u001b[0m\u001b[0;34m\u001b[0m\u001b[0;34m\u001b[0m\u001b[0m\n\u001b[0m\u001b[1;32m     49\u001b[0m             \u001b[0mstd\u001b[0m \u001b[0;34m=\u001b[0m \u001b[0mstate_sum\u001b[0m\u001b[0;34m.\u001b[0m\u001b[0msqrt\u001b[0m\u001b[0;34m(\u001b[0m\u001b[0;34m)\u001b[0m\u001b[0;34m.\u001b[0m\u001b[0madd_\u001b[0m\u001b[0;34m(\u001b[0m\u001b[0meps\u001b[0m\u001b[0;34m)\u001b[0m\u001b[0;34m\u001b[0m\u001b[0;34m\u001b[0m\u001b[0m\n\u001b[1;32m     50\u001b[0m             \u001b[0mparam\u001b[0m\u001b[0;34m.\u001b[0m\u001b[0maddcdiv_\u001b[0m\u001b[0;34m(\u001b[0m\u001b[0mgrad\u001b[0m\u001b[0;34m,\u001b[0m \u001b[0mstd\u001b[0m\u001b[0;34m,\u001b[0m \u001b[0mvalue\u001b[0m\u001b[0;34m=\u001b[0m\u001b[0;34m-\u001b[0m\u001b[0mclr\u001b[0m\u001b[0;34m)\u001b[0m\u001b[0;34m\u001b[0m\u001b[0;34m\u001b[0m\u001b[0m\n",
            "\u001b[0;31mRuntimeError\u001b[0m: Expected all tensors to be on the same device, but found at least two devices, cuda:0 and cpu!"
          ]
        }
      ]
    },
    {
      "cell_type": "code",
      "metadata": {
        "id": "2UjxLQwWQuq9",
        "outputId": "66854062-0c6b-4fd7-d237-b7bc8311bd93",
        "colab": {
          "base_uri": "https://localhost:8080/"
        }
      },
      "source": [
        "device"
      ],
      "execution_count": 28,
      "outputs": [
        {
          "output_type": "execute_result",
          "data": {
            "text/plain": [
              "device(type='cuda')"
            ]
          },
          "metadata": {
            "tags": []
          },
          "execution_count": 28
        }
      ]
    },
    {
      "cell_type": "code",
      "metadata": {
        "id": "KWLJSs2NQJ3A",
        "outputId": "ecee24b0-8c1e-4a84-d957-0a059e10d611",
        "colab": {
          "base_uri": "https://localhost:8080/"
        }
      },
      "source": [
        "rest_optimizers = {\r\n",
        "             \"Adam\": optim.Adam(alexnet_model.parameters(),  lr=0.001)\r\n",
        "             }\r\n",
        "\r\n",
        "for opt in rest_optimizers:\r\n",
        "  print(\"<================ \"+opt+\" ================>\")\r\n",
        "  for epoch in range(EPOCHS):\r\n",
        "    losses_an.extend(train_model(train_loader, device, alexnet_model, optimizers[opt], epoch,  EPOCHS, batch_size)[-nb_batch:])\r\n",
        "    accuracies_an.append(evaluate_model(alexnet_model, device, test_loader, losses_an[-1], EPOCHS, epoch, batch_size, len(train_loader.dataset)))"
      ],
      "execution_count": 36,
      "outputs": [
        {
          "output_type": "stream",
          "text": [
            "<================ Adam ================>\n",
            " Train Epoch: 1/10 [60000/60000 (100%)]\tLoss: 0.348169\t Test Accuracy: 81.9300%\n",
            " Train Epoch: 2/10 [60000/60000 (100%)]\tLoss: 0.342953\t Test Accuracy: 84.0000%\n",
            " Train Epoch: 3/10 [60000/60000 (100%)]\tLoss: 0.332419\t Test Accuracy: 86.8200%\n",
            " Train Epoch: 4/10 [60000/60000 (100%)]\tLoss: 0.226865\t Test Accuracy: 87.4300%\n",
            " Train Epoch: 5/10 [60000/60000 (100%)]\tLoss: 0.474910\t Test Accuracy: 88.3700%\n",
            " Train Epoch: 6/10 [60000/60000 (100%)]\tLoss: 0.288944\t Test Accuracy: 88.8400%\n",
            " Train Epoch: 7/10 [60000/60000 (100%)]\tLoss: 0.398103\t Test Accuracy: 87.9800%\n",
            " Train Epoch: 8/10 [60000/60000 (100%)]\tLoss: 0.253041\t Test Accuracy: 88.2300%\n",
            " Train Epoch: 9/10 [60000/60000 (100%)]\tLoss: 0.236024\t Test Accuracy: 88.7900%\n",
            " Train Epoch: 10/10 [60000/60000 (100%)]\tLoss: 0.267509\t Test Accuracy: 89.4600%\n"
          ],
          "name": "stdout"
        }
      ]
    },
    {
      "cell_type": "markdown",
      "metadata": {
        "id": "EvukAyR6WqQo"
      },
      "source": [
        "### Register in csv file"
      ]
    },
    {
      "cell_type": "code",
      "metadata": {
        "id": "0CM9eDGnWXkj"
      },
      "source": [
        "def filter_losses(losses, EPOCHS):\r\n",
        "  losses_filtered = []\r\n",
        "  for i in range(EPOCHS):\r\n",
        "    if i==0:\r\n",
        "      losses_filtered.append(losses[nb_batch-1])\r\n",
        "    else:\r\n",
        "      losses_filtered.append(losses[nb_batch-1+nb_batch*i])\r\n",
        "  return losses_filtered"
      ],
      "execution_count": 37,
      "outputs": []
    },
    {
      "cell_type": "code",
      "metadata": {
        "id": "WNr30VWWWpi3",
        "outputId": "0252157a-1051-4064-8ba1-062231a823d1",
        "colab": {
          "base_uri": "https://localhost:8080/",
          "height": 394
        }
      },
      "source": [
        "import pandas as pd \r\n",
        "\r\n",
        "d = {('SGD', 'accuracy'): accuracies_an[:10],\r\n",
        "     ('SGD', 'loss'): filter_losses(losses_an[:2350], EPOCHS),\r\n",
        "     ('AdamW','accuracy'): accuracies_an[10:20],\r\n",
        "     ('AdamW','loss'): filter_losses(losses_an[2350:2350*2], EPOCHS),\r\n",
        "     ('Adam','accuracy'): accuracies_an[20:],\r\n",
        "     ('Adam','loss'): filter_losses(losses_an[2350*2:], EPOCHS),\r\n",
        "}\r\n",
        "l=[('SGD', 'accuracy'),  ('SGD', 'loss'), ('AdamW','accuracy'),  ('AdamW','loss'), ('Adam','accuracy'),  ('Adam','loss')]\r\n",
        "df = pd.DataFrame(data=d, columns = l)\r\n",
        "\r\n",
        "df.columns = pd.MultiIndex.from_tuples(df.columns, names=['',''])\r\n",
        "df"
      ],
      "execution_count": 43,
      "outputs": [
        {
          "output_type": "execute_result",
          "data": {
            "text/html": [
              "<div>\n",
              "<style scoped>\n",
              "    .dataframe tbody tr th:only-of-type {\n",
              "        vertical-align: middle;\n",
              "    }\n",
              "\n",
              "    .dataframe tbody tr th {\n",
              "        vertical-align: top;\n",
              "    }\n",
              "\n",
              "    .dataframe thead tr th {\n",
              "        text-align: left;\n",
              "    }\n",
              "</style>\n",
              "<table border=\"1\" class=\"dataframe\">\n",
              "  <thead>\n",
              "    <tr>\n",
              "      <th></th>\n",
              "      <th colspan=\"2\" halign=\"left\">SGD</th>\n",
              "      <th colspan=\"2\" halign=\"left\">AdamW</th>\n",
              "      <th colspan=\"2\" halign=\"left\">Adam</th>\n",
              "    </tr>\n",
              "    <tr>\n",
              "      <th></th>\n",
              "      <th>accuracy</th>\n",
              "      <th>loss</th>\n",
              "      <th>accuracy</th>\n",
              "      <th>loss</th>\n",
              "      <th>accuracy</th>\n",
              "      <th>loss</th>\n",
              "    </tr>\n",
              "  </thead>\n",
              "  <tbody>\n",
              "    <tr>\n",
              "      <th>0</th>\n",
              "      <td>0.1300</td>\n",
              "      <td>2.302470</td>\n",
              "      <td>0.1039</td>\n",
              "      <td>2.301218</td>\n",
              "      <td>0.8193</td>\n",
              "      <td>0.348169</td>\n",
              "    </tr>\n",
              "    <tr>\n",
              "      <th>1</th>\n",
              "      <td>0.1551</td>\n",
              "      <td>2.300724</td>\n",
              "      <td>0.1020</td>\n",
              "      <td>2.302879</td>\n",
              "      <td>0.8400</td>\n",
              "      <td>0.342953</td>\n",
              "    </tr>\n",
              "    <tr>\n",
              "      <th>2</th>\n",
              "      <td>0.1880</td>\n",
              "      <td>2.298950</td>\n",
              "      <td>0.0995</td>\n",
              "      <td>2.301322</td>\n",
              "      <td>0.8682</td>\n",
              "      <td>0.332419</td>\n",
              "    </tr>\n",
              "    <tr>\n",
              "      <th>3</th>\n",
              "      <td>0.2325</td>\n",
              "      <td>2.293018</td>\n",
              "      <td>0.0981</td>\n",
              "      <td>2.303951</td>\n",
              "      <td>0.8743</td>\n",
              "      <td>0.226865</td>\n",
              "    </tr>\n",
              "    <tr>\n",
              "      <th>4</th>\n",
              "      <td>0.2638</td>\n",
              "      <td>2.287746</td>\n",
              "      <td>0.0966</td>\n",
              "      <td>2.302387</td>\n",
              "      <td>0.8837</td>\n",
              "      <td>0.474910</td>\n",
              "    </tr>\n",
              "    <tr>\n",
              "      <th>5</th>\n",
              "      <td>0.2181</td>\n",
              "      <td>2.247393</td>\n",
              "      <td>0.1006</td>\n",
              "      <td>2.303426</td>\n",
              "      <td>0.8884</td>\n",
              "      <td>0.288944</td>\n",
              "    </tr>\n",
              "    <tr>\n",
              "      <th>6</th>\n",
              "      <td>0.5114</td>\n",
              "      <td>1.157704</td>\n",
              "      <td>0.0968</td>\n",
              "      <td>2.301320</td>\n",
              "      <td>0.8798</td>\n",
              "      <td>0.398103</td>\n",
              "    </tr>\n",
              "    <tr>\n",
              "      <th>7</th>\n",
              "      <td>0.5986</td>\n",
              "      <td>1.104713</td>\n",
              "      <td>0.0976</td>\n",
              "      <td>2.301078</td>\n",
              "      <td>0.8823</td>\n",
              "      <td>0.253041</td>\n",
              "    </tr>\n",
              "    <tr>\n",
              "      <th>8</th>\n",
              "      <td>0.6244</td>\n",
              "      <td>0.834160</td>\n",
              "      <td>0.1004</td>\n",
              "      <td>2.302269</td>\n",
              "      <td>0.8879</td>\n",
              "      <td>0.236024</td>\n",
              "    </tr>\n",
              "    <tr>\n",
              "      <th>9</th>\n",
              "      <td>0.6321</td>\n",
              "      <td>0.997662</td>\n",
              "      <td>0.1003</td>\n",
              "      <td>2.303796</td>\n",
              "      <td>0.8946</td>\n",
              "      <td>0.267509</td>\n",
              "    </tr>\n",
              "  </tbody>\n",
              "</table>\n",
              "</div>"
            ],
            "text/plain": [
              "       SGD              AdamW               Adam          \n",
              "  accuracy      loss accuracy      loss accuracy      loss\n",
              "0   0.1300  2.302470   0.1039  2.301218   0.8193  0.348169\n",
              "1   0.1551  2.300724   0.1020  2.302879   0.8400  0.342953\n",
              "2   0.1880  2.298950   0.0995  2.301322   0.8682  0.332419\n",
              "3   0.2325  2.293018   0.0981  2.303951   0.8743  0.226865\n",
              "4   0.2638  2.287746   0.0966  2.302387   0.8837  0.474910\n",
              "5   0.2181  2.247393   0.1006  2.303426   0.8884  0.288944\n",
              "6   0.5114  1.157704   0.0968  2.301320   0.8798  0.398103\n",
              "7   0.5986  1.104713   0.0976  2.301078   0.8823  0.253041\n",
              "8   0.6244  0.834160   0.1004  2.302269   0.8879  0.236024\n",
              "9   0.6321  0.997662   0.1003  2.303796   0.8946  0.267509"
            ]
          },
          "metadata": {
            "tags": []
          },
          "execution_count": 43
        }
      ]
    },
    {
      "cell_type": "code",
      "metadata": {
        "id": "K6eCiVfXa-uC"
      },
      "source": [
        "df.to_csv('csv/different_optimizers.csv')"
      ],
      "execution_count": 46,
      "outputs": []
    },
    {
      "cell_type": "code",
      "metadata": {
        "id": "8VecmDIwdzvn",
        "outputId": "bfa2a800-cd43-4030-efb1-c0c923260a1a",
        "colab": {
          "base_uri": "https://localhost:8080/",
          "height": 423
        }
      },
      "source": [
        "fig, (ax1, ax2) = plt.subplots(1, 2, sharey=False, figsize=(15,6))\r\n",
        "\r\n",
        "ax1.plot(np.arange(EPOCHS), df[('SGD', 'accuracy')], label='SGD')\r\n",
        "ax1.plot(np.arange(EPOCHS), df[('AdamW', 'accuracy')], label='AdamW')\r\n",
        "ax1.plot(np.arange(EPOCHS), df[('Adam', 'accuracy')], label='Adam')\r\n",
        "ax2.plot(np.arange(EPOCHS), df[('SGD', 'loss')], label='SGD')\r\n",
        "ax2.plot(np.arange(EPOCHS), df[('AdamW', 'loss')], label='AdamW')\r\n",
        "ax2.plot(np.arange(EPOCHS), df[('Adam', 'loss')], label='Adam')\r\n",
        "ax1.set_ylim(0,1)\r\n",
        "ax1.set_title(\"Test accuracy during epochs in function of optimizers\")\r\n",
        "ax2.set_title(\"Train loss during epochs in function of optimizers\")\r\n",
        "plt.legend(loc='center left')\r\n",
        "\r\n",
        "for ax in [ax1, ax2]:\r\n",
        "  ax.set_xlabel(\"Epochs\")\r\n",
        "\r\n",
        "ax1.set_ylabel(\"Test accuracy\")\r\n",
        "ax2.set_ylabel(\"Train loss\")"
      ],
      "execution_count": 56,
      "outputs": [
        {
          "output_type": "execute_result",
          "data": {
            "text/plain": [
              "Text(0, 0.5, 'Train loss')"
            ]
          },
          "metadata": {
            "tags": []
          },
          "execution_count": 56
        },
        {
          "output_type": "display_data",
          "data": {
            "image/png": "[encoded data removed]",
            "text/plain": [
              "<Figure size 1080x432 with 2 Axes>"
            ]
          },
          "metadata": {
            "tags": [],
            "needs_background": "light"
          }
        }
      ]
    },
    {
      "cell_type": "code",
      "metadata": {
        "id": "2TfryxXCXxvb",
        "outputId": "b1aa50f3-f7bf-402d-8124-bf39d7c725a4",
        "colab": {
          "base_uri": "https://localhost:8080/"
        }
      },
      "source": [
        "optimizer = optim.AdamW(alexnet_model.parameters(),  lr=0.0001)\r\n",
        "\r\n",
        "for epoch in range(EPOCHS):\r\n",
        "  losses_an.extend(train_model(train_loader, device, alexnet_model, optimizer, epoch,  EPOCHS, batch_size)[-nb_batch:])\r\n",
        "  accuracies_an.append(evaluate_model(alexnet_model, device, test_loader, losses_an[-1], EPOCHS, epoch, batch_size, len(train_loader.dataset)))"
      ],
      "execution_count": 45,
      "outputs": [
        {
          "output_type": "stream",
          "text": [
            " Train Epoch: 1/10 [60000/60000 (100%)]\tLoss: 2.311103\t Test Accuracy: 9.2300%\n",
            " Train Epoch: 2/10 [60000/60000 (100%)]\tLoss: 2.299285\t Test Accuracy: 9.9600%\n",
            " Train Epoch: 3/10 [60000/60000 (100%)]\tLoss: 2.303412\t Test Accuracy: 9.8100%\n",
            " Train Epoch: 4/10 [60000/60000 (100%)]\tLoss: 2.304818\t Test Accuracy: 9.6500%\n",
            " Train Epoch: 5/10 [60000/60000 (100%)]\tLoss: 2.306070\t Test Accuracy: 10.1600%\n",
            " Train Epoch: 6/10 [60000/60000 (100%)]\tLoss: 2.306047\t Test Accuracy: 10.4800%\n",
            " Train Epoch: 7/10 [60000/60000 (100%)]\tLoss: 2.296131\t Test Accuracy: 9.8100%\n",
            " Train Epoch: 8/10 [60000/60000 (100%)]\tLoss: 2.300194\t Test Accuracy: 9.8100%\n",
            " Train Epoch: 9/10 [60000/60000 (100%)]\tLoss: 2.306978\t Test Accuracy: 10.2400%\n",
            " Train Epoch: 10/10 [60000/60000 (100%)]\tLoss: 2.300343\t Test Accuracy: 10.3700%\n"
          ],
          "name": "stdout"
        }
      ]
    }
  ]
}