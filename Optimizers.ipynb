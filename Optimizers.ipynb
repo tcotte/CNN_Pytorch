{
  "nbformat": 4,
  "nbformat_minor": 0,
  "metadata": {
    "colab": {
      "name": "Optimizers.ipynb",
      "provenance": [],
      "authorship_tag": "ABX9TyPgqeFG0D1Psv/HNlAYi7Ya",
      "include_colab_link": true
    },
    "kernelspec": {
      "name": "python3",
      "display_name": "Python 3"
    },
    "accelerator": "GPU"
  },
  "cells": [
    {
      "cell_type": "markdown",
      "metadata": {
        "id": "view-in-github",
        "colab_type": "text"
      },
      "source": [
        "<a href=\"https://colab.research.google.com/github/tcotte/CNN_Pytorch/blob/master/Optimizers.ipynb\" target=\"_parent\"><img src=\"https://colab.research.google.com/assets/colab-badge.svg\" alt=\"Open In Colab\"/></a>"
      ]
    },
    {
      "cell_type": "markdown",
      "metadata": {
        "id": "pM0cRdn8G9sW"
      },
      "source": [
        "## Optimizers"
      ]
    },
    {
      "cell_type": "code",
      "metadata": {
        "colab": {
          "base_uri": "https://localhost:8080/"
        },
        "id": "WHW3JHYZGNwB",
        "outputId": "7ace7484-457e-417d-9807-157f2ef59469"
      },
      "source": [
        "!git clone https://github.com/tcotte/CNN_Pytorch\r\n",
        "%cd CNN_Pytorch"
      ],
      "execution_count": 1,
      "outputs": [
        {
          "output_type": "stream",
          "text": [
            "fatal: destination path 'CNN_Pytorch' already exists and is not an empty directory.\n",
            "/content/CNN_Pytorch\n"
          ],
          "name": "stdout"
        }
      ]
    },
    {
      "cell_type": "code",
      "metadata": {
        "id": "voioApIwGfrW"
      },
      "source": [
        "import numpy\r\n",
        "import numpy as np\r\n",
        "import torch\r\n",
        "import torch.nn as nn\r\n",
        "import torch.nn.functional as F\r\n",
        "import torch.utils.data.dataloader as dataloader\r\n",
        "import torch.optim as optim\r\n",
        "\r\n",
        "from torch.utils.data import TensorDataset\r\n",
        "from torchvision import transforms\r\n",
        "from torchvision.datasets import MNIST\r\n",
        "import matplotlib.pyplot as plt\r\n",
        "\r\n",
        "SEED = 1\r\n",
        "\r\n",
        "# CUDA?\r\n",
        "cuda = torch.cuda.is_available()\r\n",
        "\r\n",
        "# For reproducibility\r\n",
        "torch.manual_seed(SEED)\r\n",
        "device = torch.device(\"cuda\" if cuda else \"cpu\")\r\n",
        "\r\n",
        "if cuda:\r\n",
        "    torch.cuda.manual_seed(SEED)"
      ],
      "execution_count": 2,
      "outputs": []
    },
    {
      "cell_type": "markdown",
      "metadata": {
        "id": "XsP9EceMGnBQ"
      },
      "source": [
        "We are going to use the alex architecture and try different optimizers on this notebook."
      ]
    },
    {
      "cell_type": "code",
      "metadata": {
        "id": "kGDtPncgGilA"
      },
      "source": [
        "from torchvision import transforms\r\n",
        "\r\n",
        "AlexTransform = transforms.Compose([\r\n",
        "    transforms.Resize((227, 227)),\r\n",
        "    transforms.ToTensor(),\r\n",
        "    transforms.Normalize((0.1307,), (0.3081,))\r\n",
        "])"
      ],
      "execution_count": 3,
      "outputs": []
    },
    {
      "cell_type": "markdown",
      "metadata": {
        "id": "LJqlCKNNG6TM"
      },
      "source": [
        "### Load Dataset"
      ]
    },
    {
      "cell_type": "code",
      "metadata": {
        "id": "P8qTRquXG4gq"
      },
      "source": [
        "import os\r\n",
        "import torchvision\r\n",
        "\r\n",
        "class_names = ['T-shirt/top', 'Trouser', 'Pullover', 'Dress', 'Coat',\r\n",
        "               'Sandal', 'Shirt', 'Sneaker', 'Bag', 'Ankle boot']\r\n",
        "\r\n",
        "batch_size=256\r\n",
        "dataset_dir = os.path.join(os.path.expanduser(\"~\"), 'Datasets', 'FashionMNIST')\r\n",
        "\r\n",
        "# Load the dataset for alexnet arch\r\n",
        "train_dataset = torchvision.datasets.FashionMNIST(root=dataset_dir,\r\n",
        "                                           train=True,\r\n",
        "                                           transform= AlexTransform,\r\n",
        "                                           download=True)\r\n",
        "\r\n",
        "test_dataset = torchvision.datasets.FashionMNIST(root=dataset_dir,\r\n",
        "                                           train=False,\r\n",
        "                                           transform= AlexTransform,\r\n",
        "                                           download=True)\r\n",
        "\r\n",
        "train_loader = torch.utils.data.DataLoader(dataset=train_dataset,\r\n",
        "                                          batch_size=batch_size,\r\n",
        "                                          shuffle=True,                \r\n",
        "                                          num_workers=4)\r\n",
        "\r\n",
        "test_loader = torch.utils.data.DataLoader(dataset=test_dataset,\r\n",
        "                                          batch_size=batch_size,\r\n",
        "                                          shuffle=True,                \r\n",
        "                                          num_workers=4)"
      ],
      "execution_count": 4,
      "outputs": []
    },
    {
      "cell_type": "code",
      "metadata": {
        "id": "_pPtgV07HM29",
        "colab": {
          "base_uri": "https://localhost:8080/",
          "height": 281
        },
        "outputId": "9bb64e89-0529-45ea-b107-3fd6bd0d9c14"
      },
      "source": [
        "from functions.plot_picture import matplotlib_imshow\r\n",
        "\r\n",
        "# get some random training images\r\n",
        "dataiter = iter(train_loader)\r\n",
        "\r\n",
        "images, labels = dataiter.next()\r\n",
        "\r\n",
        "# # creat grid of images\r\n",
        "img_grid = torchvision.utils.make_grid(images[0])\r\n",
        "\r\n",
        "# # show images & labels\r\n",
        "matplotlib_imshow(img_grid, class_names[labels[0]])"
      ],
      "execution_count": 5,
      "outputs": [
        {
          "output_type": "display_data",
          "data": {
            "image/png": "[encoded data removed]",
            "text/plain": [
              "<Figure size 432x288 with 1 Axes>"
            ]
          },
          "metadata": {
            "tags": [],
            "needs_background": "light"
          }
        }
      ]
    },
    {
      "cell_type": "code",
      "metadata": {
        "id": "cvCrIAmfHiAo",
        "colab": {
          "base_uri": "https://localhost:8080/",
          "height": 405
        },
        "outputId": "a10abba2-a758-4242-ed2b-ff4e07b77f8f"
      },
      "source": [
        "from functions.training import train_model, evaluate_model\r\n",
        "from models.alexnet_arch import AlexNet\r\n",
        "from models.lenet_arch import Model_Type_LeNet\r\n",
        "import torch.optim as optim\r\n",
        "\r\n",
        "EPOCHS = 10\r\n",
        "losses_an = []\r\n",
        "accuracies_an = []\r\n",
        "nb_batch = int(np.ceil(len(train_loader.dataset)/batch_size))\r\n",
        "\r\n",
        "alexnet_model = AlexNet()\r\n",
        "\r\n",
        "optimizers = {\"SGD\": optim.SGD(alexnet_model.parameters(),  lr=0.001),\r\n",
        "             \"AdamW\": optim.AdamW(alexnet_model.parameters(),  lr=0.001),\r\n",
        "            #  \"Adagrad\": optim.Adagrad(alexnet_model.parameters(),  lr=0.001),\r\n",
        "             \"Adam\": optim.Adam(alexnet_model.parameters(),  lr=0.001)\r\n",
        "}\r\n",
        "\r\n",
        "alexnet_model.to(device)\r\n",
        "for opt in optimizers:\r\n",
        "  print(\"<================ \"+opt+\" ================>\")\r\n",
        "  for epoch in range(EPOCHS):\r\n",
        "    losses_an.extend(train_model(train_loader, device, alexnet_model, optimizers[opt], epoch,  EPOCHS, batch_size)[-nb_batch:])\r\n",
        "    accuracies_an.append(evaluate_model(alexnet_model, device, test_loader, losses_an[-1], EPOCHS, epoch, batch_size, len(train_loader.dataset)))"
      ],
      "execution_count": 6,
      "outputs": [
        {
          "output_type": "stream",
          "text": [
            "<================ SGD ================>\n"
          ],
          "name": "stdout"
        },
        {
          "output_type": "error",
          "ename": "KeyboardInterrupt",
          "evalue": "ignored",
          "traceback": [
            "\u001b[0;31m---------------------------------------------------------------------------\u001b[0m",
            "\u001b[0;31mKeyboardInterrupt\u001b[0m                         Traceback (most recent call last)",
            "\u001b[0;32m<ipython-input-6-1efe762b0013>\u001b[0m in \u001b[0;36m<module>\u001b[0;34m()\u001b[0m\n\u001b[1;32m     21\u001b[0m   \u001b[0mprint\u001b[0m\u001b[0;34m(\u001b[0m\u001b[0;34m\"<================ \"\u001b[0m\u001b[0;34m+\u001b[0m\u001b[0mopt\u001b[0m\u001b[0;34m+\u001b[0m\u001b[0;34m\" ================>\"\u001b[0m\u001b[0;34m)\u001b[0m\u001b[0;34m\u001b[0m\u001b[0;34m\u001b[0m\u001b[0m\n\u001b[1;32m     22\u001b[0m   \u001b[0;32mfor\u001b[0m \u001b[0mepoch\u001b[0m \u001b[0;32min\u001b[0m \u001b[0mrange\u001b[0m\u001b[0;34m(\u001b[0m\u001b[0mEPOCHS\u001b[0m\u001b[0;34m)\u001b[0m\u001b[0;34m:\u001b[0m\u001b[0;34m\u001b[0m\u001b[0;34m\u001b[0m\u001b[0m\n\u001b[0;32m---> 23\u001b[0;31m     \u001b[0mlosses_an\u001b[0m\u001b[0;34m.\u001b[0m\u001b[0mextend\u001b[0m\u001b[0;34m(\u001b[0m\u001b[0mtrain_model\u001b[0m\u001b[0;34m(\u001b[0m\u001b[0mtrain_loader\u001b[0m\u001b[0;34m,\u001b[0m \u001b[0mdevice\u001b[0m\u001b[0;34m,\u001b[0m \u001b[0malexnet_model\u001b[0m\u001b[0;34m,\u001b[0m \u001b[0moptimizers\u001b[0m\u001b[0;34m[\u001b[0m\u001b[0mopt\u001b[0m\u001b[0;34m]\u001b[0m\u001b[0;34m,\u001b[0m \u001b[0mepoch\u001b[0m\u001b[0;34m,\u001b[0m  \u001b[0mEPOCHS\u001b[0m\u001b[0;34m,\u001b[0m \u001b[0mbatch_size\u001b[0m\u001b[0;34m)\u001b[0m\u001b[0;34m[\u001b[0m\u001b[0;34m-\u001b[0m\u001b[0mnb_batch\u001b[0m\u001b[0;34m:\u001b[0m\u001b[0;34m]\u001b[0m\u001b[0;34m)\u001b[0m\u001b[0;34m\u001b[0m\u001b[0;34m\u001b[0m\u001b[0m\n\u001b[0m\u001b[1;32m     24\u001b[0m     \u001b[0maccuracies_an\u001b[0m\u001b[0;34m.\u001b[0m\u001b[0mappend\u001b[0m\u001b[0;34m(\u001b[0m\u001b[0mevaluate_model\u001b[0m\u001b[0;34m(\u001b[0m\u001b[0malexnet_model\u001b[0m\u001b[0;34m,\u001b[0m \u001b[0mdevice\u001b[0m\u001b[0;34m,\u001b[0m \u001b[0mtest_loader\u001b[0m\u001b[0;34m,\u001b[0m \u001b[0mlosses_an\u001b[0m\u001b[0;34m[\u001b[0m\u001b[0;34m-\u001b[0m\u001b[0;36m1\u001b[0m\u001b[0;34m]\u001b[0m\u001b[0;34m,\u001b[0m \u001b[0mEPOCHS\u001b[0m\u001b[0;34m,\u001b[0m \u001b[0mepoch\u001b[0m\u001b[0;34m,\u001b[0m \u001b[0mbatch_size\u001b[0m\u001b[0;34m,\u001b[0m \u001b[0mlen\u001b[0m\u001b[0;34m(\u001b[0m\u001b[0mtrain_loader\u001b[0m\u001b[0;34m.\u001b[0m\u001b[0mdataset\u001b[0m\u001b[0;34m)\u001b[0m\u001b[0;34m)\u001b[0m\u001b[0;34m)\u001b[0m\u001b[0;34m\u001b[0m\u001b[0;34m\u001b[0m\u001b[0m\n",
            "\u001b[0;32m/content/CNN_Pytorch/functions/training.py\u001b[0m in \u001b[0;36mtrain_model\u001b[0;34m(train_loader, device, model, optimizer, epoch, EPOCHS, BATCH_SIZE)\u001b[0m\n\u001b[1;32m     16\u001b[0m \u001b[0;34m\u001b[0m\u001b[0m\n\u001b[1;32m     17\u001b[0m         \u001b[0;31m# Predict\u001b[0m\u001b[0;34m\u001b[0m\u001b[0;34m\u001b[0m\u001b[0;34m\u001b[0m\u001b[0m\n\u001b[0;32m---> 18\u001b[0;31m         \u001b[0my_pred\u001b[0m \u001b[0;34m=\u001b[0m \u001b[0mmodel\u001b[0m\u001b[0;34m(\u001b[0m\u001b[0mdata\u001b[0m\u001b[0;34m)\u001b[0m\u001b[0;34m\u001b[0m\u001b[0;34m\u001b[0m\u001b[0m\n\u001b[0m\u001b[1;32m     19\u001b[0m \u001b[0;34m\u001b[0m\u001b[0m\n\u001b[1;32m     20\u001b[0m         \u001b[0;31m# Calculate loss\u001b[0m\u001b[0;34m\u001b[0m\u001b[0;34m\u001b[0m\u001b[0;34m\u001b[0m\u001b[0m\n",
            "\u001b[0;32m/usr/local/lib/python3.6/dist-packages/torch/nn/modules/module.py\u001b[0m in \u001b[0;36m_call_impl\u001b[0;34m(self, *input, **kwargs)\u001b[0m\n\u001b[1;32m    725\u001b[0m             \u001b[0mresult\u001b[0m \u001b[0;34m=\u001b[0m \u001b[0mself\u001b[0m\u001b[0;34m.\u001b[0m\u001b[0m_slow_forward\u001b[0m\u001b[0;34m(\u001b[0m\u001b[0;34m*\u001b[0m\u001b[0minput\u001b[0m\u001b[0;34m,\u001b[0m \u001b[0;34m**\u001b[0m\u001b[0mkwargs\u001b[0m\u001b[0;34m)\u001b[0m\u001b[0;34m\u001b[0m\u001b[0;34m\u001b[0m\u001b[0m\n\u001b[1;32m    726\u001b[0m         \u001b[0;32melse\u001b[0m\u001b[0;34m:\u001b[0m\u001b[0;34m\u001b[0m\u001b[0;34m\u001b[0m\u001b[0m\n\u001b[0;32m--> 727\u001b[0;31m             \u001b[0mresult\u001b[0m \u001b[0;34m=\u001b[0m \u001b[0mself\u001b[0m\u001b[0;34m.\u001b[0m\u001b[0mforward\u001b[0m\u001b[0;34m(\u001b[0m\u001b[0;34m*\u001b[0m\u001b[0minput\u001b[0m\u001b[0;34m,\u001b[0m \u001b[0;34m**\u001b[0m\u001b[0mkwargs\u001b[0m\u001b[0;34m)\u001b[0m\u001b[0;34m\u001b[0m\u001b[0;34m\u001b[0m\u001b[0m\n\u001b[0m\u001b[1;32m    728\u001b[0m         for hook in itertools.chain(\n\u001b[1;32m    729\u001b[0m                 \u001b[0m_global_forward_hooks\u001b[0m\u001b[0;34m.\u001b[0m\u001b[0mvalues\u001b[0m\u001b[0;34m(\u001b[0m\u001b[0;34m)\u001b[0m\u001b[0;34m,\u001b[0m\u001b[0;34m\u001b[0m\u001b[0;34m\u001b[0m\u001b[0m\n",
            "\u001b[0;32m/content/CNN_Pytorch/models/alexnet_arch.py\u001b[0m in \u001b[0;36mforward\u001b[0;34m(self, x)\u001b[0m\n\u001b[1;32m     38\u001b[0m         \u001b[0mout\u001b[0m \u001b[0;34m=\u001b[0m \u001b[0mself\u001b[0m\u001b[0;34m.\u001b[0m\u001b[0mc3\u001b[0m\u001b[0;34m(\u001b[0m\u001b[0mout\u001b[0m\u001b[0;34m)\u001b[0m\u001b[0;34m\u001b[0m\u001b[0;34m\u001b[0m\u001b[0m\n\u001b[1;32m     39\u001b[0m         \u001b[0mout\u001b[0m \u001b[0;34m=\u001b[0m \u001b[0mself\u001b[0m\u001b[0;34m.\u001b[0m\u001b[0mc5\u001b[0m\u001b[0;34m(\u001b[0m\u001b[0mout\u001b[0m\u001b[0;34m)\u001b[0m\u001b[0;34m\u001b[0m\u001b[0;34m\u001b[0m\u001b[0m\n\u001b[0;32m---> 40\u001b[0;31m         \u001b[0mout\u001b[0m \u001b[0;34m=\u001b[0m \u001b[0mself\u001b[0m\u001b[0;34m.\u001b[0m\u001b[0mc6\u001b[0m\u001b[0;34m(\u001b[0m\u001b[0mout\u001b[0m\u001b[0;34m)\u001b[0m\u001b[0;34m\u001b[0m\u001b[0;34m\u001b[0m\u001b[0m\n\u001b[0m\u001b[1;32m     41\u001b[0m         \u001b[0mout\u001b[0m \u001b[0;34m=\u001b[0m \u001b[0mself\u001b[0m\u001b[0;34m.\u001b[0m\u001b[0mc7\u001b[0m\u001b[0;34m(\u001b[0m\u001b[0mout\u001b[0m\u001b[0;34m)\u001b[0m\u001b[0;34m\u001b[0m\u001b[0;34m\u001b[0m\u001b[0m\n\u001b[1;32m     42\u001b[0m         \u001b[0mout\u001b[0m \u001b[0;34m=\u001b[0m \u001b[0mout\u001b[0m\u001b[0;34m.\u001b[0m\u001b[0mview\u001b[0m\u001b[0;34m(\u001b[0m\u001b[0mout\u001b[0m\u001b[0;34m.\u001b[0m\u001b[0msize\u001b[0m\u001b[0;34m(\u001b[0m\u001b[0;36m0\u001b[0m\u001b[0;34m)\u001b[0m\u001b[0;34m,\u001b[0m \u001b[0;34m-\u001b[0m\u001b[0;36m1\u001b[0m\u001b[0;34m)\u001b[0m\u001b[0;34m\u001b[0m\u001b[0;34m\u001b[0m\u001b[0m\n",
            "\u001b[0;32m/usr/local/lib/python3.6/dist-packages/torch/nn/modules/module.py\u001b[0m in \u001b[0;36m_call_impl\u001b[0;34m(self, *input, **kwargs)\u001b[0m\n\u001b[1;32m    725\u001b[0m             \u001b[0mresult\u001b[0m \u001b[0;34m=\u001b[0m \u001b[0mself\u001b[0m\u001b[0;34m.\u001b[0m\u001b[0m_slow_forward\u001b[0m\u001b[0;34m(\u001b[0m\u001b[0;34m*\u001b[0m\u001b[0minput\u001b[0m\u001b[0;34m,\u001b[0m \u001b[0;34m**\u001b[0m\u001b[0mkwargs\u001b[0m\u001b[0;34m)\u001b[0m\u001b[0;34m\u001b[0m\u001b[0;34m\u001b[0m\u001b[0m\n\u001b[1;32m    726\u001b[0m         \u001b[0;32melse\u001b[0m\u001b[0;34m:\u001b[0m\u001b[0;34m\u001b[0m\u001b[0;34m\u001b[0m\u001b[0m\n\u001b[0;32m--> 727\u001b[0;31m             \u001b[0mresult\u001b[0m \u001b[0;34m=\u001b[0m \u001b[0mself\u001b[0m\u001b[0;34m.\u001b[0m\u001b[0mforward\u001b[0m\u001b[0;34m(\u001b[0m\u001b[0;34m*\u001b[0m\u001b[0minput\u001b[0m\u001b[0;34m,\u001b[0m \u001b[0;34m**\u001b[0m\u001b[0mkwargs\u001b[0m\u001b[0;34m)\u001b[0m\u001b[0;34m\u001b[0m\u001b[0;34m\u001b[0m\u001b[0m\n\u001b[0m\u001b[1;32m    728\u001b[0m         for hook in itertools.chain(\n\u001b[1;32m    729\u001b[0m                 \u001b[0m_global_forward_hooks\u001b[0m\u001b[0;34m.\u001b[0m\u001b[0mvalues\u001b[0m\u001b[0;34m(\u001b[0m\u001b[0;34m)\u001b[0m\u001b[0;34m,\u001b[0m\u001b[0;34m\u001b[0m\u001b[0;34m\u001b[0m\u001b[0m\n",
            "\u001b[0;32m/usr/local/lib/python3.6/dist-packages/torch/nn/modules/container.py\u001b[0m in \u001b[0;36mforward\u001b[0;34m(self, input)\u001b[0m\n\u001b[1;32m    115\u001b[0m     \u001b[0;32mdef\u001b[0m \u001b[0mforward\u001b[0m\u001b[0;34m(\u001b[0m\u001b[0mself\u001b[0m\u001b[0;34m,\u001b[0m \u001b[0minput\u001b[0m\u001b[0;34m)\u001b[0m\u001b[0;34m:\u001b[0m\u001b[0;34m\u001b[0m\u001b[0;34m\u001b[0m\u001b[0m\n\u001b[1;32m    116\u001b[0m         \u001b[0;32mfor\u001b[0m \u001b[0mmodule\u001b[0m \u001b[0;32min\u001b[0m \u001b[0mself\u001b[0m\u001b[0;34m:\u001b[0m\u001b[0;34m\u001b[0m\u001b[0;34m\u001b[0m\u001b[0m\n\u001b[0;32m--> 117\u001b[0;31m             \u001b[0minput\u001b[0m \u001b[0;34m=\u001b[0m \u001b[0mmodule\u001b[0m\u001b[0;34m(\u001b[0m\u001b[0minput\u001b[0m\u001b[0;34m)\u001b[0m\u001b[0;34m\u001b[0m\u001b[0;34m\u001b[0m\u001b[0m\n\u001b[0m\u001b[1;32m    118\u001b[0m         \u001b[0;32mreturn\u001b[0m \u001b[0minput\u001b[0m\u001b[0;34m\u001b[0m\u001b[0;34m\u001b[0m\u001b[0m\n\u001b[1;32m    119\u001b[0m \u001b[0;34m\u001b[0m\u001b[0m\n",
            "\u001b[0;32m/usr/local/lib/python3.6/dist-packages/torch/nn/modules/module.py\u001b[0m in \u001b[0;36m_call_impl\u001b[0;34m(self, *input, **kwargs)\u001b[0m\n\u001b[1;32m    725\u001b[0m             \u001b[0mresult\u001b[0m \u001b[0;34m=\u001b[0m \u001b[0mself\u001b[0m\u001b[0;34m.\u001b[0m\u001b[0m_slow_forward\u001b[0m\u001b[0;34m(\u001b[0m\u001b[0;34m*\u001b[0m\u001b[0minput\u001b[0m\u001b[0;34m,\u001b[0m \u001b[0;34m**\u001b[0m\u001b[0mkwargs\u001b[0m\u001b[0;34m)\u001b[0m\u001b[0;34m\u001b[0m\u001b[0;34m\u001b[0m\u001b[0m\n\u001b[1;32m    726\u001b[0m         \u001b[0;32melse\u001b[0m\u001b[0;34m:\u001b[0m\u001b[0;34m\u001b[0m\u001b[0;34m\u001b[0m\u001b[0m\n\u001b[0;32m--> 727\u001b[0;31m             \u001b[0mresult\u001b[0m \u001b[0;34m=\u001b[0m \u001b[0mself\u001b[0m\u001b[0;34m.\u001b[0m\u001b[0mforward\u001b[0m\u001b[0;34m(\u001b[0m\u001b[0;34m*\u001b[0m\u001b[0minput\u001b[0m\u001b[0;34m,\u001b[0m \u001b[0;34m**\u001b[0m\u001b[0mkwargs\u001b[0m\u001b[0;34m)\u001b[0m\u001b[0;34m\u001b[0m\u001b[0;34m\u001b[0m\u001b[0m\n\u001b[0m\u001b[1;32m    728\u001b[0m         for hook in itertools.chain(\n\u001b[1;32m    729\u001b[0m                 \u001b[0m_global_forward_hooks\u001b[0m\u001b[0;34m.\u001b[0m\u001b[0mvalues\u001b[0m\u001b[0;34m(\u001b[0m\u001b[0;34m)\u001b[0m\u001b[0;34m,\u001b[0m\u001b[0;34m\u001b[0m\u001b[0;34m\u001b[0m\u001b[0m\n",
            "\u001b[0;32m/usr/local/lib/python3.6/dist-packages/torch/nn/modules/conv.py\u001b[0m in \u001b[0;36mforward\u001b[0;34m(self, input)\u001b[0m\n\u001b[1;32m    421\u001b[0m \u001b[0;34m\u001b[0m\u001b[0m\n\u001b[1;32m    422\u001b[0m     \u001b[0;32mdef\u001b[0m \u001b[0mforward\u001b[0m\u001b[0;34m(\u001b[0m\u001b[0mself\u001b[0m\u001b[0;34m,\u001b[0m \u001b[0minput\u001b[0m\u001b[0;34m:\u001b[0m \u001b[0mTensor\u001b[0m\u001b[0;34m)\u001b[0m \u001b[0;34m->\u001b[0m \u001b[0mTensor\u001b[0m\u001b[0;34m:\u001b[0m\u001b[0;34m\u001b[0m\u001b[0;34m\u001b[0m\u001b[0m\n\u001b[0;32m--> 423\u001b[0;31m         \u001b[0;32mreturn\u001b[0m \u001b[0mself\u001b[0m\u001b[0;34m.\u001b[0m\u001b[0m_conv_forward\u001b[0m\u001b[0;34m(\u001b[0m\u001b[0minput\u001b[0m\u001b[0;34m,\u001b[0m \u001b[0mself\u001b[0m\u001b[0;34m.\u001b[0m\u001b[0mweight\u001b[0m\u001b[0;34m)\u001b[0m\u001b[0;34m\u001b[0m\u001b[0;34m\u001b[0m\u001b[0m\n\u001b[0m\u001b[1;32m    424\u001b[0m \u001b[0;34m\u001b[0m\u001b[0m\n\u001b[1;32m    425\u001b[0m \u001b[0;32mclass\u001b[0m \u001b[0mConv3d\u001b[0m\u001b[0;34m(\u001b[0m\u001b[0m_ConvNd\u001b[0m\u001b[0;34m)\u001b[0m\u001b[0;34m:\u001b[0m\u001b[0;34m\u001b[0m\u001b[0;34m\u001b[0m\u001b[0m\n",
            "\u001b[0;32m/usr/local/lib/python3.6/dist-packages/torch/nn/modules/conv.py\u001b[0m in \u001b[0;36m_conv_forward\u001b[0;34m(self, input, weight)\u001b[0m\n\u001b[1;32m    418\u001b[0m                             _pair(0), self.dilation, self.groups)\n\u001b[1;32m    419\u001b[0m         return F.conv2d(input, weight, self.bias, self.stride,\n\u001b[0;32m--> 420\u001b[0;31m                         self.padding, self.dilation, self.groups)\n\u001b[0m\u001b[1;32m    421\u001b[0m \u001b[0;34m\u001b[0m\u001b[0m\n\u001b[1;32m    422\u001b[0m     \u001b[0;32mdef\u001b[0m \u001b[0mforward\u001b[0m\u001b[0;34m(\u001b[0m\u001b[0mself\u001b[0m\u001b[0;34m,\u001b[0m \u001b[0minput\u001b[0m\u001b[0;34m:\u001b[0m \u001b[0mTensor\u001b[0m\u001b[0;34m)\u001b[0m \u001b[0;34m->\u001b[0m \u001b[0mTensor\u001b[0m\u001b[0;34m:\u001b[0m\u001b[0;34m\u001b[0m\u001b[0;34m\u001b[0m\u001b[0m\n",
            "\u001b[0;31mKeyboardInterrupt\u001b[0m: "
          ]
        }
      ]
    },
    {
      "cell_type": "code",
      "metadata": {
        "id": "2UjxLQwWQuq9",
        "colab": {
          "base_uri": "https://localhost:8080/"
        },
        "outputId": "dc667f84-dcc4-4e7b-a8df-48688adaafe2"
      },
      "source": [
        "device"
      ],
      "execution_count": 7,
      "outputs": [
        {
          "output_type": "execute_result",
          "data": {
            "text/plain": [
              "device(type='cpu')"
            ]
          },
          "metadata": {
            "tags": []
          },
          "execution_count": 7
        }
      ]
    },
    {
      "cell_type": "code",
      "metadata": {
        "id": "KWLJSs2NQJ3A"
      },
      "source": [
        "rest_optimizers = {\r\n",
        "             \"Adam\": optim.Adam(alexnet_model.parameters(),  lr=0.001)\r\n",
        "             }\r\n",
        "\r\n",
        "for opt in rest_optimizers:\r\n",
        "  print(\"<================ \"+opt+\" ================>\")\r\n",
        "  for epoch in range(EPOCHS):\r\n",
        "    losses_an.extend(train_model(train_loader, device, alexnet_model, optimizers[opt], epoch,  EPOCHS, batch_size)[-nb_batch:])\r\n",
        "    accuracies_an.append(evaluate_model(alexnet_model, device, test_loader, losses_an[-1], EPOCHS, epoch, batch_size, len(train_loader.dataset)))"
      ],
      "execution_count": null,
      "outputs": []
    },
    {
      "cell_type": "markdown",
      "metadata": {
        "id": "EvukAyR6WqQo"
      },
      "source": [
        "### Register in csv file"
      ]
    },
    {
      "cell_type": "code",
      "metadata": {
        "id": "0CM9eDGnWXkj"
      },
      "source": [
        "def filter_losses(losses, EPOCHS):\r\n",
        "  losses_filtered = []\r\n",
        "  for i in range(EPOCHS):\r\n",
        "    if i==0:\r\n",
        "      losses_filtered.append(losses[nb_batch-1])\r\n",
        "    else:\r\n",
        "      losses_filtered.append(losses[nb_batch-1+nb_batch*i])\r\n",
        "  return losses_filtered"
      ],
      "execution_count": null,
      "outputs": []
    },
    {
      "cell_type": "code",
      "metadata": {
        "id": "WNr30VWWWpi3"
      },
      "source": [
        "import pandas as pd \r\n",
        "\r\n",
        "d = {('SGD', 'accuracy'): accuracies_an[:10],\r\n",
        "     ('SGD', 'loss'): filter_losses(losses_an[:2350], EPOCHS),\r\n",
        "     ('AdamW','accuracy'): accuracies_an[10:20],\r\n",
        "     ('AdamW','loss'): filter_losses(losses_an[2350:2350*2], EPOCHS),\r\n",
        "     ('Adam','accuracy'): accuracies_an[20:],\r\n",
        "     ('Adam','loss'): filter_losses(losses_an[2350*2:], EPOCHS),\r\n",
        "}\r\n",
        "l=[('SGD', 'accuracy'),  ('SGD', 'loss'), ('AdamW','accuracy'),  ('AdamW','loss'), ('Adam','accuracy'),  ('Adam','loss')]\r\n",
        "df = pd.DataFrame(data=d, columns = l)\r\n",
        "\r\n",
        "df.columns = pd.MultiIndex.from_tuples(df.columns, names=['',''])\r\n",
        "df"
      ],
      "execution_count": null,
      "outputs": []
    },
    {
      "cell_type": "code",
      "metadata": {
        "id": "K6eCiVfXa-uC"
      },
      "source": [
        "df.to_csv('csv/different_optimizers.csv')"
      ],
      "execution_count": null,
      "outputs": []
    },
    {
      "cell_type": "code",
      "metadata": {
        "id": "8VecmDIwdzvn"
      },
      "source": [
        "fig, (ax1, ax2) = plt.subplots(1, 2, sharey=False, figsize=(15,6))\r\n",
        "\r\n",
        "ax1.plot(np.arange(EPOCHS), df[('SGD', 'accuracy')], label='SGD')\r\n",
        "ax1.plot(np.arange(EPOCHS), df[('AdamW', 'accuracy')], label='AdamW')\r\n",
        "ax1.plot(np.arange(EPOCHS), df[('Adam', 'accuracy')], label='Adam')\r\n",
        "# ax2.plot(np.arange(EPOCHS), df[('SGD', 'loss')], label='SGD')\r\n",
        "# ax2.plot(np.arange(EPOCHS), df[('AdamW', 'loss')], label='AdamW')\r\n",
        "# ax2.plot(np.arange(EPOCHS), df[('Adam', 'loss')], label='Adam')\r\n",
        "ax2.plot(np.arange(2350), losses_an[:2350], label='SGD')\r\n",
        "ax2.plot(np.arange(2350), losses_an[2350:2350*2], label='AdamW')\r\n",
        "ax2.plot(np.arange(2350), losses_an[2350*2:], label='Adam')\r\n",
        "ax1.set_ylim(0,1)\r\n",
        "ax1.set_title(\"Test accuracy during epochs in function of optimizers\")\r\n",
        "ax2.set_title(\"Train loss during batch trained in function of optimizers\")\r\n",
        "plt.legend(loc='center left')\r\n",
        "\r\n",
        "for ax in [ax1, ax2]:\r\n",
        "  ax.set_xlabel(\"Epochs\")\r\n",
        "\r\n",
        "ax1.set_ylabel(\"Test accuracy\")\r\n",
        "ax2.set_ylabel(\"Train loss\")"
      ],
      "execution_count": null,
      "outputs": []
    },
    {
      "cell_type": "code",
      "metadata": {
        "id": "2TfryxXCXxvb"
      },
      "source": [
        "optimizer = optim.AdamW(alexnet_model.parameters(),  lr=0.0001)\r\n",
        "\r\n",
        "for epoch in range(EPOCHS):\r\n",
        "  losses_an.extend(train_model(train_loader, device, alexnet_model, optimizer, epoch,  EPOCHS, batch_size)[-nb_batch:])\r\n",
        "  accuracies_an.append(evaluate_model(alexnet_model, device, test_loader, losses_an[-1], EPOCHS, epoch, batch_size, len(train_loader.dataset)))"
      ],
      "execution_count": null,
      "outputs": []
    }
  ]
}