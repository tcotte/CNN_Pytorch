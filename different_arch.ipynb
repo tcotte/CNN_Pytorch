{
  "nbformat": 4,
  "nbformat_minor": 0,
  "metadata": {
    "colab": {
      "name": "different_arch.ipynb",
      "provenance": [],
      "authorship_tag": "ABX9TyPmk1iBmQ4nNTg9ZDk9DF3J",
      "include_colab_link": true
    },
    "kernelspec": {
      "name": "python3",
      "display_name": "Python 3"
    },
    "accelerator": "GPU"
  },
  "cells": [
    {
      "cell_type": "markdown",
      "metadata": {
        "id": "view-in-github",
        "colab_type": "text"
      },
      "source": [
        "<a href=\"https://colab.research.google.com/github/tcotte/CNN_Pytorch/blob/master/different_arch.ipynb\" target=\"_parent\"><img src=\"https://colab.research.google.com/assets/colab-badge.svg\" alt=\"Open In Colab\"/></a>"
      ]
    },
    {
      "cell_type": "code",
      "metadata": {
        "colab": {
          "base_uri": "https://localhost:8080/"
        },
        "id": "kDbXQWVHunBn",
        "outputId": "e8f1fac6-65f0-470d-aa71-a9b4d3b65797"
      },
      "source": [
        "!git clone https://github.com/tcotte/CNN_Pytorch"
      ],
      "execution_count": 1,
      "outputs": [
        {
          "output_type": "stream",
          "text": [
            "fatal: destination path 'CNN_Pytorch' already exists and is not an empty directory.\n"
          ],
          "name": "stdout"
        }
      ]
    },
    {
      "cell_type": "code",
      "metadata": {
        "id": "HQ5QGcvukP_t",
        "outputId": "b5f40d39-8728-4d47-cd48-4f8e9081cbf0",
        "colab": {
          "base_uri": "https://localhost:8080/"
        }
      },
      "source": [
        "%cd /content/CNN_Pytorch"
      ],
      "execution_count": 2,
      "outputs": [
        {
          "output_type": "stream",
          "text": [
            "/content/CNN_Pytorch\n"
          ],
          "name": "stdout"
        }
      ]
    },
    {
      "cell_type": "code",
      "metadata": {
        "id": "cXT30oOVu1-q"
      },
      "source": [
        "import numpy\r\n",
        "import numpy as np\r\n",
        "import torch\r\n",
        "import torch.nn as nn\r\n",
        "import torch.nn.functional as F\r\n",
        "import torch.utils.data.dataloader as dataloader\r\n",
        "import torch.optim as optim\r\n",
        "\r\n",
        "from torch.utils.data import TensorDataset\r\n",
        "from torchvision import transforms\r\n",
        "from torchvision.datasets import MNIST\r\n",
        "import matplotlib.pyplot as plt\r\n",
        "\r\n",
        "SEED = 1\r\n",
        "\r\n",
        "# CUDA?\r\n",
        "cuda = torch.cuda.is_available()\r\n",
        "\r\n",
        "# For reproducibility\r\n",
        "torch.manual_seed(SEED)\r\n",
        "device = torch.device(\"cuda\" if cuda else \"cpu\")\r\n",
        "\r\n",
        "if cuda:\r\n",
        "    torch.cuda.manual_seed(SEED)"
      ],
      "execution_count": 3,
      "outputs": []
    },
    {
      "cell_type": "markdown",
      "metadata": {
        "id": "b6E1qaMWvA6l"
      },
      "source": [
        "### Transformations"
      ]
    },
    {
      "cell_type": "code",
      "metadata": {
        "id": "0lNlLhX4u8zq"
      },
      "source": [
        "from torchvision import transforms\r\n",
        "\r\n",
        "AlexTransform = transforms.Compose([\r\n",
        "    transforms.Resize((227, 227)),\r\n",
        "    transforms.ToTensor(),\r\n",
        "    transforms.Normalize((0.1307,), (0.3081,))\r\n",
        "])\r\n",
        "\r\n",
        "NetTransform = transforms.Compose([\r\n",
        "    transforms.ToTensor(),\r\n",
        "    transforms.Normalize((0.1307,), (0.3081,))                               \r\n",
        "])"
      ],
      "execution_count": 4,
      "outputs": []
    },
    {
      "cell_type": "markdown",
      "metadata": {
        "id": "ZLX0HiaKvyhl"
      },
      "source": [
        "### Load dataset"
      ]
    },
    {
      "cell_type": "code",
      "metadata": {
        "id": "U8gc5BEcvx5d"
      },
      "source": [
        "import os\r\n",
        "import torchvision\r\n",
        "\r\n",
        "class_names = ['T-shirt/top', 'Trouser', 'Pullover', 'Dress', 'Coat',\r\n",
        "               'Sandal', 'Shirt', 'Sneaker', 'Bag', 'Ankle boot']\r\n",
        "\r\n",
        "batch_size=256\r\n",
        "dataset_dir = os.path.join(os.path.expanduser(\"~\"), 'Datasets', 'FashionMNIST')\r\n",
        "\r\n",
        "# Load the dataset for alexnet arch\r\n",
        "train_dataset_alex = torchvision.datasets.FashionMNIST(root=dataset_dir,\r\n",
        "                                           train=True,\r\n",
        "                                           transform= AlexTransform,\r\n",
        "                                           download=True)\r\n",
        "\r\n",
        "test_dataset_alex = torchvision.datasets.FashionMNIST(root=dataset_dir,\r\n",
        "                                           train=False,\r\n",
        "                                           transform= AlexTransform,\r\n",
        "                                           download=True)\r\n",
        "\r\n",
        "train_loader_alex = torch.utils.data.DataLoader(dataset=train_dataset_alex,\r\n",
        "                                          batch_size=batch_size,\r\n",
        "                                          shuffle=True,                \r\n",
        "                                          num_workers=4)\r\n",
        "\r\n",
        "test_loader_alex = torch.utils.data.DataLoader(dataset=test_dataset_alex,\r\n",
        "                                          batch_size=batch_size,\r\n",
        "                                          shuffle=True,                \r\n",
        "                                          num_workers=4)\r\n",
        "# Load the dataset for lenet arch\r\n",
        "train_dataset_lenet = torchvision.datasets.FashionMNIST(root=dataset_dir,\r\n",
        "                                           train=True,\r\n",
        "                                           transform= NetTransform,\r\n",
        "                                           download=True)\r\n",
        "\r\n",
        "test_dataset_lenet = torchvision.datasets.FashionMNIST(root=dataset_dir,\r\n",
        "                                           train=False,\r\n",
        "                                           transform= NetTransform,\r\n",
        "                                           download=True)\r\n",
        "\r\n",
        "train_loader_lenet = torch.utils.data.DataLoader(dataset=train_dataset_lenet,\r\n",
        "                                          batch_size=batch_size,\r\n",
        "                                          shuffle=True,                \r\n",
        "                                          num_workers=4)\r\n",
        "\r\n",
        "test_loader_lenet = torch.utils.data.DataLoader(dataset=test_dataset_lenet,\r\n",
        "                                          batch_size=batch_size,\r\n",
        "                                          shuffle=True,                \r\n",
        "                                          num_workers=4)"
      ],
      "execution_count": 5,
      "outputs": []
    },
    {
      "cell_type": "code",
      "metadata": {
        "colab": {
          "base_uri": "https://localhost:8080/",
          "height": 281
        },
        "id": "b4-YOCAYwaY4",
        "outputId": "76cdf01a-6c8c-4845-cf38-b69dde991996"
      },
      "source": [
        "from functions.plot_picture import matplotlib_imshow\r\n",
        "\r\n",
        "# get some random training images\r\n",
        "dataiter = iter(train_loader_lenet)\r\n",
        "\r\n",
        "images, labels = dataiter.next()\r\n",
        "\r\n",
        "# # creat grid of images\r\n",
        "img_grid = torchvision.utils.make_grid(images[0])\r\n",
        "\r\n",
        "# # show images & labels\r\n",
        "matplotlib_imshow(img_grid, class_names[labels[0]])"
      ],
      "execution_count": 6,
      "outputs": [
        {
          "output_type": "display_data",
          "data": {
            "image/png": "[encoded data removed]",
            "text/plain": [
              "<Figure size 432x288 with 1 Axes>"
            ]
          },
          "metadata": {
            "tags": [],
            "needs_background": "light"
          }
        }
      ]
    },
    {
      "cell_type": "markdown",
      "metadata": {
        "id": "8Mnx6H7_wz2A"
      },
      "source": [
        "### Train all models on 10 epochs"
      ]
    },
    {
      "cell_type": "code",
      "metadata": {
        "colab": {
          "base_uri": "https://localhost:8080/"
        },
        "id": "CijPZfa0woOk",
        "outputId": "b739dd30-9a0d-41c5-bc57-ca2a963f08e6"
      },
      "source": [
        "from functions.training import train_model, evaluate_model\r\n",
        "from models.alexnet_arch import AlexNet\r\n",
        "from models.lenet_arch import Model_Type_LeNet\r\n",
        "import torch.optim as optim\r\n",
        "\r\n",
        "EPOCHS = 10\r\n",
        "losses_an = []\r\n",
        "accuracies_an = []\r\n",
        "nb_batch = int(np.ceil(len(train_loader_alex.dataset)/batch_size))\r\n",
        "\r\n",
        "alexnet_model = AlexNet()\r\n",
        "\r\n",
        "optimizer = optim.Adam(alexnet_model.parameters(),  lr=0.001)\r\n",
        "\r\n",
        "alexnet_model.to(device)\r\n",
        "\r\n",
        "for epoch in range(EPOCHS):\r\n",
        "  losses_an.extend(train_model(train_loader_alex, device, alexnet_model, optimizer, epoch,  EPOCHS, batch_size)[-nb_batch:])\r\n",
        "  accuracies_an.append(evaluate_model(alexnet_model, device, test_loader_alex, losses_an[-1], EPOCHS, epoch, batch_size, len(train_loader_alex.dataset)))"
      ],
      "execution_count": 7,
      "outputs": [
        {
          "output_type": "stream",
          "text": [
            " Train Epoch: 1/10 [60000/60000 (100%)]\tLoss: 0.437140\t Test Accuracy: 84.2300%\n",
            " Train Epoch: 2/10 [60000/60000 (100%)]\tLoss: 0.418220\t Test Accuracy: 85.1100%\n",
            " Train Epoch: 3/10 [60000/60000 (100%)]\tLoss: 0.426819\t Test Accuracy: 86.8200%\n",
            " Train Epoch: 4/10 [60000/60000 (100%)]\tLoss: 0.327940\t Test Accuracy: 87.6400%\n",
            " Train Epoch: 5/10 [60000/60000 (100%)]\tLoss: 0.392613\t Test Accuracy: 88.6600%\n",
            " Train Epoch: 6/10 [60000/60000 (100%)]\tLoss: 0.226905\t Test Accuracy: 88.9200%\n",
            " Train Epoch: 7/10 [60000/60000 (100%)]\tLoss: 0.309313\t Test Accuracy: 88.5500%\n",
            " Train Epoch: 8/10 [60000/60000 (100%)]\tLoss: 0.243801\t Test Accuracy: 88.4500%\n",
            " Train Epoch: 9/10 [60000/60000 (100%)]\tLoss: 0.223417\t Test Accuracy: 89.8500%\n",
            " Train Epoch: 10/10 [60000/60000 (100%)]\tLoss: 0.351361\t Test Accuracy: 87.9200%\n"
          ],
          "name": "stdout"
        }
      ]
    },
    {
      "cell_type": "code",
      "metadata": {
        "colab": {
          "base_uri": "https://localhost:8080/"
        },
        "id": "E9DGsGn9xdGs",
        "outputId": "4980cfbc-4a92-401e-d922-1745c206ffff"
      },
      "source": [
        "from models.lenet_arch import Model_Type_LeNet\r\n",
        "import torch.optim as optim\r\n",
        "\r\n",
        "EPOCHS = 10\r\n",
        "losses_ln = []\r\n",
        "accuracies_ln = []\r\n",
        "\r\n",
        "lenet_model = Model_Type_LeNet()\r\n",
        "\r\n",
        "optimizer = optim.Adam(lenet_model.parameters(),  lr=0.001)\r\n",
        "\r\n",
        "lenet_model.to(device)\r\n",
        "\r\n",
        "for epoch in range(EPOCHS):\r\n",
        "  losses_ln.extend(train_model(train_loader_lenet, device, lenet_model, optimizer, epoch,  EPOCHS, batch_size)[-nb_batch:])\r\n",
        "  accuracies_ln.append(evaluate_model(lenet_model, device, test_loader_lenet, losses_ln[-1], EPOCHS, epoch, batch_size, len(train_loader_lenet.dataset)))"
      ],
      "execution_count": 8,
      "outputs": [
        {
          "output_type": "stream",
          "text": [
            "/content/CNN_Pytorch/models/lenet_arch.py:64: UserWarning: Implicit dimension choice for log_softmax has been deprecated. Change the call to include dim=X as an argument.\n",
            "  sm = nn.functional.log_softmax(out, _stacklevel=3)\n"
          ],
          "name": "stderr"
        },
        {
          "output_type": "stream",
          "text": [
            " Train Epoch: 1/10 [60000/60000 (100%)]\tLoss: 0.652788\t Test Accuracy: 80.0400%\n",
            " Train Epoch: 2/10 [60000/60000 (100%)]\tLoss: 0.437738\t Test Accuracy: 84.8400%\n",
            " Train Epoch: 3/10 [60000/60000 (100%)]\tLoss: 0.339020\t Test Accuracy: 85.3400%\n",
            " Train Epoch: 4/10 [60000/60000 (100%)]\tLoss: 0.225822\t Test Accuracy: 86.6300%\n",
            " Train Epoch: 5/10 [60000/60000 (100%)]\tLoss: 0.312838\t Test Accuracy: 87.2100%\n",
            " Train Epoch: 6/10 [60000/60000 (100%)]\tLoss: 0.319833\t Test Accuracy: 86.7900%\n",
            " Train Epoch: 7/10 [60000/60000 (100%)]\tLoss: 0.250078\t Test Accuracy: 87.5200%\n",
            " Train Epoch: 8/10 [60000/60000 (100%)]\tLoss: 0.249988\t Test Accuracy: 87.6800%\n",
            " Train Epoch: 9/10 [60000/60000 (100%)]\tLoss: 0.299817\t Test Accuracy: 87.7300%\n",
            " Train Epoch: 10/10 [60000/60000 (100%)]\tLoss: 0.339610\t Test Accuracy: 87.7200%\n"
          ],
          "name": "stdout"
        }
      ]
    },
    {
      "cell_type": "markdown",
      "metadata": {
        "id": "kXI4Fb4740RI"
      },
      "source": [
        "### Dataframes"
      ]
    },
    {
      "cell_type": "code",
      "metadata": {
        "colab": {
          "base_uri": "https://localhost:8080/"
        },
        "id": "XuWNp0Gq9nxH",
        "outputId": "3af5af16-3ec3-4161-f2ae-30cd9784178e"
      },
      "source": [
        "losses_ln[234+235]"
      ],
      "execution_count": 9,
      "outputs": [
        {
          "output_type": "execute_result",
          "data": {
            "text/plain": [
              "0.43773844838142395"
            ]
          },
          "metadata": {
            "tags": []
          },
          "execution_count": 9
        }
      ]
    },
    {
      "cell_type": "code",
      "metadata": {
        "id": "shfZjTK2_Ol4"
      },
      "source": [
        "def filter_losses(losses, EPOCHS):\r\n",
        "  losses_filtered = []\r\n",
        "  for i in range(EPOCHS):\r\n",
        "    if i==0:\r\n",
        "      losses_filtered.append(losses[nb_batch-1])\r\n",
        "    else:\r\n",
        "      losses_filtered.append(losses[nb_batch-1+nb_batch*i])\r\n",
        "  return losses_filtered"
      ],
      "execution_count": 10,
      "outputs": []
    },
    {
      "cell_type": "code",
      "metadata": {
        "colab": {
          "base_uri": "https://localhost:8080/"
        },
        "id": "9jsUZduq7KKC",
        "outputId": "c1f5f6ab-3c1a-420b-d26f-d2ef47253aa1"
      },
      "source": [
        "len(accuracies_ln)"
      ],
      "execution_count": 11,
      "outputs": [
        {
          "output_type": "execute_result",
          "data": {
            "text/plain": [
              "10"
            ]
          },
          "metadata": {
            "tags": []
          },
          "execution_count": 11
        }
      ]
    },
    {
      "cell_type": "code",
      "metadata": {
        "colab": {
          "base_uri": "https://localhost:8080/",
          "height": 394
        },
        "id": "F6qNWXnC4zkN",
        "outputId": "d3ef4c2f-8aed-4fa2-b882-63f4278700cd"
      },
      "source": [
        "import pandas as pd \r\n",
        "\r\n",
        "d = {('AlexNet architecture', 'accuracy'): accuracies_an,\r\n",
        "     ('AlexNet architecture', 'loss'): filter_losses(losses_an, EPOCHS),\r\n",
        "     ('LeNet architecture','accuracy'): accuracies_ln,\r\n",
        "     ('LeNet architecture','loss'): filter_losses(losses_ln, EPOCHS)\r\n",
        "}\r\n",
        "l=[('AlexNet architecture', 'accuracy'),  ('AlexNet architecture', 'loss'), ('LeNet architecture','accuracy'),  ('LeNet architecture','loss')]\r\n",
        "df = pd.DataFrame(data=d, columns = l)\r\n",
        "\r\n",
        "df.columns = pd.MultiIndex.from_tuples(df.columns, names=['',''])\r\n",
        "df"
      ],
      "execution_count": 12,
      "outputs": [
        {
          "output_type": "execute_result",
          "data": {
            "text/html": [
              "<div>\n",
              "<style scoped>\n",
              "    .dataframe tbody tr th:only-of-type {\n",
              "        vertical-align: middle;\n",
              "    }\n",
              "\n",
              "    .dataframe tbody tr th {\n",
              "        vertical-align: top;\n",
              "    }\n",
              "\n",
              "    .dataframe thead tr th {\n",
              "        text-align: left;\n",
              "    }\n",
              "</style>\n",
              "<table border=\"1\" class=\"dataframe\">\n",
              "  <thead>\n",
              "    <tr>\n",
              "      <th></th>\n",
              "      <th colspan=\"2\" halign=\"left\">AlexNet architecture</th>\n",
              "      <th colspan=\"2\" halign=\"left\">LeNet architecture</th>\n",
              "    </tr>\n",
              "    <tr>\n",
              "      <th></th>\n",
              "      <th>accuracy</th>\n",
              "      <th>loss</th>\n",
              "      <th>accuracy</th>\n",
              "      <th>loss</th>\n",
              "    </tr>\n",
              "  </thead>\n",
              "  <tbody>\n",
              "    <tr>\n",
              "      <th>0</th>\n",
              "      <td>0.8423</td>\n",
              "      <td>0.437140</td>\n",
              "      <td>0.8004</td>\n",
              "      <td>0.652788</td>\n",
              "    </tr>\n",
              "    <tr>\n",
              "      <th>1</th>\n",
              "      <td>0.8511</td>\n",
              "      <td>0.418220</td>\n",
              "      <td>0.8484</td>\n",
              "      <td>0.437738</td>\n",
              "    </tr>\n",
              "    <tr>\n",
              "      <th>2</th>\n",
              "      <td>0.8682</td>\n",
              "      <td>0.426819</td>\n",
              "      <td>0.8534</td>\n",
              "      <td>0.339020</td>\n",
              "    </tr>\n",
              "    <tr>\n",
              "      <th>3</th>\n",
              "      <td>0.8764</td>\n",
              "      <td>0.327940</td>\n",
              "      <td>0.8663</td>\n",
              "      <td>0.225822</td>\n",
              "    </tr>\n",
              "    <tr>\n",
              "      <th>4</th>\n",
              "      <td>0.8866</td>\n",
              "      <td>0.392613</td>\n",
              "      <td>0.8721</td>\n",
              "      <td>0.312838</td>\n",
              "    </tr>\n",
              "    <tr>\n",
              "      <th>5</th>\n",
              "      <td>0.8892</td>\n",
              "      <td>0.226905</td>\n",
              "      <td>0.8679</td>\n",
              "      <td>0.319833</td>\n",
              "    </tr>\n",
              "    <tr>\n",
              "      <th>6</th>\n",
              "      <td>0.8855</td>\n",
              "      <td>0.309313</td>\n",
              "      <td>0.8752</td>\n",
              "      <td>0.250078</td>\n",
              "    </tr>\n",
              "    <tr>\n",
              "      <th>7</th>\n",
              "      <td>0.8845</td>\n",
              "      <td>0.243801</td>\n",
              "      <td>0.8768</td>\n",
              "      <td>0.249988</td>\n",
              "    </tr>\n",
              "    <tr>\n",
              "      <th>8</th>\n",
              "      <td>0.8985</td>\n",
              "      <td>0.223417</td>\n",
              "      <td>0.8773</td>\n",
              "      <td>0.299817</td>\n",
              "    </tr>\n",
              "    <tr>\n",
              "      <th>9</th>\n",
              "      <td>0.8792</td>\n",
              "      <td>0.351361</td>\n",
              "      <td>0.8772</td>\n",
              "      <td>0.339610</td>\n",
              "    </tr>\n",
              "  </tbody>\n",
              "</table>\n",
              "</div>"
            ],
            "text/plain": [
              "  AlexNet architecture           LeNet architecture          \n",
              "              accuracy      loss           accuracy      loss\n",
              "0               0.8423  0.437140             0.8004  0.652788\n",
              "1               0.8511  0.418220             0.8484  0.437738\n",
              "2               0.8682  0.426819             0.8534  0.339020\n",
              "3               0.8764  0.327940             0.8663  0.225822\n",
              "4               0.8866  0.392613             0.8721  0.312838\n",
              "5               0.8892  0.226905             0.8679  0.319833\n",
              "6               0.8855  0.309313             0.8752  0.250078\n",
              "7               0.8845  0.243801             0.8768  0.249988\n",
              "8               0.8985  0.223417             0.8773  0.299817\n",
              "9               0.8792  0.351361             0.8772  0.339610"
            ]
          },
          "metadata": {
            "tags": []
          },
          "execution_count": 12
        }
      ]
    },
    {
      "cell_type": "code",
      "metadata": {
        "id": "8q0SAA_mK1EQ"
      },
      "source": [
        "#Save the df\r\n",
        "df.to_csv('csv/differences_on_fashion.csv')\r\n"
      ],
      "execution_count": 13,
      "outputs": []
    },
    {
      "cell_type": "code",
      "metadata": {
        "colab": {
          "base_uri": "https://localhost:8080/",
          "height": 441
        },
        "id": "KM1e0SIgHaLW",
        "outputId": "cc10b541-0810-4c5b-95b1-ccaf8270a90f"
      },
      "source": [
        "fig, (ax1, ax2) = plt.subplots(1, 2, sharey=True, figsize=(15,6))\r\n",
        "\r\n",
        "ax1.plot(np.arange(EPOCHS), accuracies_ln)\r\n",
        "ax1.plot(np.arange(EPOCHS), accuracies_an)\r\n",
        "ax2.plot(np.arange(EPOCHS), filter_losses(losses_an, EPOCHS))\r\n",
        "ax2.plot(np.arange(EPOCHS), filter_losses(losses_ln, EPOCHS))\r\n",
        "plt.ylim(0,1)\r\n",
        "ax1.set_title(\"Test accuracy during epochs\")\r\n",
        "ax2.set_title(\"Train loss during epochs\")\r\n",
        "\r\n",
        "for ax in [ax1, ax2]:\r\n",
        "  ax.set_xlabel(\"Epochs\")\r\n",
        "\r\n",
        "ax1.set_ylabel(\"Test accuracy\")\r\n",
        "ax2.set_ylabel(\"Train loss\")\r\n",
        "\r\n",
        "plt.legend(loc='lower right')"
      ],
      "execution_count": 14,
      "outputs": [
        {
          "output_type": "stream",
          "text": [
            "No handles with labels found to put in legend.\n"
          ],
          "name": "stderr"
        },
        {
          "output_type": "execute_result",
          "data": {
            "text/plain": [
              "<matplotlib.legend.Legend at 0x7f56980d8588>"
            ]
          },
          "metadata": {
            "tags": []
          },
          "execution_count": 14
        },
        {
          "output_type": "display_data",
          "data": {
            "image/png": "[encoded data removed]",
            "text/plain": [
              "<Figure size 1080x432 with 2 Axes>"
            ]
          },
          "metadata": {
            "tags": [],
            "needs_background": "light"
          }
        }
      ]
    },
    {
      "cell_type": "markdown",
      "metadata": {
        "id": "V-T8oSXMkXe0"
      },
      "source": [
        "###Differences between maxpooling and avgpooling"
      ]
    },
    {
      "cell_type": "code",
      "metadata": {
        "id": "12EP3fqlkW3Y"
      },
      "source": [
        "from models.custom_arch import *"
      ],
      "execution_count": 15,
      "outputs": []
    },
    {
      "cell_type": "code",
      "metadata": {
        "colab": {
          "base_uri": "https://localhost:8080/"
        },
        "id": "hsGA8d_gkWFY",
        "outputId": "6999d595-a1a9-4107-9fdd-0b730983c9e0"
      },
      "source": [
        "losses_max = []\r\n",
        "accuracies_max = []\r\n",
        "\r\n",
        "model = Model_Max_Pool()\r\n",
        "\r\n",
        "optimizer = optim.Adam(model.parameters(),  lr=0.001)\r\n",
        "\r\n",
        "\r\n",
        "model.to(device)\r\n",
        "\r\n",
        "for epoch in range(EPOCHS):\r\n",
        "  losses_max.extend(train_model(train_loader_lenet, device, model, optimizer, epoch,  EPOCHS, batch_size)[-nb_batch:])\r\n",
        "  accuracies_max.append(evaluate_model(model, device, test_loader_lenet, losses_ln[-1], EPOCHS, epoch, batch_size, len(train_loader_lenet.dataset)))"
      ],
      "execution_count": 16,
      "outputs": [
        {
          "output_type": "stream",
          "text": [
            "/content/CNN_Pytorch/models/custom_arch.py:77: UserWarning: Implicit dimension choice for log_softmax has been deprecated. Change the call to include dim=X as an argument.\n",
            "  sm = nn.functional.log_softmax(out, _stacklevel=3)\n"
          ],
          "name": "stderr"
        },
        {
          "output_type": "stream",
          "text": [
            " Train Epoch: 1/10 [60000/60000 (100%)]\tLoss: 0.339610\t Test Accuracy: 84.7600%\n",
            " Train Epoch: 2/10 [60000/60000 (100%)]\tLoss: 0.339610\t Test Accuracy: 85.3600%\n",
            " Train Epoch: 3/10 [60000/60000 (100%)]\tLoss: 0.339610\t Test Accuracy: 85.7000%\n",
            " Train Epoch: 4/10 [60000/60000 (100%)]\tLoss: 0.339610\t Test Accuracy: 86.5200%\n",
            " Train Epoch: 5/10 [60000/60000 (100%)]\tLoss: 0.339610\t Test Accuracy: 87.1200%\n",
            " Train Epoch: 6/10 [60000/60000 (100%)]\tLoss: 0.339610\t Test Accuracy: 86.6300%\n",
            " Train Epoch: 7/10 [60000/60000 (100%)]\tLoss: 0.339610\t Test Accuracy: 87.3000%\n",
            " Train Epoch: 8/10 [60000/60000 (100%)]\tLoss: 0.339610\t Test Accuracy: 87.0200%\n",
            " Train Epoch: 9/10 [60000/60000 (100%)]\tLoss: 0.339610\t Test Accuracy: 87.7300%\n",
            " Train Epoch: 10/10 [60000/60000 (100%)]\tLoss: 0.339610\t Test Accuracy: 87.2900%\n"
          ],
          "name": "stdout"
        }
      ]
    },
    {
      "cell_type": "code",
      "metadata": {
        "colab": {
          "base_uri": "https://localhost:8080/"
        },
        "id": "WvD0H547Did3",
        "outputId": "44fc1691-a988-418f-8e07-367ae424969d"
      },
      "source": [
        "len(losses_max)"
      ],
      "execution_count": 17,
      "outputs": [
        {
          "output_type": "execute_result",
          "data": {
            "text/plain": [
              "2350"
            ]
          },
          "metadata": {
            "tags": []
          },
          "execution_count": 17
        }
      ]
    },
    {
      "cell_type": "code",
      "metadata": {
        "id": "PzJVPSHQCVyw"
      },
      "source": [
        "import pandas as pd \r\n",
        "\r\n",
        "d = {('Max pooling', 'accuracy'): accuracies_max,\r\n",
        "     ('Max pooling', 'loss'): filter_losses(losses_max, EPOCHS),\r\n",
        "     ('Average pooling','accuracy'): accuracies_ln,\r\n",
        "     ('Average pooling','loss'): filter_losses(losses_ln, EPOCHS)\r\n",
        "}\r\n",
        "l=[('Max pooling', 'accuracy'),  ('Max pooling', 'loss'), ('LeNet architecture','accuracy'),  ('LeNet architecture','loss')]\r\n",
        "df = pd.DataFrame(data=d, columns = l)\r\n",
        "\r\n",
        "df.columns = pd.MultiIndex.from_tuples(df.columns, names=['',''])"
      ],
      "execution_count": 18,
      "outputs": []
    },
    {
      "cell_type": "markdown",
      "metadata": {
        "id": "DgjBheBdCDEF"
      },
      "source": [
        "### Model with multiples fully connected layers"
      ]
    },
    {
      "cell_type": "code",
      "metadata": {
        "colab": {
          "base_uri": "https://localhost:8080/"
        },
        "id": "_a4163H9oQ3w",
        "outputId": "02339423-86c7-40a5-b569-f46217253e25"
      },
      "source": [
        "from models.lenet_arch import Model_Type_LeNet\r\n",
        "import torch.optim as optim\r\n",
        "\r\n",
        "EPOCHS = 10\r\n",
        "losses_m_fc = []\r\n",
        "accuracies_m_fc = []\r\n",
        "\r\n",
        "model = Model_Multiple_fc()\r\n",
        "\r\n",
        "optimizer = optim.Adam(model.parameters(),  lr=0.001)\r\n",
        "\r\n",
        "model.to(device)\r\n",
        "\r\n",
        "for epoch in range(EPOCHS):\r\n",
        "  losses_m_fc.extend(train_model(train_loader_lenet, device, model, optimizer, epoch,  EPOCHS, batch_size)[-nb_batch:])\r\n",
        "  accuracies_m_fc.append(evaluate_model(model, device, test_loader_lenet, losses_m_fc[-1], EPOCHS, epoch, batch_size, len(train_loader_lenet.dataset)))"
      ],
      "execution_count": 19,
      "outputs": [
        {
          "output_type": "stream",
          "text": [
            "/content/CNN_Pytorch/models/custom_arch.py:118: UserWarning: Implicit dimension choice for log_softmax has been deprecated. Change the call to include dim=X as an argument.\n",
            "  sm = nn.functional.log_softmax(out, _stacklevel=3)\n"
          ],
          "name": "stderr"
        },
        {
          "output_type": "stream",
          "text": [
            " Train Epoch: 1/10 [60000/60000 (100%)]\tLoss: 0.589148\t Test Accuracy: 78.0900%\n",
            " Train Epoch: 2/10 [60000/60000 (100%)]\tLoss: 0.445659\t Test Accuracy: 83.0600%\n",
            " Train Epoch: 3/10 [60000/60000 (100%)]\tLoss: 3.911996\t Test Accuracy: 10.0000%\n",
            " Train Epoch: 4/10 [60000/60000 (100%)]\tLoss: 2.384350\t Test Accuracy: 10.0000%\n",
            " Train Epoch: 5/10 [60000/60000 (100%)]\tLoss: 2.332937\t Test Accuracy: 10.0000%\n",
            " Train Epoch: 6/10 [60000/60000 (100%)]\tLoss: 2.314796\t Test Accuracy: 9.9800%\n",
            " Train Epoch: 7/10 [60000/60000 (100%)]\tLoss: 2.334633\t Test Accuracy: 10.0000%\n",
            " Train Epoch: 8/10 [60000/60000 (100%)]\tLoss: 2.323832\t Test Accuracy: 10.0000%\n",
            " Train Epoch: 9/10 [60000/60000 (100%)]\tLoss: 2.313034\t Test Accuracy: 10.0000%\n",
            " Train Epoch: 10/10 [60000/60000 (100%)]\tLoss: 2.306831\t Test Accuracy: 10.0000%\n"
          ],
          "name": "stdout"
        }
      ]
    },
    {
      "cell_type": "code",
      "metadata": {
        "id": "YVSWPhQtdU9Z",
        "outputId": "0dba206a-3baf-4408-8872-f595dd2bd8b0",
        "colab": {
          "base_uri": "https://localhost:8080/",
          "height": 581
        }
      },
      "source": [
        "from functions.plot_model import plot_grad_flow\r\n",
        "layers = []\r\n",
        "for n, p in model.named_parameters():\r\n",
        "    if(p.requires_grad) and (\"bias\" not in n):\r\n",
        "        layers.append(n)\r\n",
        "fig = plt.figure(figsize=(8,8))\r\n",
        "ax = fig.subplots()\r\n",
        "plt.xlabel(\"mini batch\")\r\n",
        "plt.ylabel(\"Average Gradient\")\r\n",
        "plt.title(\"Gradient Flow\")\r\n",
        "plt.grid(True)\r\n",
        "\r\n",
        "plot_grad_flow(model.named_parameters())"
      ],
      "execution_count": 20,
      "outputs": [
        {
          "output_type": "display_data",
          "data": {
            "image/png": "[encoded data removed]",
            "text/plain": [
              "<Figure size 576x576 with 1 Axes>"
            ]
          },
          "metadata": {
            "tags": [],
            "needs_background": "light"
          }
        }
      ]
    },
    {
      "cell_type": "markdown",
      "metadata": {
        "id": "JMn9EyGWShs9"
      },
      "source": [
        "###One large fully connected layer"
      ]
    },
    {
      "cell_type": "code",
      "metadata": {
        "colab": {
          "base_uri": "https://localhost:8080/"
        },
        "id": "HxJJK9FuS6xu",
        "outputId": "22cf4831-1ec2-45b8-d1f4-1200be02a46e"
      },
      "source": [
        "losses_big_fc = []\r\n",
        "accuracies_big_fc = []\r\n",
        "\r\n",
        "model = Model_Big_fc()\r\n",
        "\r\n",
        "optimizer = optim.Adam(model.parameters(),  lr=0.001)\r\n",
        "\r\n",
        "model.to(device)\r\n",
        "\r\n",
        "for epoch in range(EPOCHS):\r\n",
        "  losses_big_fc.extend(train_model(train_loader_lenet, device, model, optimizer, epoch,  EPOCHS, batch_size)[-nb_batch:])\r\n",
        "  accuracies_big_fc.append(evaluate_model(model, device, test_loader_lenet, losses_big_fc[-1], EPOCHS, epoch, batch_size, len(train_loader_lenet.dataset)))"
      ],
      "execution_count": 21,
      "outputs": [
        {
          "output_type": "stream",
          "text": [
            "/content/CNN_Pytorch/models/custom_arch.py:151: UserWarning: Implicit dimension choice for log_softmax has been deprecated. Change the call to include dim=X as an argument.\n",
            "  sm = nn.functional.log_softmax(out, _stacklevel=3)\n"
          ],
          "name": "stderr"
        },
        {
          "output_type": "stream",
          "text": [
            " Train Epoch: 1/10 [60000/60000 (100%)]\tLoss: 0.551676\t Test Accuracy: 79.3800%\n",
            " Train Epoch: 2/10 [60000/60000 (100%)]\tLoss: 0.713597\t Test Accuracy: 79.4900%\n",
            " Train Epoch: 3/10 [60000/60000 (100%)]\tLoss: 0.477113\t Test Accuracy: 82.6300%\n",
            " Train Epoch: 4/10 [60000/60000 (100%)]\tLoss: 0.377483\t Test Accuracy: 83.5700%\n",
            " Train Epoch: 5/10 [60000/60000 (100%)]\tLoss: 0.564706\t Test Accuracy: 85.7200%\n",
            " Train Epoch: 6/10 [60000/60000 (100%)]\tLoss: 0.318646\t Test Accuracy: 83.4900%\n",
            " Train Epoch: 7/10 [60000/60000 (100%)]\tLoss: 0.402811\t Test Accuracy: 84.7900%\n",
            " Train Epoch: 8/10 [60000/60000 (100%)]\tLoss: 0.506974\t Test Accuracy: 83.5600%\n",
            " Train Epoch: 9/10 [60000/60000 (100%)]\tLoss: 0.339371\t Test Accuracy: 85.8000%\n",
            " Train Epoch: 10/10 [60000/60000 (100%)]\tLoss: 0.454887\t Test Accuracy: 82.8000%\n"
          ],
          "name": "stdout"
        }
      ]
    },
    {
      "cell_type": "code",
      "metadata": {
        "id": "M9n4MD38dT-Z",
        "outputId": "f85ecb63-496d-4489-b73b-a43d2d6dc9e5",
        "colab": {
          "base_uri": "https://localhost:8080/",
          "height": 581
        }
      },
      "source": [
        "from functions.plot_model import plot_grad_flow\r\n",
        "layers = []\r\n",
        "for n, p in model.named_parameters():\r\n",
        "    if(p.requires_grad) and (\"bias\" not in n):\r\n",
        "        layers.append(n)\r\n",
        "fig = plt.figure(figsize=(8,8))\r\n",
        "ax = fig.subplots()\r\n",
        "plt.xlabel(\"mini batch\")\r\n",
        "plt.ylabel(\"Average Gradient\")\r\n",
        "plt.title(\"Gradient Flow\")\r\n",
        "plt.grid(True)\r\n",
        "\r\n",
        "plot_grad_flow(model.named_parameters())"
      ],
      "execution_count": 22,
      "outputs": [
        {
          "output_type": "display_data",
          "data": {
            "image/png": "[encoded data removed]",
            "text/plain": [
              "<Figure size 576x576 with 1 Axes>"
            ]
          },
          "metadata": {
            "tags": [],
            "needs_background": "light"
          }
        }
      ]
    },
    {
      "cell_type": "markdown",
      "metadata": {
        "id": "J2MqqvVSMdSO"
      },
      "source": [
        "### Deep CNN model"
      ]
    },
    {
      "cell_type": "code",
      "metadata": {
        "colab": {
          "base_uri": "https://localhost:8080/"
        },
        "id": "q95RJbpGQXAd",
        "outputId": "179b0d03-cf3e-4669-8d6e-bdcf48f35267"
      },
      "source": [
        "EPOCHS = 10\r\n",
        "losses_d_cnn = []\r\n",
        "accuracies_d_cnn = []\r\n",
        "\r\n",
        "model = Model_Deep_CNN()\r\n",
        "\r\n",
        "optimizer = optim.Adam(model.parameters(),  lr=0.001)\r\n",
        "\r\n",
        "model.to(device)\r\n",
        "\r\n",
        "for epoch in range(EPOCHS):\r\n",
        "  losses_d_cnn.extend(train_model(train_loader_lenet, device, model, optimizer, epoch,  EPOCHS, batch_size)[-nb_batch:])\r\n",
        "  accuracies_d_cnn.append(evaluate_model(model, device, test_loader_lenet, losses_d_cnn[-1], EPOCHS, epoch, batch_size, len(train_loader_lenet.dataset)))"
      ],
      "execution_count": null,
      "outputs": [
        {
          "output_type": "stream",
          "text": [
            "/content/CNN_Pytorch/models/custom_arch.py:191: UserWarning: Implicit dimension choice for log_softmax has been deprecated. Change the call to include dim=X as an argument.\n",
            "  sm = nn.functional.log_softmax(out, _stacklevel=3)\n"
          ],
          "name": "stderr"
        },
        {
          "output_type": "stream",
          "text": [
            " Train Epoch: 1/10 [60000/60000 (100%)]\tLoss: 0.324596\t Test Accuracy: 85.0300%\n",
            " Train Epoch: 2/10 [60000/60000 (100%)]\tLoss: 0.363874\t Test Accuracy: 83.2200%\n",
            " Train Epoch: 3/10 [60000/60000 (100%)]\tLoss: 0.243104\t Test Accuracy: 86.5900%\n",
            " Train Epoch: 4/10 [60000/60000 (100%)]\tLoss: 0.484624\t Test Accuracy: 88.1800%\n",
            " Train Epoch: 5/10 [60000/60000 (100%)]\tLoss: 0.270162\t Test Accuracy: 88.3000%\n",
            " Train Epoch: 6/10 [60000/60000 (100%)]\tLoss: 0.189887\t Test Accuracy: 88.2000%\n",
            " Train Epoch: 7/10 [60000/60000 (100%)]\tLoss: 0.281349\t Test Accuracy: 88.5800%\n",
            " Train Epoch: 8/10 [23296/60000 (36%)]\tLoss: 0.241529"
          ],
          "name": "stdout"
        }
      ]
    },
    {
      "cell_type": "code",
      "metadata": {
        "id": "VNdZCYNwRvL2"
      },
      "source": [
        "from functions.plot_model import plot_grad_flow\r\n",
        "layers = []\r\n",
        "for n, p in model.named_parameters():\r\n",
        "    if(p.requires_grad) and (\"bias\" not in n):\r\n",
        "        layers.append(n)\r\n",
        "fig = plt.figure(figsize=(8,8))\r\n",
        "ax = fig.subplots()\r\n",
        "plt.xlabel(\"mini batch\")\r\n",
        "plt.ylabel(\"Average Gradient\")\r\n",
        "plt.title(\"Gradient Flow\")\r\n",
        "plt.grid(True)\r\n",
        "\r\n",
        "plot_grad_flow(model.named_parameters())"
      ],
      "execution_count": null,
      "outputs": []
    },
    {
      "cell_type": "code",
      "metadata": {
        "id": "_MDBc8dwV9r1"
      },
      "source": [
        "len(losses_d_cnn)"
      ],
      "execution_count": null,
      "outputs": []
    },
    {
      "cell_type": "markdown",
      "metadata": {
        "id": "AfZkaO62ZaIM"
      },
      "source": [
        "### ResNet50"
      ]
    },
    {
      "cell_type": "code",
      "metadata": {
        "id": "Xs2GPeC0ZQi4"
      },
      "source": [
        "import torchvision.models as models\r\n",
        "model_resnet = models.resnet50(pretrained=True)"
      ],
      "execution_count": null,
      "outputs": []
    },
    {
      "cell_type": "code",
      "metadata": {
        "id": "14UDE6ZGZjjK"
      },
      "source": [
        "for params in model.parameters():\r\n",
        "    params.requires_grad = False\r\n",
        "\r\n",
        "classifier = nn.Sequential(nn.Linear(2048, 512),\r\n",
        "                           nn.ReLU(),\r\n",
        "                           nn.Dropout(p=0.2),\r\n",
        "                           nn.Linear(512, 102),\r\n",
        "                           nn.LogSoftmax(dim=1))\r\n",
        "\r\n",
        "model_resnet.fc = classifier"
      ],
      "execution_count": null,
      "outputs": []
    },
    {
      "cell_type": "code",
      "metadata": {
        "id": "xmLDIDhTZ0AY"
      },
      "source": [
        "optimizer = optim.Adam(model.fc.parameters(), lr=0.001)"
      ],
      "execution_count": null,
      "outputs": []
    },
    {
      "cell_type": "code",
      "metadata": {
        "id": "UTJWO1Qpazwn"
      },
      "source": [
        "ResnetTransform = transforms.Compose([\r\n",
        "    transforms.Grayscale(num_output_channels=3),\r\n",
        "    transforms.Resize((224, 224)),\r\n",
        "    transforms.ToTensor(),\r\n",
        "    transforms.Normalize((0.1307,), (0.3081,))\r\n",
        "])\r\n",
        "\r\n",
        "train_dataset_resnet = torchvision.datasets.FashionMNIST(root=dataset_dir,\r\n",
        "                                           train=True,\r\n",
        "                                           transform= ResnetTransform,\r\n",
        "                                           download=True)\r\n",
        "\r\n",
        "test_dataset_resnet = torchvision.datasets.FashionMNIST(root=dataset_dir,\r\n",
        "                                           train=False,\r\n",
        "                                           transform= ResnetTransform,\r\n",
        "                                           download=True)\r\n",
        "\r\n",
        "train_loader_resnet = torch.utils.data.DataLoader(dataset=train_dataset_resnet,\r\n",
        "                                          batch_size=batch_size,\r\n",
        "                                          shuffle=True,                \r\n",
        "                                          num_workers=4)\r\n",
        "\r\n",
        "test_loader_resnet = torch.utils.data.DataLoader(dataset=test_dataset_resnet,\r\n",
        "                                          batch_size=batch_size,\r\n",
        "                                          shuffle=True,                \r\n",
        "                                          num_workers=4)"
      ],
      "execution_count": null,
      "outputs": []
    },
    {
      "cell_type": "code",
      "metadata": {
        "id": "ONknVedoaPJT"
      },
      "source": [
        "from functions.training import train_model, evaluate_model\r\n",
        "\r\n",
        "losses_res = []\r\n",
        "accuracies_res = []\r\n",
        "EPOCHS = 10\r\n",
        "batch_size = 256\r\n",
        "nb_batch = int(np.ceil(len(train_loader_resnet.dataset)/batch_size))\r\n",
        "\r\n",
        "optimizer = optim.Adam(model_resnet.parameters(),  lr=0.001)\r\n",
        "\r\n",
        "model_resnet.to(device)\r\n",
        "\r\n",
        "for epoch in range(EPOCHS):\r\n",
        "  losses_res.extend(train_model(train_loader_resnet, device, model_resnet, optimizer, epoch,  EPOCHS, batch_size)[-nb_batch:])\r\n",
        "  accuracies_res.append(evaluate_model(model_resnet, device, test_loader_resnet, losses_res[-1], EPOCHS, epoch, batch_size, len(train_loader_resnet.dataset)))"
      ],
      "execution_count": null,
      "outputs": []
    },
    {
      "cell_type": "markdown",
      "metadata": {
        "id": "a4P5J6fNTmDb"
      },
      "source": [
        "###Stack all results in graph and dataframe"
      ]
    },
    {
      "cell_type": "code",
      "metadata": {
        "id": "VkOA3iG-Sa_-"
      },
      "source": [
        "fig, (ax1, ax2) = plt.subplots(1, 2, sharey=False, figsize=(15,6))\r\n",
        "\r\n",
        "ax1.plot(np.arange(EPOCHS), accuracies_d_cnn)\r\n",
        "ax1.plot(np.arange(EPOCHS), accuracies_big_fc)\r\n",
        "ax1.plot(np.arange(EPOCHS), accuracies_m_fc)\r\n",
        "ax1.plot(np.arange(EPOCHS), accuracies_an)\r\n",
        "ax2.plot(np.arange(EPOCHS), filter_losses(losses_an, EPOCHS), label=\"AlexNet architecture\")\r\n",
        "ax2.plot(np.arange(EPOCHS), filter_losses(losses_d_cnn, EPOCHS), label=\"deep CNN\")\r\n",
        "ax2.plot(np.arange(EPOCHS), filter_losses(losses_big_fc, EPOCHS), label=\"large fc layer\")\r\n",
        "ax2.plot(np.arange(EPOCHS), filter_losses(losses_m_fc, EPOCHS), label=\"multiple fc layer\")\r\n",
        "ax1.set_ylim(0,1)\r\n",
        "ax1.set_title(\"Test accuracy during epochs\")\r\n",
        "ax2.set_title(\"Train loss during epochs\")\r\n",
        "\r\n",
        "for ax in [ax1, ax2]:\r\n",
        "  ax.set_xlabel(\"Epochs\")\r\n",
        "\r\n",
        "ax1.set_ylabel(\"Test accuracy\")\r\n",
        "ax2.set_ylabel(\"Train loss\")\r\n",
        "\r\n",
        "plt.legend(loc='center right')\r\n"
      ],
      "execution_count": null,
      "outputs": []
    },
    {
      "cell_type": "code",
      "metadata": {
        "id": "vjMibB92rC08"
      },
      "source": [
        "d = {\"Accuracy deep CNN\": accuracies_d_cnn,\r\n",
        "     \"Accuracy big fc\": accuracies_big_fc,\r\n",
        "     \"Accuracy multi fc\": accuracies_m_fc,\r\n",
        "     \"Accuracy alexnet\": accuracies_an,\r\n",
        "     \"Accuracy lenet\": accuracies_ln,\r\n",
        "     \"Accuracy resnet\": accuracies_res,\r\n",
        "     }\r\n",
        "\r\n",
        "accuracies = pd.DataFrame(data=d)\r\n",
        "accuracies.to_csv('csv/accuracies')"
      ],
      "execution_count": null,
      "outputs": []
    },
    {
      "cell_type": "code",
      "metadata": {
        "id": "mpF7lIYesa_n"
      },
      "source": [
        "d = {\"Loss deep CNN\": filter_losses(losses_d_cnn, EPOCHS),\r\n",
        "     \"Loss big fc\": filter_losses(losses_big_fc, EPOCHS),\r\n",
        "     \"Loss multi fc\": filter_losses(losses_m_fc, EPOCHS),\r\n",
        "     \"Loss alexnet\": filter_losses(losses_an, EPOCHS),\r\n",
        "     \"Loss lenet\": filter_losses(losses_ln, EPOCHS),\r\n",
        "     \"Loss resnet\": filter_losses(losses_res, EPOCHS),\r\n",
        "     }\r\n",
        "\r\n",
        "losses = pd.DataFrame(data=d)\r\n",
        "losses.to_csv('csv/losses')"
      ],
      "execution_count": null,
      "outputs": []
    }
  ]
}