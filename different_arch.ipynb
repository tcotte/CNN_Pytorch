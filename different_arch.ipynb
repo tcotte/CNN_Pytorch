{
  "nbformat": 4,
  "nbformat_minor": 0,
  "metadata": {
    "colab": {
      "name": "different_arch.ipynb",
      "provenance": [],
      "authorship_tag": "ABX9TyObIdcyIaykQishfSABijSh",
      "include_colab_link": true
    },
    "kernelspec": {
      "name": "python3",
      "display_name": "Python 3"
    },
    "accelerator": "GPU"
  },
  "cells": [
    {
      "cell_type": "markdown",
      "metadata": {
        "id": "view-in-github",
        "colab_type": "text"
      },
      "source": [
        "<a href=\"https://colab.research.google.com/github/tcotte/CNN_Pytorch/blob/master/different_arch.ipynb\" target=\"_parent\"><img src=\"https://colab.research.google.com/assets/colab-badge.svg\" alt=\"Open In Colab\"/></a>"
      ]
    },
    {
      "cell_type": "code",
      "metadata": {
        "colab": {
          "base_uri": "https://localhost:8080/"
        },
        "id": "kDbXQWVHunBn",
        "outputId": "75c1a394-0c2e-4c3b-8a06-c9a431a2fa84"
      },
      "source": [
        "!git clone https://github.com/tcotte/CNN_Pytorch\r\n",
        "%cd CNN_Pytorch"
      ],
      "execution_count": 9,
      "outputs": [
        {
          "output_type": "stream",
          "text": [
            "fatal: destination path 'CNN_Pytorch' already exists and is not an empty directory.\n",
            "/content/CNN_Pytorch/CNN_Pytorch\n"
          ],
          "name": "stdout"
        }
      ]
    },
    {
      "cell_type": "code",
      "metadata": {
        "id": "cXT30oOVu1-q"
      },
      "source": [
        "import numpy\r\n",
        "import numpy as np\r\n",
        "import torch\r\n",
        "import torch.nn as nn\r\n",
        "import torch.nn.functional as F\r\n",
        "import torch.utils.data.dataloader as dataloader\r\n",
        "import torch.optim as optim\r\n",
        "\r\n",
        "from torch.utils.data import TensorDataset\r\n",
        "from torchvision import transforms\r\n",
        "from torchvision.datasets import MNIST\r\n",
        "import matplotlib.pyplot as plt\r\n",
        "\r\n",
        "SEED = 1\r\n",
        "\r\n",
        "# CUDA?\r\n",
        "cuda = torch.cuda.is_available()\r\n",
        "\r\n",
        "# For reproducibility\r\n",
        "torch.manual_seed(SEED)\r\n",
        "device = torch.device(\"cuda\" if cuda else \"cpu\")\r\n",
        "\r\n",
        "if cuda:\r\n",
        "    torch.cuda.manual_seed(SEED)"
      ],
      "execution_count": 10,
      "outputs": []
    },
    {
      "cell_type": "markdown",
      "metadata": {
        "id": "b6E1qaMWvA6l"
      },
      "source": [
        "### Transformations"
      ]
    },
    {
      "cell_type": "code",
      "metadata": {
        "id": "0lNlLhX4u8zq"
      },
      "source": [
        "from torchvision import transforms\r\n",
        "\r\n",
        "AlexTransform = transforms.Compose([\r\n",
        "    transforms.Resize((227, 227)),\r\n",
        "    transforms.ToTensor(),\r\n",
        "    transforms.Normalize((0.1307,), (0.3081,))\r\n",
        "])\r\n",
        "\r\n",
        "NetTransform = transforms.Compose([\r\n",
        "    transforms.ToTensor(),\r\n",
        "    transforms.Normalize((0.1307,), (0.3081,))                               \r\n",
        "])"
      ],
      "execution_count": 11,
      "outputs": []
    },
    {
      "cell_type": "markdown",
      "metadata": {
        "id": "ZLX0HiaKvyhl"
      },
      "source": [
        "### Load dataset"
      ]
    },
    {
      "cell_type": "code",
      "metadata": {
        "id": "U8gc5BEcvx5d"
      },
      "source": [
        "import os\r\n",
        "import torchvision\r\n",
        "\r\n",
        "class_names = ['T-shirt/top', 'Trouser', 'Pullover', 'Dress', 'Coat',\r\n",
        "               'Sandal', 'Shirt', 'Sneaker', 'Bag', 'Ankle boot']\r\n",
        "\r\n",
        "batch_size=256\r\n",
        "dataset_dir = os.path.join(os.path.expanduser(\"~\"), 'Datasets', 'FashionMNIST')\r\n",
        "\r\n",
        "# Load the dataset for alexnet arch\r\n",
        "train_dataset_alex = torchvision.datasets.FashionMNIST(root=dataset_dir,\r\n",
        "                                           train=True,\r\n",
        "                                           transform= AlexTransform,\r\n",
        "                                           download=True)\r\n",
        "\r\n",
        "test_dataset_alex = torchvision.datasets.FashionMNIST(root=dataset_dir,\r\n",
        "                                           train=False,\r\n",
        "                                           transform= AlexTransform,\r\n",
        "                                           download=True)\r\n",
        "\r\n",
        "train_loader_alex = torch.utils.data.DataLoader(dataset=train_dataset_alex,\r\n",
        "                                          batch_size=batch_size,\r\n",
        "                                          shuffle=True,                \r\n",
        "                                          num_workers=4)\r\n",
        "\r\n",
        "test_loader_alex = torch.utils.data.DataLoader(dataset=test_dataset_alex,\r\n",
        "                                          batch_size=batch_size,\r\n",
        "                                          shuffle=True,                \r\n",
        "                                          num_workers=4)\r\n",
        "# Load the dataset for lenet arch\r\n",
        "train_dataset_lenet = torchvision.datasets.FashionMNIST(root=dataset_dir,\r\n",
        "                                           train=True,\r\n",
        "                                           transform= NetTransform,\r\n",
        "                                           download=True)\r\n",
        "\r\n",
        "test_dataset_lenet = torchvision.datasets.FashionMNIST(root=dataset_dir,\r\n",
        "                                           train=False,\r\n",
        "                                           transform= NetTransform,\r\n",
        "                                           download=True)\r\n",
        "\r\n",
        "train_loader_lenet = torch.utils.data.DataLoader(dataset=train_dataset_lenet,\r\n",
        "                                          batch_size=batch_size,\r\n",
        "                                          shuffle=True,                \r\n",
        "                                          num_workers=4)\r\n",
        "\r\n",
        "test_loader_lenet = torch.utils.data.DataLoader(dataset=test_dataset_lenet,\r\n",
        "                                          batch_size=batch_size,\r\n",
        "                                          shuffle=True,                \r\n",
        "                                          num_workers=4)"
      ],
      "execution_count": 12,
      "outputs": []
    },
    {
      "cell_type": "code",
      "metadata": {
        "colab": {
          "base_uri": "https://localhost:8080/",
          "height": 281
        },
        "id": "b4-YOCAYwaY4",
        "outputId": "d4438c6f-818a-47f4-cac5-976a765e0ca3"
      },
      "source": [
        "from functions.plot_picture import matplotlib_imshow\r\n",
        "\r\n",
        "# get some random training images\r\n",
        "dataiter = iter(train_loader_lenet)\r\n",
        "\r\n",
        "images, labels = dataiter.next()\r\n",
        "\r\n",
        "# # creat grid of images\r\n",
        "img_grid = torchvision.utils.make_grid(images[0])\r\n",
        "\r\n",
        "# # show images & labels\r\n",
        "matplotlib_imshow(img_grid, class_names[labels[0]])"
      ],
      "execution_count": 13,
      "outputs": [
        {
          "output_type": "display_data",
          "data": {
            "image/png": "[encoded data removed]",
            "text/plain": [
              "<Figure size 432x288 with 1 Axes>"
            ]
          },
          "metadata": {
            "tags": [],
            "needs_background": "light"
          }
        }
      ]
    },
    {
      "cell_type": "markdown",
      "metadata": {
        "id": "8Mnx6H7_wz2A"
      },
      "source": [
        "### Train all models on 10 epochs"
      ]
    },
    {
      "cell_type": "code",
      "metadata": {
        "colab": {
          "base_uri": "https://localhost:8080/"
        },
        "id": "CijPZfa0woOk",
        "outputId": "0dd03a73-9fce-4926-c30e-9a860cd57852"
      },
      "source": [
        "from functions.training import train_model, evaluate_model\r\n",
        "from models.alexnet_arch import AlexNet\r\n",
        "from models.lenet_arch import Model_Type_LeNet\r\n",
        "import torch.optim as optim\r\n",
        "\r\n",
        "EPOCHS = 10\r\n",
        "losses_an = []\r\n",
        "accuracies_an = []\r\n",
        "nb_batch = int(np.ceil(len(train_loader_alex.dataset)/batch_size))\r\n",
        "\r\n",
        "alexnet_model = AlexNet()\r\n",
        "\r\n",
        "optimizer = optim.Adam(alexnet_model.parameters(),  lr=0.001)\r\n",
        "\r\n",
        "alexnet_model.to(device)\r\n",
        "\r\n",
        "for epoch in range(EPOCHS):\r\n",
        "  losses_an.extend(train_model(train_loader_alex, device, alexnet_model, optimizer, epoch,  EPOCHS, batch_size)[-nb_batch:])\r\n",
        "  accuracies_an.append(evaluate_model(alexnet_model, device, test_loader_alex, losses_an[-1], EPOCHS, epoch, batch_size, len(train_loader_alex.dataset)))"
      ],
      "execution_count": 14,
      "outputs": [
        {
          "output_type": "stream",
          "text": [
            " Train Epoch: 1/10 [60000/60000 (100%)]\tLoss: 0.443634\t Test Accuracy: 82.0500%\n",
            " Train Epoch: 2/10 [60000/60000 (100%)]\tLoss: 0.506564\t Test Accuracy: 85.1100%\n",
            " Train Epoch: 3/10 [60000/60000 (100%)]\tLoss: 0.468073\t Test Accuracy: 85.5600%\n",
            " Train Epoch: 4/10 [60000/60000 (100%)]\tLoss: 0.445185\t Test Accuracy: 86.2700%\n",
            " Train Epoch: 5/10 [60000/60000 (100%)]\tLoss: 0.276765\t Test Accuracy: 86.9000%\n",
            " Train Epoch: 6/10 [60000/60000 (100%)]\tLoss: 0.370366\t Test Accuracy: 86.8500%\n",
            " Train Epoch: 7/10 [60000/60000 (100%)]\tLoss: 0.423889\t Test Accuracy: 88.1300%\n",
            " Train Epoch: 8/10 [60000/60000 (100%)]\tLoss: 0.251775\t Test Accuracy: 87.9700%\n",
            " Train Epoch: 9/10 [60000/60000 (100%)]\tLoss: 0.204406\t Test Accuracy: 88.2900%\n",
            " Train Epoch: 10/10 [60000/60000 (100%)]\tLoss: 0.372553\t Test Accuracy: 88.1100%\n"
          ],
          "name": "stdout"
        }
      ]
    },
    {
      "cell_type": "code",
      "metadata": {
        "colab": {
          "base_uri": "https://localhost:8080/"
        },
        "id": "E9DGsGn9xdGs",
        "outputId": "14a68ef2-a8ed-4fd9-a0f5-fdacd9e6b6fd"
      },
      "source": [
        "from models.lenet_arch import Model_Type_LeNet\r\n",
        "import torch.optim as optim\r\n",
        "\r\n",
        "EPOCHS = 10\r\n",
        "losses_ln = []\r\n",
        "accuracies_ln = []\r\n",
        "\r\n",
        "lenet_model = Model_Type_LeNet()\r\n",
        "\r\n",
        "optimizer = optim.Adam(lenet_model.parameters(),  lr=0.001)\r\n",
        "\r\n",
        "lenet_model.to(device)\r\n",
        "\r\n",
        "for epoch in range(EPOCHS):\r\n",
        "  losses_ln.extend(train_model(train_loader_lenet, device, lenet_model, optimizer, epoch,  EPOCHS, batch_size)[-nb_batch:])\r\n",
        "  accuracies_ln.append(evaluate_model(lenet_model, device, test_loader_lenet, losses_ln[-1], EPOCHS, epoch, batch_size, len(train_loader_lenet.dataset)))"
      ],
      "execution_count": 42,
      "outputs": [
        {
          "output_type": "stream",
          "text": [
            "/content/CNN_Pytorch/models/lenet_arch.py:64: UserWarning: Implicit dimension choice for log_softmax has been deprecated. Change the call to include dim=X as an argument.\n",
            "  sm = nn.functional.log_softmax(out, _stacklevel=3)\n"
          ],
          "name": "stderr"
        },
        {
          "output_type": "stream",
          "text": [
            " Train Epoch: 1/10 [60000/60000 (100%)]\tLoss: 0.350902\t Test Accuracy: 80.6600%\n",
            " Train Epoch: 2/10 [60000/60000 (100%)]\tLoss: 0.400435\t Test Accuracy: 85.6100%\n",
            " Train Epoch: 3/10 [60000/60000 (100%)]\tLoss: 0.230002\t Test Accuracy: 86.4000%\n",
            " Train Epoch: 4/10 [60000/60000 (100%)]\tLoss: 0.337038\t Test Accuracy: 87.1300%\n",
            " Train Epoch: 5/10 [60000/60000 (100%)]\tLoss: 0.391392\t Test Accuracy: 87.5700%\n",
            " Train Epoch: 6/10 [60000/60000 (100%)]\tLoss: 0.363224\t Test Accuracy: 88.4400%\n",
            " Train Epoch: 7/10 [60000/60000 (100%)]\tLoss: 0.371106\t Test Accuracy: 87.8600%\n",
            " Train Epoch: 8/10 [60000/60000 (100%)]\tLoss: 0.180297\t Test Accuracy: 88.5100%\n",
            " Train Epoch: 9/10 [60000/60000 (100%)]\tLoss: 0.310463\t Test Accuracy: 89.0000%\n",
            " Train Epoch: 10/10 [60000/60000 (100%)]\tLoss: 0.241920\t Test Accuracy: 87.7500%\n"
          ],
          "name": "stdout"
        }
      ]
    },
    {
      "cell_type": "markdown",
      "metadata": {
        "id": "kXI4Fb4740RI"
      },
      "source": [
        "### Dataframes"
      ]
    },
    {
      "cell_type": "code",
      "metadata": {
        "colab": {
          "base_uri": "https://localhost:8080/"
        },
        "id": "XuWNp0Gq9nxH",
        "outputId": "c836d51b-f5fb-4bc6-9c14-ce7562418be6"
      },
      "source": [
        "losses_ln[234+235]"
      ],
      "execution_count": 31,
      "outputs": [
        {
          "output_type": "execute_result",
          "data": {
            "text/plain": [
              "0.4228805601596832"
            ]
          },
          "metadata": {
            "tags": []
          },
          "execution_count": 31
        }
      ]
    },
    {
      "cell_type": "code",
      "metadata": {
        "id": "shfZjTK2_Ol4"
      },
      "source": [
        "def filter_losses(losses, EPOCHS):\r\n",
        "  losses_filtered = []\r\n",
        "  for i in range(EPOCHS):\r\n",
        "    if i==0:\r\n",
        "      losses_filtered.append(losses[nb_batch-1])\r\n",
        "    else:\r\n",
        "      losses_filtered.append(losses[nb_batch-1+nb_batch*i])\r\n",
        "  return losses_filtered"
      ],
      "execution_count": 32,
      "outputs": []
    },
    {
      "cell_type": "code",
      "metadata": {
        "colab": {
          "base_uri": "https://localhost:8080/"
        },
        "id": "9jsUZduq7KKC",
        "outputId": "b921bd04-8ce1-4fe7-a8eb-bef56820e53e"
      },
      "source": [
        "len(accuracies_ln)"
      ],
      "execution_count": 33,
      "outputs": [
        {
          "output_type": "execute_result",
          "data": {
            "text/plain": [
              "10"
            ]
          },
          "metadata": {
            "tags": []
          },
          "execution_count": 33
        }
      ]
    },
    {
      "cell_type": "code",
      "metadata": {
        "colab": {
          "base_uri": "https://localhost:8080/",
          "height": 394
        },
        "id": "F6qNWXnC4zkN",
        "outputId": "0c6fb216-860d-4fd7-a3b4-6756033f7d72"
      },
      "source": [
        "import pandas as pd \r\n",
        "\r\n",
        "d = {('AlexNet architecture', 'accuracy'): accuracies_an,\r\n",
        "     ('AlexNet architecture', 'loss'): filter_losses(losses_an, EPOCHS),\r\n",
        "     ('LeNet architecture','accuracy'): accuracies_ln,\r\n",
        "     ('LeNet architecture','loss'): filter_losses(losses_ln, EPOCHS)\r\n",
        "}\r\n",
        "l=[('AlexNet architecture', 'accuracy'),  ('AlexNet architecture', 'loss'), ('LeNet architecture','accuracy'),  ('LeNet architecture','loss')]\r\n",
        "df = pd.DataFrame(data=d, columns = l)\r\n",
        "\r\n",
        "df.columns = pd.MultiIndex.from_tuples(df.columns, names=['',''])\r\n",
        "df"
      ],
      "execution_count": 34,
      "outputs": [
        {
          "output_type": "execute_result",
          "data": {
            "text/html": [
              "<div>\n",
              "<style scoped>\n",
              "    .dataframe tbody tr th:only-of-type {\n",
              "        vertical-align: middle;\n",
              "    }\n",
              "\n",
              "    .dataframe tbody tr th {\n",
              "        vertical-align: top;\n",
              "    }\n",
              "\n",
              "    .dataframe thead tr th {\n",
              "        text-align: left;\n",
              "    }\n",
              "</style>\n",
              "<table border=\"1\" class=\"dataframe\">\n",
              "  <thead>\n",
              "    <tr>\n",
              "      <th></th>\n",
              "      <th colspan=\"2\" halign=\"left\">AlexNet architecture</th>\n",
              "      <th colspan=\"2\" halign=\"left\">LeNet architecture</th>\n",
              "    </tr>\n",
              "    <tr>\n",
              "      <th></th>\n",
              "      <th>accuracy</th>\n",
              "      <th>loss</th>\n",
              "      <th>accuracy</th>\n",
              "      <th>loss</th>\n",
              "    </tr>\n",
              "  </thead>\n",
              "  <tbody>\n",
              "    <tr>\n",
              "      <th>0</th>\n",
              "      <td>0.8205</td>\n",
              "      <td>0.443634</td>\n",
              "      <td>0.8118</td>\n",
              "      <td>0.485583</td>\n",
              "    </tr>\n",
              "    <tr>\n",
              "      <th>1</th>\n",
              "      <td>0.8511</td>\n",
              "      <td>0.506564</td>\n",
              "      <td>0.8507</td>\n",
              "      <td>0.422881</td>\n",
              "    </tr>\n",
              "    <tr>\n",
              "      <th>2</th>\n",
              "      <td>0.8556</td>\n",
              "      <td>0.468073</td>\n",
              "      <td>0.8597</td>\n",
              "      <td>0.387924</td>\n",
              "    </tr>\n",
              "    <tr>\n",
              "      <th>3</th>\n",
              "      <td>0.8627</td>\n",
              "      <td>0.445185</td>\n",
              "      <td>0.8748</td>\n",
              "      <td>0.445230</td>\n",
              "    </tr>\n",
              "    <tr>\n",
              "      <th>4</th>\n",
              "      <td>0.8690</td>\n",
              "      <td>0.276765</td>\n",
              "      <td>0.8745</td>\n",
              "      <td>0.222180</td>\n",
              "    </tr>\n",
              "    <tr>\n",
              "      <th>5</th>\n",
              "      <td>0.8685</td>\n",
              "      <td>0.370366</td>\n",
              "      <td>0.8725</td>\n",
              "      <td>0.254469</td>\n",
              "    </tr>\n",
              "    <tr>\n",
              "      <th>6</th>\n",
              "      <td>0.8813</td>\n",
              "      <td>0.423889</td>\n",
              "      <td>0.8768</td>\n",
              "      <td>0.369434</td>\n",
              "    </tr>\n",
              "    <tr>\n",
              "      <th>7</th>\n",
              "      <td>0.8797</td>\n",
              "      <td>0.251775</td>\n",
              "      <td>0.8605</td>\n",
              "      <td>0.273147</td>\n",
              "    </tr>\n",
              "    <tr>\n",
              "      <th>8</th>\n",
              "      <td>0.8829</td>\n",
              "      <td>0.204406</td>\n",
              "      <td>0.8762</td>\n",
              "      <td>0.402334</td>\n",
              "    </tr>\n",
              "    <tr>\n",
              "      <th>9</th>\n",
              "      <td>0.8811</td>\n",
              "      <td>0.372553</td>\n",
              "      <td>0.8729</td>\n",
              "      <td>0.213760</td>\n",
              "    </tr>\n",
              "  </tbody>\n",
              "</table>\n",
              "</div>"
            ],
            "text/plain": [
              "  AlexNet architecture           LeNet architecture          \n",
              "              accuracy      loss           accuracy      loss\n",
              "0               0.8205  0.443634             0.8118  0.485583\n",
              "1               0.8511  0.506564             0.8507  0.422881\n",
              "2               0.8556  0.468073             0.8597  0.387924\n",
              "3               0.8627  0.445185             0.8748  0.445230\n",
              "4               0.8690  0.276765             0.8745  0.222180\n",
              "5               0.8685  0.370366             0.8725  0.254469\n",
              "6               0.8813  0.423889             0.8768  0.369434\n",
              "7               0.8797  0.251775             0.8605  0.273147\n",
              "8               0.8829  0.204406             0.8762  0.402334\n",
              "9               0.8811  0.372553             0.8729  0.213760"
            ]
          },
          "metadata": {
            "tags": []
          },
          "execution_count": 34
        }
      ]
    },
    {
      "cell_type": "code",
      "metadata": {
        "id": "8q0SAA_mK1EQ"
      },
      "source": [
        "#Save the df\r\n",
        "df.to_csv('csv/differences_on_fashion.csv')\r\n"
      ],
      "execution_count": 35,
      "outputs": []
    },
    {
      "cell_type": "code",
      "metadata": {
        "colab": {
          "base_uri": "https://localhost:8080/",
          "height": 441
        },
        "id": "KM1e0SIgHaLW",
        "outputId": "7e19d593-83fa-4fcc-a10f-799d3f7e2d59"
      },
      "source": [
        "\r\n",
        "fig, (ax1, ax2) = plt.subplots(1, 2, sharey=True, figsize=(15,6))\r\n",
        "\r\n",
        "ax1.plot(np.arange(EPOCHS), accuracies_ln)\r\n",
        "ax1.plot(np.arange(EPOCHS), accuracies_an)\r\n",
        "ax2.plot(np.arange(EPOCHS), filter_losses(losses_an, EPOCHS))\r\n",
        "ax2.plot(np.arange(EPOCHS), filter_losses(losses_ln, EPOCHS))\r\n",
        "plt.ylim(0,1)\r\n",
        "ax1.set_title(\"Test accuracy during epochs\")\r\n",
        "ax2.set_title(\"Train loss during epochs\")\r\n",
        "\r\n",
        "for ax in [ax1, ax2]:\r\n",
        "  ax.set_xlabel(\"Epochs\")\r\n",
        "\r\n",
        "ax1.set_ylabel(\"Test accuracy\")\r\n",
        "ax2.set_ylabel(\"Train loss\")\r\n",
        "\r\n",
        "plt.legend(loc='lower right')"
      ],
      "execution_count": 36,
      "outputs": [
        {
          "output_type": "stream",
          "text": [
            "No handles with labels found to put in legend.\n"
          ],
          "name": "stderr"
        },
        {
          "output_type": "execute_result",
          "data": {
            "text/plain": [
              "<matplotlib.legend.Legend at 0x7f7b5b86f1d0>"
            ]
          },
          "metadata": {
            "tags": []
          },
          "execution_count": 36
        },
        {
          "output_type": "display_data",
          "data": {
            "image/png": "[encoded data removed]",
            "text/plain": [
              "<Figure size 1080x432 with 2 Axes>"
            ]
          },
          "metadata": {
            "tags": [],
            "needs_background": "light"
          }
        }
      ]
    },
    {
      "cell_type": "markdown",
      "metadata": {
        "id": "V-T8oSXMkXe0"
      },
      "source": [
        "###Differences between maxpooling and avgpooling"
      ]
    },
    {
      "cell_type": "code",
      "metadata": {
        "id": "12EP3fqlkW3Y"
      },
      "source": [
        "class Model_Max_Pool(nn.Module):\r\n",
        "    def __init__(self):\r\n",
        "        super(Model_Max_Pool, self).__init__()\r\n",
        "        # use nn.Sequential() for each layer1 and layer2, with nn.Conv2d + nn.ReLU + nn.MaxPool2d\r\n",
        "        self.layer1 = nn.Sequential(\r\n",
        "            nn.Conv2d(in_channels=1, out_channels=6, kernel_size=(5, 5)),  # output dimension = (28-5+1)*24*6= 2187\r\n",
        "            nn.ReLU(),\r\n",
        "            nn.MaxPool2d(kernel_size=(2, 2), stride=2)  # output dimension = ((24-2)%2+1)*12*6 =\r\n",
        "        )\r\n",
        "        self.layer2 = nn.Sequential(\r\n",
        "            nn.Conv2d(in_channels=6, out_channels=16, kernel_size=(5, 5)),  # output dimension = (12-5+1)*8*16\r\n",
        "            nn.ReLU(),\r\n",
        "            nn.MaxPool2d(kernel_size=(2, 2), stride=2)  # output dimension = ((8-2)%2+1)*4*16 = 256\r\n",
        "        )\r\n",
        "        # use nn.Linear with 1000 neurons\r\n",
        "        self.fc1 = nn.Linear(256, 1000)\r\n",
        "        # use nn.Linear to output a one hot vector to encode the output\r\n",
        "        self.fc2 = nn.Linear(1000, 10)\r\n",
        "\r\n",
        "    def forward(self, x):\r\n",
        "        out = self.layer1(x)\r\n",
        "        out = self.layer2(out)\r\n",
        "        # print(out.size())\r\n",
        "        # use reshape() to match the input of the FC layer1\r\n",
        "        out = out.reshape(out.size(0), -1)\r\n",
        "        out = self.fc1(out)\r\n",
        "        out = self.fc2(out)\r\n",
        "        # use F.log_softmax() to normalize the output\r\n",
        "        sm = nn.functional.log_softmax(out, _stacklevel=3)\r\n",
        "        return sm"
      ],
      "execution_count": 37,
      "outputs": []
    },
    {
      "cell_type": "code",
      "metadata": {
        "id": "hsGA8d_gkWFY",
        "outputId": "34616ae4-3b4d-44e2-b162-3ecafd182ebb",
        "colab": {
          "base_uri": "https://localhost:8080/"
        }
      },
      "source": [
        "losses_max = []\r\n",
        "accuracies_max = []\r\n",
        "\r\n",
        "model = Model_Max_Pool()\r\n",
        "\r\n",
        "optimizer = optim.Adam(model.parameters(),  lr=0.001)\r\n",
        "\r\n",
        "\r\n",
        "model.to(device)\r\n",
        "\r\n",
        "for epoch in range(EPOCHS):\r\n",
        "  losses_max.extend(train_model(train_loader_lenet, device, model, optimizer, epoch,  EPOCHS, batch_size)[-nb_batch:])\r\n",
        "  accuracies_max.append(evaluate_model(model, device, test_loader_lenet, losses_ln[-1], EPOCHS, epoch, batch_size, len(train_loader_lenet.dataset)))"
      ],
      "execution_count": 43,
      "outputs": [
        {
          "output_type": "stream",
          "text": [
            "/usr/local/lib/python3.6/dist-packages/ipykernel_launcher.py:29: UserWarning: Implicit dimension choice for log_softmax has been deprecated. Change the call to include dim=X as an argument.\n"
          ],
          "name": "stderr"
        },
        {
          "output_type": "stream",
          "text": [
            " Train Epoch: 1/10 [60000/60000 (100%)]\tLoss: 0.241920\t Test Accuracy: 82.7400%\n",
            " Train Epoch: 2/10 [60000/60000 (100%)]\tLoss: 0.241920\t Test Accuracy: 85.9500%\n",
            " Train Epoch: 3/10 [60000/60000 (100%)]\tLoss: 0.241920\t Test Accuracy: 85.9600%\n",
            " Train Epoch: 4/10 [60000/60000 (100%)]\tLoss: 0.241920\t Test Accuracy: 86.7500%\n",
            " Train Epoch: 5/10 [60000/60000 (100%)]\tLoss: 0.241920\t Test Accuracy: 87.6400%\n",
            " Train Epoch: 6/10 [60000/60000 (100%)]\tLoss: 0.241920\t Test Accuracy: 88.1600%\n",
            " Train Epoch: 7/10 [60000/60000 (100%)]\tLoss: 0.241920\t Test Accuracy: 87.3400%\n",
            " Train Epoch: 8/10 [60000/60000 (100%)]\tLoss: 0.241920\t Test Accuracy: 87.6600%\n",
            " Train Epoch: 9/10 [60000/60000 (100%)]\tLoss: 0.241920\t Test Accuracy: 88.1000%\n",
            " Train Epoch: 10/10 [60000/60000 (100%)]\tLoss: 0.241920\t Test Accuracy: 87.7500%\n"
          ],
          "name": "stdout"
        }
      ]
    },
    {
      "cell_type": "code",
      "metadata": {
        "id": "WvD0H547Did3",
        "outputId": "92543824-68b1-4424-e344-6c449a47e8a6",
        "colab": {
          "base_uri": "https://localhost:8080/"
        }
      },
      "source": [
        "len(losses_max)"
      ],
      "execution_count": 41,
      "outputs": [
        {
          "output_type": "execute_result",
          "data": {
            "text/plain": [
              "0"
            ]
          },
          "metadata": {
            "tags": []
          },
          "execution_count": 41
        }
      ]
    },
    {
      "cell_type": "code",
      "metadata": {
        "id": "PzJVPSHQCVyw"
      },
      "source": [
        "import pandas as pd \r\n",
        "\r\n",
        "d = {('Max pooling', 'accuracy'): accuracies_max,\r\n",
        "     ('Max pooling', 'loss'): filter_losses(losses_max, EPOCHS),\r\n",
        "     ('Average pooling','accuracy'): accuracies_ln,\r\n",
        "     ('Average pooling','loss'): filter_losses(losses_ln, EPOCHS)\r\n",
        "}\r\n",
        "l=[('Max pooling', 'accuracy'),  ('Max pooling', 'loss'), ('LeNet architecture','accuracy'),  ('LeNet architecture','loss')]\r\n",
        "df = pd.DataFrame(data=d, columns = l)\r\n",
        "\r\n",
        "df.columns = pd.MultiIndex.from_tuples(df.columns, names=['',''])"
      ],
      "execution_count": 44,
      "outputs": []
    },
    {
      "cell_type": "markdown",
      "metadata": {
        "id": "DgjBheBdCDEF"
      },
      "source": [
        "### Model with multiples fully connected layers"
      ]
    },
    {
      "cell_type": "code",
      "metadata": {
        "id": "VgLnGSQYCCIa"
      },
      "source": [
        "class Model_Multiple_fc(nn.Module):\r\n",
        "    def __init__(self):\r\n",
        "        super(Model_Multiple_fc, self).__init__()\r\n",
        "        # use nn.Sequential() for each layer1 and layer2, with nn.Conv2d + nn.ReLU + nn.MaxPool2d\r\n",
        "        self.layer1 = nn.Sequential(\r\n",
        "            nn.Conv2d(in_channels=1, out_channels=6, kernel_size=(5, 5)),  # output dimension = (28-5+1)*24*6= 2187\r\n",
        "            nn.ReLU(),\r\n",
        "            nn.MaxPool2d(kernel_size=(2, 2), stride=2)  # output dimension = ((24-2)%2+1)*12*6 =\r\n",
        "        )\r\n",
        "\r\n",
        "        self.layer2 = nn.Sequential(\r\n",
        "            nn.Conv2d(in_channels=6, out_channels=16, kernel_size=(5, 5)),  # output dimension = (12-5+1)*8*16\r\n",
        "            nn.ReLU(),\r\n",
        "            nn.MaxPool2d(kernel_size=(2, 2), stride=2)  # output dimension = ((8-2)%2+1)*4*16 = 256\r\n",
        "        )\r\n",
        "        # use nn.Linear with 1000 neurons\r\n",
        "        self.fc1 = nn.Linear(256, 1000)\r\n",
        "        self.fc2 = nn.Linear(1000, 1000)\r\n",
        "        self.fc3 = nn.Linear(1000, 1000)\r\n",
        "        self.fc4 = nn.Linear(1000, 1000)\r\n",
        "        self.fc5 = nn.Linear(1000, 1000)\r\n",
        "        # use nn.Linear to output a one hot vector to encode the output\r\n",
        "        self.fc6 = nn.Linear(1000, 10)\r\n",
        "\r\n",
        "    def forward(self, x):\r\n",
        "        out = self.layer1(x)\r\n",
        "        out = self.layer2(out)\r\n",
        "        # print(out.size())\r\n",
        "        # use reshape() to match the input of the FC layer1\r\n",
        "        out = out.reshape(out.size(0), -1)\r\n",
        "        out = self.fc1(out)\r\n",
        "        out = self.fc2(out)\r\n",
        "        out = self.fc3(out)\r\n",
        "        out = self.fc4(out)\r\n",
        "        out = self.fc5(out)\r\n",
        "        out = self.fc6(out)      \r\n",
        "        # use F.log_softmax() to normalize the output\r\n",
        "        sm = nn.functional.log_softmax(out, _stacklevel=3)\r\n",
        "        return sm"
      ],
      "execution_count": 45,
      "outputs": []
    },
    {
      "cell_type": "code",
      "metadata": {
        "id": "_a4163H9oQ3w",
        "outputId": "11eb16b1-118f-44ea-bf10-aa0f8ceea0dc",
        "colab": {
          "base_uri": "https://localhost:8080/"
        }
      },
      "source": [
        "from models.lenet_arch import Model_Type_LeNet\r\n",
        "import torch.optim as optim\r\n",
        "\r\n",
        "EPOCHS = 10\r\n",
        "losses_m_fc = []\r\n",
        "accuracies_m_fc = []\r\n",
        "\r\n",
        "model = Model_Multiple_fc()\r\n",
        "\r\n",
        "optimizer = optim.Adam(model.parameters(),  lr=0.001)\r\n",
        "\r\n",
        "model.to(device)\r\n",
        "\r\n",
        "for epoch in range(EPOCHS):\r\n",
        "  losses_m_fc.extend(train_model(train_loader_lenet, device, model, optimizer, epoch,  EPOCHS, batch_size)[-nb_batch:])\r\n",
        "  accuracies_m_fc.append(evaluate_model(model, device, test_loader_lenet, losses_m_fc[-1], EPOCHS, epoch, batch_size, len(train_loader_lenet.dataset)))"
      ],
      "execution_count": 46,
      "outputs": [
        {
          "output_type": "stream",
          "text": [
            "/usr/local/lib/python3.6/dist-packages/ipykernel_launcher.py:38: UserWarning: Implicit dimension choice for log_softmax has been deprecated. Change the call to include dim=X as an argument.\n"
          ],
          "name": "stderr"
        },
        {
          "output_type": "stream",
          "text": [
            " Train Epoch: 1/10 [60000/60000 (100%)]\tLoss: 0.536575\t Test Accuracy: 76.9600%\n",
            " Train Epoch: 2/10 [60000/60000 (100%)]\tLoss: 0.600258\t Test Accuracy: 80.7100%\n",
            " Train Epoch: 3/10 [60000/60000 (100%)]\tLoss: 2.315520\t Test Accuracy: 10.0000%\n",
            " Train Epoch: 4/10 [60000/60000 (100%)]\tLoss: 2.296529\t Test Accuracy: 10.0000%\n",
            " Train Epoch: 5/10 [60000/60000 (100%)]\tLoss: 2.300209\t Test Accuracy: 10.0000%\n",
            " Train Epoch: 6/10 [60000/60000 (100%)]\tLoss: 2.300910\t Test Accuracy: 10.0000%\n",
            " Train Epoch: 7/10 [60000/60000 (100%)]\tLoss: 2.383002\t Test Accuracy: 10.0000%\n",
            " Train Epoch: 8/10 [60000/60000 (100%)]\tLoss: 2.318822\t Test Accuracy: 10.0000%\n",
            " Train Epoch: 9/10 [60000/60000 (100%)]\tLoss: 2.311397\t Test Accuracy: 10.0000%\n",
            " Train Epoch: 10/10 [60000/60000 (100%)]\tLoss: 2.331974\t Test Accuracy: 10.0000%\n"
          ],
          "name": "stdout"
        }
      ]
    },
    {
      "cell_type": "markdown",
      "metadata": {
        "id": "JMn9EyGWShs9"
      },
      "source": [
        "###One large fully connected layer"
      ]
    },
    {
      "cell_type": "code",
      "metadata": {
        "id": "lKipPDRXShO9"
      },
      "source": [
        "class Model_Big_fc(nn.Module):\r\n",
        "    def __init__(self):\r\n",
        "        super(Model_Big_fc, self).__init__()\r\n",
        "        # use nn.Sequential() for each layer1 and layer2, with nn.Conv2d + nn.ReLU + nn.MaxPool2d\r\n",
        "        self.layer1 = nn.Sequential(\r\n",
        "            nn.Conv2d(in_channels=1, out_channels=6, kernel_size=(5, 5)),  # output dimension = (28-5+1)*24*6= 2187\r\n",
        "            nn.ReLU(),\r\n",
        "            nn.MaxPool2d(kernel_size=(2, 2), stride=2)  # output dimension = ((24-2)%2+1)*12*6 =\r\n",
        "        )\r\n",
        "\r\n",
        "        self.layer2 = nn.Sequential(\r\n",
        "            nn.Conv2d(in_channels=6, out_channels=16, kernel_size=(5, 5)),  # output dimension = (12-5+1)*8*16\r\n",
        "            nn.ReLU(),\r\n",
        "            nn.MaxPool2d(kernel_size=(2, 2), stride=2)  # output dimension = ((8-2)%2+1)*4*16 = 256\r\n",
        "        )\r\n",
        "        # use nn.Linear with 1000 neurons\r\n",
        "        self.fc1 = nn.Linear(256, 100000)\r\n",
        "        # use nn.Linear to output a one hot vector to encode the output\r\n",
        "        self.fc2 = nn.Linear(100000, 10)\r\n",
        "\r\n",
        "    def forward(self, x):\r\n",
        "        out = self.layer1(x)\r\n",
        "        out = self.layer2(out)\r\n",
        "        # print(out.size())\r\n",
        "        # use reshape() to match the input of the FC layer1\r\n",
        "        out = out.reshape(out.size(0), -1)\r\n",
        "        out = self.fc1(out)\r\n",
        "        out = self.fc2(out) \r\n",
        "        # use F.log_softmax() to normalize the output\r\n",
        "        sm = nn.functional.log_softmax(out, _stacklevel=3)\r\n",
        "        return sm"
      ],
      "execution_count": 57,
      "outputs": []
    },
    {
      "cell_type": "code",
      "metadata": {
        "id": "HxJJK9FuS6xu",
        "outputId": "28bb3f3e-02e1-449b-8f6d-6cb17fcc1f41",
        "colab": {
          "base_uri": "https://localhost:8080/"
        }
      },
      "source": [
        "losses_big_fc = []\r\n",
        "accuracies_big_fc = []\r\n",
        "\r\n",
        "model = Model_Big_fc()\r\n",
        "\r\n",
        "optimizer = optim.Adam(model.parameters(),  lr=0.001)\r\n",
        "\r\n",
        "model.to(device)\r\n",
        "\r\n",
        "for epoch in range(EPOCHS):\r\n",
        "  losses_big_fc.extend(train_model(train_loader_lenet, device, model, optimizer, epoch,  EPOCHS, batch_size)[-nb_batch:])\r\n",
        "  accuracies_big_fc.append(evaluate_model(model, device, test_loader_lenet, losses_big_fc[-1], EPOCHS, epoch, batch_size, len(train_loader_lenet.dataset)))"
      ],
      "execution_count": 58,
      "outputs": [
        {
          "output_type": "stream",
          "text": [
            "/usr/local/lib/python3.6/dist-packages/ipykernel_launcher.py:30: UserWarning: Implicit dimension choice for log_softmax has been deprecated. Change the call to include dim=X as an argument.\n"
          ],
          "name": "stderr"
        },
        {
          "output_type": "stream",
          "text": [
            " Train Epoch: 1/10 [60000/60000 (100%)]\tLoss: 0.563472\t Test Accuracy: 76.9100%\n",
            " Train Epoch: 2/10 [60000/60000 (100%)]\tLoss: 0.618095\t Test Accuracy: 80.8500%\n",
            " Train Epoch: 3/10 [60000/60000 (100%)]\tLoss: 0.469612\t Test Accuracy: 82.4600%\n",
            " Train Epoch: 4/10 [60000/60000 (100%)]\tLoss: 0.357051\t Test Accuracy: 83.8900%\n",
            " Train Epoch: 5/10 [60000/60000 (100%)]\tLoss: 0.420779\t Test Accuracy: 80.0000%\n",
            " Train Epoch: 6/10 [60000/60000 (100%)]\tLoss: 0.329481\t Test Accuracy: 83.9000%\n",
            " Train Epoch: 7/10 [60000/60000 (100%)]\tLoss: 0.376454\t Test Accuracy: 84.4500%\n",
            " Train Epoch: 8/10 [60000/60000 (100%)]\tLoss: 0.502976\t Test Accuracy: 83.9900%\n",
            " Train Epoch: 9/10 [60000/60000 (100%)]\tLoss: 0.356288\t Test Accuracy: 85.7900%\n",
            " Train Epoch: 10/10 [60000/60000 (100%)]\tLoss: 0.428454\t Test Accuracy: 85.4200%\n"
          ],
          "name": "stdout"
        }
      ]
    },
    {
      "cell_type": "markdown",
      "metadata": {
        "id": "J2MqqvVSMdSO"
      },
      "source": [
        "### Deep CNN model"
      ]
    },
    {
      "cell_type": "code",
      "metadata": {
        "id": "9J6EvS_hMZ_o"
      },
      "source": [
        "class Model_Deep_CNN(nn.Module):\r\n",
        "    def __init__(self):\r\n",
        "        super(Model_Deep_CNN, self).__init__()\r\n",
        "        # use nn.Sequential() for each layer1 and layer2, with nn.Conv2d + nn.ReLU + nn.MaxPool2d\r\n",
        "        self.layer1 = nn.Sequential(\r\n",
        "            nn.Conv2d(in_channels=1, out_channels=6, kernel_size=(3,3)),  # output dimension = (28-5+1)*24*6= 2187\r\n",
        "            nn.ReLU(),\r\n",
        "            nn.MaxPool2d(kernel_size=(2, 2), stride=2)  # output dimension = 13*13*6\r\n",
        "        )\r\n",
        "        self.layer2 = nn.Sequential(\r\n",
        "            nn.Conv2d(in_channels=6, out_channels=12, kernel_size=(3, 3)),  # 11*11*12\r\n",
        "        )\r\n",
        "        self.layer3 = nn.Sequential(\r\n",
        "            nn.Conv2d(in_channels=12, out_channels=16, kernel_size=(3, 3)),  # 9*9*6\r\n",
        "        )\r\n",
        "        self.layer4 = nn.Sequential(\r\n",
        "            nn.Conv2d(in_channels=16, out_channels=32, kernel_size=(4, 4)),  # output dimension = 6*6*32\r\n",
        "            nn.ReLU(),\r\n",
        "            nn.MaxPool2d(kernel_size=(2, 2), stride=2)  # output dimension = 3*3*32\r\n",
        "        )\r\n",
        "        # use nn.Linear with 1000 neurons\r\n",
        "        self.fc1 = nn.Linear(288, 1000)\r\n",
        "        # use nn.Linear to output a one hot vector to encode the output\r\n",
        "        self.fc2 = nn.Linear(1000, 10)\r\n",
        "\r\n",
        "    def forward(self, x):\r\n",
        "        out = self.layer1(x)\r\n",
        "        out = self.layer2(out)\r\n",
        "        out = self.layer3(out)\r\n",
        "        out = self.layer4(out)\r\n",
        "        # print(out.size())\r\n",
        "        # use reshape() to match the input of the FC layer1\r\n",
        "        out = out.reshape(out.size(0), -1)\r\n",
        "        out = self.fc1(out)\r\n",
        "        out = self.fc2(out) \r\n",
        "        # use F.log_softmax() to normalize the output\r\n",
        "        sm = nn.functional.log_softmax(out, _stacklevel=3)\r\n",
        "        return sm"
      ],
      "execution_count": 50,
      "outputs": []
    },
    {
      "cell_type": "code",
      "metadata": {
        "id": "q95RJbpGQXAd",
        "outputId": "840c673e-c241-48b8-81f9-140d2202826e",
        "colab": {
          "base_uri": "https://localhost:8080/"
        }
      },
      "source": [
        "EPOCHS = 10\r\n",
        "losses_d_cnn = []\r\n",
        "accuracies_d_cnn = []\r\n",
        "\r\n",
        "model = Model_Deep_CNN()\r\n",
        "\r\n",
        "optimizer = optim.Adam(model.parameters(),  lr=0.001)\r\n",
        "\r\n",
        "model.to(device)\r\n",
        "\r\n",
        "for epoch in range(EPOCHS):\r\n",
        "  losses_d_cnn.extend(train_model(train_loader_lenet, device, model, optimizer, epoch,  EPOCHS, batch_size)[-nb_batch:])\r\n",
        "  accuracies_d_cnn.append(evaluate_model(model, device, test_loader_lenet, losses_d_cnn[-1], EPOCHS, epoch, batch_size, len(train_loader_lenet.dataset)))"
      ],
      "execution_count": 52,
      "outputs": [
        {
          "output_type": "stream",
          "text": [
            "/usr/local/lib/python3.6/dist-packages/ipykernel_launcher.py:37: UserWarning: Implicit dimension choice for log_softmax has been deprecated. Change the call to include dim=X as an argument.\n"
          ],
          "name": "stderr"
        },
        {
          "output_type": "stream",
          "text": [
            " Train Epoch: 1/10 [60000/60000 (100%)]\tLoss: 0.485131\t Test Accuracy: 83.8900%\n",
            " Train Epoch: 2/10 [60000/60000 (100%)]\tLoss: 0.473436\t Test Accuracy: 84.7500%\n",
            " Train Epoch: 3/10 [60000/60000 (100%)]\tLoss: 0.407569\t Test Accuracy: 87.3700%\n",
            " Train Epoch: 4/10 [60000/60000 (100%)]\tLoss: 0.325516\t Test Accuracy: 85.5800%\n",
            " Train Epoch: 5/10 [60000/60000 (100%)]\tLoss: 0.295797\t Test Accuracy: 87.6300%\n",
            " Train Epoch: 6/10 [60000/60000 (100%)]\tLoss: 0.219567\t Test Accuracy: 88.6300%\n",
            " Train Epoch: 7/10 [60000/60000 (100%)]\tLoss: 0.412743\t Test Accuracy: 87.6000%\n",
            " Train Epoch: 8/10 [60000/60000 (100%)]\tLoss: 0.251233\t Test Accuracy: 87.6600%\n",
            " Train Epoch: 9/10 [60000/60000 (100%)]\tLoss: 0.268885\t Test Accuracy: 87.9300%\n",
            " Train Epoch: 10/10 [60000/60000 (100%)]\tLoss: 0.465722\t Test Accuracy: 87.9900%\n"
          ],
          "name": "stdout"
        }
      ]
    },
    {
      "cell_type": "code",
      "metadata": {
        "id": "VNdZCYNwRvL2",
        "outputId": "c0e1bb51-e4f0-43e8-aded-4faa222ef5a5",
        "colab": {
          "base_uri": "https://localhost:8080/",
          "height": 581
        }
      },
      "source": [
        "from functions.plot_model import plot_grad_flow\r\n",
        "layers = []\r\n",
        "for n, p in model.named_parameters():\r\n",
        "    if(p.requires_grad) and (\"bias\" not in n):\r\n",
        "        layers.append(n)\r\n",
        "fig = plt.figure(figsize=(8,8))\r\n",
        "ax = fig.subplots()\r\n",
        "plt.xlabel(\"mini batch\")\r\n",
        "plt.ylabel(\"Average Gradient\")\r\n",
        "plt.title(\"Gradient Flow\")\r\n",
        "plt.grid(True)\r\n",
        "\r\n",
        "plot_grad_flow(model.named_parameters())"
      ],
      "execution_count": 56,
      "outputs": [
        {
          "output_type": "display_data",
          "data": {
            "image/png": "[encoded data removed]",
            "text/plain": [
              "<Figure size 576x576 with 1 Axes>"
            ]
          },
          "metadata": {
            "tags": [],
            "needs_background": "light"
          }
        }
      ]
    },
    {
      "cell_type": "code",
      "metadata": {
        "id": "_MDBc8dwV9r1",
        "outputId": "d994114e-ede1-405a-a131-7ddfebb3533f",
        "colab": {
          "base_uri": "https://localhost:8080/"
        }
      },
      "source": [
        "len(losses_d_cnn)"
      ],
      "execution_count": 60,
      "outputs": [
        {
          "output_type": "execute_result",
          "data": {
            "text/plain": [
              "2350"
            ]
          },
          "metadata": {
            "tags": []
          },
          "execution_count": 60
        }
      ]
    },
    {
      "cell_type": "markdown",
      "metadata": {
        "id": "a4P5J6fNTmDb"
      },
      "source": [
        "###Stack all results in graph and dataframe"
      ]
    },
    {
      "cell_type": "code",
      "metadata": {
        "id": "VkOA3iG-Sa_-",
        "outputId": "66aae3ac-8ab3-4f06-b91f-11e26fdd24ef",
        "colab": {
          "base_uri": "https://localhost:8080/",
          "height": 423
        }
      },
      "source": [
        "fig, (ax1, ax2) = plt.subplots(1, 2, sharey=False, figsize=(15,6))\r\n",
        "\r\n",
        "ax1.plot(np.arange(EPOCHS), accuracies_d_cnn)\r\n",
        "ax1.plot(np.arange(EPOCHS), accuracies_big_fc)\r\n",
        "ax1.plot(np.arange(EPOCHS), accuracies_m_fc)\r\n",
        "ax2.plot(np.arange(EPOCHS), filter_losses(losses_d_cnn, EPOCHS), label=\"deep CNN\")\r\n",
        "ax2.plot(np.arange(EPOCHS), filter_losses(losses_big_fc, EPOCHS), label=\"large fc layer\")\r\n",
        "ax2.plot(np.arange(EPOCHS), filter_losses(losses_m_fc, EPOCHS), label=\"multiple fc layer\")\r\n",
        "ax1.set_ylim(0,1)\r\n",
        "ax1.set_title(\"Test accuracy during epochs\")\r\n",
        "ax2.set_title(\"Train loss during epochs\")\r\n",
        "\r\n",
        "for ax in [ax1, ax2]:\r\n",
        "  ax.set_xlabel(\"Epochs\")\r\n",
        "\r\n",
        "ax1.set_ylabel(\"Test accuracy\")\r\n",
        "ax2.set_ylabel(\"Train loss\")\r\n",
        "\r\n",
        "plt.legend(loc='center right')\r\n"
      ],
      "execution_count": 69,
      "outputs": [
        {
          "output_type": "execute_result",
          "data": {
            "text/plain": [
              "<matplotlib.legend.Legend at 0x7f7b58c80ba8>"
            ]
          },
          "metadata": {
            "tags": []
          },
          "execution_count": 69
        },
        {
          "output_type": "display_data",
          "data": {
            "image/png": "[encoded data removed]",
            "text/plain": [
              "<Figure size 1080x432 with 2 Axes>"
            ]
          },
          "metadata": {
            "tags": [],
            "needs_background": "light"
          }
        }
      ]
    }
  ]
}