{
 "cells": [
  {
   "cell_type": "code",
   "execution_count": 1,
   "metadata": {
    "id": "nOdoagZMgFhv",
    "pycharm": {
     "is_executing": true
    }
   },
   "outputs": [],
   "source": [
    "import numpy\n",
    "import numpy as np\n",
    "import torch\n",
    "import torch.nn as nn\n",
    "import torch.nn.functional as F\n",
    "import torch.utils.data.dataloader as dataloader\n",
    "import torch.optim as optim\n",
    "\n",
    "from torch.utils.data import TensorDataset\n",
    "from torchvision import transforms\n",
    "from torchvision.datasets import MNIST\n",
    "import matplotlib.pyplot as plt\n",
    "\n",
    "SEED = 1\n",
    "\n",
    "# CUDA?\n",
    "cuda = torch.cuda.is_available()\n",
    "\n",
    "# For reproducibility\n",
    "torch.manual_seed(SEED)\n",
    "device = torch.device(\"cuda\" if cuda else \"cpu\")\n",
    "\n",
    "if cuda:\n",
    "    torch.cuda.manual_seed(SEED)"
   ]
  },
  {
   "cell_type": "code",
   "execution_count": 2,
   "metadata": {
    "colab": {
     "base_uri": "https://localhost:8080/"
    },
    "id": "2wsM1n0ogQbi",
    "outputId": "799dcb5a-8569-4777-d55d-7961f9851ab2"
   },
   "outputs": [
    {
     "name": "stdout",
     "output_type": "stream",
     "text": [
      "Cloning into 'CNN_Pytorch'...\n",
      "remote: Enumerating objects: 39, done.\u001b[K\n",
      "remote: Counting objects: 100% (39/39), done.\u001b[K\n",
      "remote: Compressing objects: 100% (34/34), done.\u001b[K\n",
      "remote: Total 39 (delta 3), reused 39 (delta 3), pack-reused 0\u001b[K\n",
      "Unpacking objects: 100% (39/39), done.\n"
     ]
    }
   ],
   "source": [
    "!git clone https://github.com/tcotte/CNN_Pytorch"
   ]
  },
  {
   "cell_type": "code",
   "execution_count": 7,
   "metadata": {
    "colab": {
     "base_uri": "https://localhost:8080/"
    },
    "id": "A2X7Prr8g7ZE",
    "outputId": "d11825ea-103f-44d5-d4b7-cde81c1bc2d7"
   },
   "outputs": [
    {
     "name": "stdout",
     "output_type": "stream",
     "text": [
      "/content/CNN_Pytorch\n"
     ]
    }
   ],
   "source": [
    "%cd CNN_Pytorch/"
   ]
  },
  {
   "cell_type": "code",
   "execution_count": 3,
   "metadata": {
    "id": "OE5JipZ3gFhz",
    "pycharm": {
     "is_executing": false,
     "name": "#%%\n"
    }
   },
   "outputs": [],
   "source": [
    "NetTransform = transforms.Compose([\n",
    "    transforms.ToTensor(),\n",
    "    transforms.Normalize((0.1307,), (0.3081,))                               \n",
    "])"
   ]
  },
  {
   "cell_type": "code",
   "execution_count": 4,
   "metadata": {
    "id": "GmqCrmkrgFh1",
    "pycharm": {
     "is_executing": false,
     "name": "#%%\n"
    }
   },
   "outputs": [],
   "source": [
    "class_names = range(10)"
   ]
  },
  {
   "cell_type": "code",
   "execution_count": 36,
   "metadata": {
    "id": "-mMvEVoagFh4",
    "pycharm": {
     "is_executing": false,
     "name": "#%%\n"
    }
   },
   "outputs": [],
   "source": [
    "from models.lenet_arch import Model_Type_LeNet\n",
    "    \n",
    "model_lenet = Model_Type_LeNet() # model type LeNet is not good for this applciation. Maybe it's because of the dimensions of the input picture or the MaxPool2d instead of the MeanPool2D\n",
    "\n",
    "model_lenet.to(device)\n",
    "# use an optim.Adam() optimizer\n",
    "optimizer = optim.Adam(model_lenet.parameters(),  lr=0.001)"
   ]
  },
  {
   "cell_type": "code",
   "execution_count": 9,
   "metadata": {
    "id": "vVZefDmbgFh7",
    "pycharm": {
     "is_executing": false,
     "name": "#%%\n"
    }
   },
   "outputs": [],
   "source": [
    "BATCH_SIZE=256\n",
    "\n",
    "train_loader = dataloader.DataLoader(\n",
    "    MNIST('./data', train=True, download=True, transform=NetTransform), \n",
    "    batch_size=BATCH_SIZE, shuffle=True, num_workers=4, pin_memory=True)\n",
    "\n",
    "test_loader = dataloader.DataLoader(\n",
    "    MNIST('./data', train=False, download=True, transform=NetTransform), \n",
    "    batch_size=BATCH_SIZE, shuffle=True, num_workers=4, pin_memory=True)\n",
    "\n"
   ]
  },
  {
   "cell_type": "code",
   "execution_count": 10,
   "metadata": {
    "colab": {
     "base_uri": "https://localhost:8080/",
     "height": 281
    },
    "id": "jDwasE_pgFh8",
    "outputId": "1a256c92-4fde-4d98-c729-9c5bd4d85521"
   },
   "outputs": [
    {
     "data": {
      "image/png": "[encoded data removed]",
      "text/plain": [
       "<Figure size 432x288 with 1 Axes>"
      ]
     },
     "metadata": {
      "needs_background": "light",
      "tags": []
     },
     "output_type": "display_data"
    }
   ],
   "source": [
    "import torchvision\n",
    "from functions.plot_picture import matplotlib_imshow\n",
    "# get some random training images\n",
    "dataiter = iter(train_loader)\n",
    "images, labels = dataiter.next()\n",
    "\n",
    "# creat grid of images\n",
    "img_grid = torchvision.utils.make_grid(images[0])\n",
    "\n",
    "# show images & labels\n",
    "matplotlib_imshow(img_grid, class_names[labels[0]])\n",
    "# print()"
   ]
  },
  {
   "cell_type": "code",
   "execution_count": 37,
   "metadata": {
    "colab": {
     "base_uri": "https://localhost:8080/"
    },
    "id": "F_8nqpVWgFh_",
    "outputId": "d5005389-e180-4398-8025-5138f3dc299c",
    "pycharm": {
     "is_executing": true,
     "name": "#%%\n"
    },
    "scrolled": true
   },
   "outputs": [
    {
     "name": "stderr",
     "output_type": "stream",
     "text": [
      "/content/CNN_Pytorch/models/lenet_arch.py:64: UserWarning: Implicit dimension choice for log_softmax has been deprecated. Change the call to include dim=X as an argument.\n",
      "  sm = nn.functional.log_softmax(out, _stacklevel=3)\n"
     ]
    },
    {
     "name": "stdout",
     "output_type": "stream",
     "text": [
      " Train Epoch: 1/10 [60000/60000 (100%)]\tLoss: 0.151720\t Test Accuracy: 97.8500%\n",
      " Train Epoch: 2/10 [60000/60000 (100%)]\tLoss: 0.059350\t Test Accuracy: 98.1000%\n",
      " Train Epoch: 3/10 [60000/60000 (100%)]\tLoss: 0.065072\t Test Accuracy: 98.7000%\n",
      " Train Epoch: 4/10 [60000/60000 (100%)]\tLoss: 0.297859\t Test Accuracy: 98.7400%\n",
      " Train Epoch: 5/10 [60000/60000 (100%)]\tLoss: 0.019658\t Test Accuracy: 98.7800%\n",
      " Train Epoch: 6/10 [60000/60000 (100%)]\tLoss: 0.029034\t Test Accuracy: 98.9100%\n",
      " Train Epoch: 7/10 [60000/60000 (100%)]\tLoss: 0.006005\t Test Accuracy: 98.4700%\n",
      " Train Epoch: 8/10 [60000/60000 (100%)]\tLoss: 0.031069\t Test Accuracy: 98.4800%\n",
      " Train Epoch: 9/10 [60000/60000 (100%)]\tLoss: 0.031369\t Test Accuracy: 98.4500%\n",
      " Train Epoch: 10/10 [60000/60000 (100%)]\tLoss: 0.047138\t Test Accuracy: 98.7800%\n"
     ]
    }
   ],
   "source": [
    "from functions.training import train_model, evaluate_model\n",
    "\n",
    "losses = []\n",
    "accuracies = []\n",
    "EPOCHS = 10\n",
    "batch_size = 256\n",
    "nb_batch = int(np.ceil(len(train_loader.dataset)/batch_size))\n",
    "\n",
    "for epoch in range(EPOCHS):\n",
    "  losses.extend(train_model(train_loader, device, model_lenet, optimizer, epoch, EPOCHS, batch_size)[-nb_batch:])\n",
    "  accuracies.append(evaluate_model(model_lenet, device, test_loader, losses[-1], EPOCHS, epoch, batch_size, len(train_loader.dataset)))"
   ]
  },
  {
   "cell_type": "code",
   "execution_count": 38,
   "metadata": {
    "colab": {
     "base_uri": "https://localhost:8080/",
     "height": 313
    },
    "id": "cPzvjRznmR_w",
    "outputId": "188f31dd-eaa9-4b33-efd0-17485f68e54b"
   },
   "outputs": [
    {
     "data": {
      "text/plain": [
       "Text(0.5, 1.0, 'Training loss during learning')"
      ]
     },
     "execution_count": 38,
     "metadata": {
      "tags": []
     },
     "output_type": "execute_result"
    },
    {
     "data": {
      "image/png": "[encoded data removed]",
      "text/plain": [
       "<Figure size 432x288 with 1 Axes>"
      ]
     },
     "metadata": {
      "needs_background": "light",
      "tags": []
     },
     "output_type": "display_data"
    }
   ],
   "source": [
    "plt.plot(losses)\n",
    "plt.xlabel(\"Batchs\")\n",
    "plt.ylabel(\"Loss\")\n",
    "plt.title(\"Training loss during learning\")\n",
    "# plt.ylim(0,3)"
   ]
  },
  {
   "cell_type": "code",
   "execution_count": null,
   "outputs": [],
   "source": [
    "from functions.plot_model import *\n",
    "\n",
    "model = model_lenet\n",
    "\n",
    "print(model.modules())\n",
    "for m in model.modules():\n",
    "    if isinstance(m, nn.Conv2d):\n",
    "        # find the weight tensor for each module...\n",
    "        plot_kernels(m.weight.data.cpu().numpy()) # .data.cpu().numpy() -> transfer data from gpu to cpu to use kernel\n"
   ],
   "metadata": {
    "collapsed": false,
    "pycharm": {
     "name": "#%%\n"
    }
   }
  },
  {
   "cell_type": "code",
   "execution_count": null,
   "outputs": [],
   "source": [
    "layers = []\n",
    "for n, p in model.named_parameters():\n",
    "    if(p.requires_grad) and (\"bias\" not in n):\n",
    "        layers.append(n)\n",
    "fig = plt.figure(figsize=(8,8))\n",
    "ax = fig.subplots()\n",
    "plt.xlabel(\"mini batch\")\n",
    "plt.ylabel(\"Average Gradient\")\n",
    "plt.title(\"Gradient Flow\")\n",
    "plt.grid(True)\n",
    "\n",
    "plot_grad_flow(model.named_parameters())"
   ],
   "metadata": {
    "collapsed": false,
    "pycharm": {
     "name": "#%%\n"
    }
   }
  },
  {
   "cell_type": "markdown",
   "source": [
    "### Variation of learning rate"
   ],
   "metadata": {
    "collapsed": false
   }
  },
  {
   "cell_type": "code",
   "execution_count": null,
   "outputs": [],
   "source": [
    "from functions.training import train_model, evaluate_model\n",
    "\n",
    "losses = []\n",
    "accuracies = []\n",
    "EPOCHS = 10\n",
    "batch_size = 256\n",
    "nb_batch = int(np.ceil(len(train_loader.dataset)/batch_size))\n",
    "\n",
    "learning_rates = [0.0001, 0.0003, 0.001, 0.003, 0.01, 0.03, 0.1]\n",
    "\n",
    "for lr in learning_rates:\n",
    "  print(\"<============== Learning Rate : \"+ str(lr) +\"==============>\")\n",
    "  optimizer = optim.Adam(model_lenet.parameters(),  lr=lr)\n",
    "  for epoch in range(EPOCHS):\n",
    "    losses.extend(train_model(train_loader, device, model_lenet, optimizer, epoch, EPOCHS, batch_size)[-nb_batch:])\n",
    "    accuracies.append(evaluate_model(model_lenet, device, test_loader, losses[-1], EPOCHS, epoch, batch_size, len(train_loader.dataset)))"
   ],
   "metadata": {
    "collapsed": false,
    "pycharm": {
     "name": "#%%\n"
    }
   }
  },
  {
   "cell_type": "code",
   "execution_count": null,
   "outputs": [],
   "source": [
    "fig = plt.figure()\n",
    "x = np.arange(10)\n",
    "\n",
    "cnt = 0\n",
    "fig = plt.figure(figsize=(12, 8))\n",
    "for lr in learning_rates:\n",
    "  plt.plot(x, accuracies[cnt*10:(cnt+1)*10], label=str(lr))\n",
    "  cnt+=1\n",
    "\n",
    "plt.legend(loc='lower right')\n",
    "plt.xlabel(\"Epochs\")\n",
    "plt.ylabel(\"Accuracy\")\n",
    "plt.title(\"Accuracy in function of learning rate\")"
   ],
   "metadata": {
    "collapsed": false,
    "pycharm": {
     "name": "#%%\n"
    }
   }
  },
  {
   "cell_type": "code",
   "execution_count": 39,
   "metadata": {
    "colab": {
     "base_uri": "https://localhost:8080/",
     "height": 277
    },
    "id": "aSF7-rfCgFiB",
    "outputId": "dc7d047a-ed98-4190-a342-ae49e2ad4835",
    "pycharm": {
     "name": "#%%\n"
    }
   },
   "outputs": [
    {
     "name": "stdout",
     "output_type": "stream",
     "text": [
      "<generator object Module.modules at 0x7f79993ef6d0>\n"
     ]
    },
    {
     "data": {
      "image/png": "[encoded data removed]",
      "text/plain": [
       "<Figure size 432x144 with 6 Axes>"
      ]
     },
     "metadata": {
      "needs_background": "light",
      "tags": []
     },
     "output_type": "display_data"
    },
    {
     "data": {
      "image/png": "[encoded data removed]",
      "text/plain": [
       "<Figure size 432x216 with 16 Axes>"
      ]
     },
     "metadata": {
      "needs_background": "light",
      "tags": []
     },
     "output_type": "display_data"
    }
   ],
   "source": [
    "fig = plt.figure()\n",
    "x = np.arange(10)\n",
    "\n",
    "cnt = 0\n",
    "fig = plt.figure(figsize=(12, 8))\n",
    "for lr in learning_rates:\n",
    "  plt.plot(x, accuracies[cnt*10:(cnt+1)*10], label=str(lr))\n",
    "  cnt+=1\n",
    "\n",
    "plt.legend(loc='lower right')\n",
    "plt.xlabel(\"Epochs\")\n",
    "plt.ylabel(\"Accuracy\")\n",
    "plt.title(\"Accuracy in function of learning rate\")"
   ]
  },
  {
   "cell_type": "code",
   "execution_count": 40,
   "metadata": {
    "colab": {
     "base_uri": "https://localhost:8080/",
     "height": 581
    },
    "id": "EGDDBOpOgFiD",
    "outputId": "2fce063c-de01-4539-966f-95984781ec40"
   },
   "outputs": [
    {
     "data": {
      "image/png": "[encoded data removed]",
      "text/plain": [
       "<Figure size 576x576 with 1 Axes>"
      ]
     },
     "metadata": {
      "needs_background": "light",
      "tags": []
     },
     "output_type": "display_data"
    }
   ],
   "source": [
    "layers = []\n",
    "for n, p in model.named_parameters():\n",
    "    if(p.requires_grad) and (\"bias\" not in n):\n",
    "        layers.append(n)\n",
    "fig = plt.figure(figsize=(8,8))\n",
    "ax = fig.subplots()\n",
    "plt.xlabel(\"mini batch\")\n",
    "plt.ylabel(\"Average Gradient\")\n",
    "plt.title(\"Gradient Flow\")\n",
    "plt.grid(True)\n",
    "\n",
    "plot_grad_flow(model.named_parameters())"
   ]
  },
  {
   "cell_type": "markdown",
   "metadata": {
    "id": "xThBZC2po-IF"
   },
   "source": [
    "### Variation of learning rate"
   ]
  },
  {
   "cell_type": "code",
   "execution_count": 41,
   "metadata": {
    "colab": {
     "base_uri": "https://localhost:8080/"
    },
    "id": "-xIWEu-UpBF2",
    "outputId": "fcadb725-e286-499d-a6cf-59d4b4003b9a"
   },
   "outputs": [
    {
     "name": "stdout",
     "output_type": "stream",
     "text": [
      "<============== Learning Rate : 0.0001==============>\n"
     ]
    },
    {
     "name": "stderr",
     "output_type": "stream",
     "text": [
      "/content/CNN_Pytorch/models/lenet_arch.py:64: UserWarning: Implicit dimension choice for log_softmax has been deprecated. Change the call to include dim=X as an argument.\n",
      "  sm = nn.functional.log_softmax(out, _stacklevel=3)\n"
     ]
    },
    {
     "name": "stdout",
     "output_type": "stream",
     "text": [
      " Train Epoch: 1/10 [60000/60000 (100%)]\tLoss: 0.004240\t Test Accuracy: 99.2200%\n",
      " Train Epoch: 2/10 [60000/60000 (100%)]\tLoss: 0.001953\t Test Accuracy: 99.2300%\n",
      " Train Epoch: 3/10 [60000/60000 (100%)]\tLoss: 0.000758\t Test Accuracy: 99.2000%\n",
      " Train Epoch: 4/10 [60000/60000 (100%)]\tLoss: 0.000069\t Test Accuracy: 99.2700%\n",
      " Train Epoch: 5/10 [60000/60000 (100%)]\tLoss: 0.001277\t Test Accuracy: 99.2200%\n",
      " Train Epoch: 6/10 [60000/60000 (100%)]\tLoss: 0.001800\t Test Accuracy: 99.2200%\n",
      " Train Epoch: 7/10 [60000/60000 (100%)]\tLoss: 0.002267\t Test Accuracy: 99.2400%\n",
      " Train Epoch: 8/10 [60000/60000 (100%)]\tLoss: 0.000516\t Test Accuracy: 99.2300%\n",
      " Train Epoch: 9/10 [60000/60000 (100%)]\tLoss: 0.006601\t Test Accuracy: 99.1500%\n",
      " Train Epoch: 10/10 [60000/60000 (100%)]\tLoss: 0.013571\t Test Accuracy: 99.1800%\n",
      "<============== Learning Rate : 0.0003==============>\n",
      " Train Epoch: 1/10 [60000/60000 (100%)]\tLoss: 0.002260\t Test Accuracy: 99.1300%\n",
      " Train Epoch: 2/10 [60000/60000 (100%)]\tLoss: 0.001278\t Test Accuracy: 99.0700%\n",
      " Train Epoch: 3/10 [60000/60000 (100%)]\tLoss: 0.000530\t Test Accuracy: 99.0200%\n",
      " Train Epoch: 4/10 [60000/60000 (100%)]\tLoss: 0.006290\t Test Accuracy: 99.0700%\n",
      " Train Epoch: 5/10 [60000/60000 (100%)]\tLoss: 0.026496\t Test Accuracy: 99.0500%\n",
      " Train Epoch: 6/10 [60000/60000 (100%)]\tLoss: 0.000273\t Test Accuracy: 99.0800%\n",
      " Train Epoch: 7/10 [60000/60000 (100%)]\tLoss: 0.000011\t Test Accuracy: 99.1400%\n",
      " Train Epoch: 8/10 [60000/60000 (100%)]\tLoss: 0.007001\t Test Accuracy: 99.0400%\n",
      " Train Epoch: 9/10 [60000/60000 (100%)]\tLoss: 0.001623\t Test Accuracy: 99.1100%\n",
      " Train Epoch: 10/10 [60000/60000 (100%)]\tLoss: 0.001314\t Test Accuracy: 98.8600%\n",
      "<============== Learning Rate : 0.001==============>\n",
      " Train Epoch: 1/10 [60000/60000 (100%)]\tLoss: 0.000833\t Test Accuracy: 98.5000%\n",
      " Train Epoch: 2/10 [60000/60000 (100%)]\tLoss: 0.001761\t Test Accuracy: 98.8700%\n",
      " Train Epoch: 3/10 [60000/60000 (100%)]\tLoss: 0.023745\t Test Accuracy: 98.8500%\n",
      " Train Epoch: 4/10 [60000/60000 (100%)]\tLoss: 0.015208\t Test Accuracy: 98.7600%\n",
      " Train Epoch: 5/10 [60000/60000 (100%)]\tLoss: 0.003817\t Test Accuracy: 98.9400%\n",
      " Train Epoch: 6/10 [60000/60000 (100%)]\tLoss: 0.014337\t Test Accuracy: 98.8600%\n",
      " Train Epoch: 7/10 [60000/60000 (100%)]\tLoss: 0.001378\t Test Accuracy: 98.6600%\n",
      " Train Epoch: 8/10 [60000/60000 (100%)]\tLoss: 0.017881\t Test Accuracy: 98.7200%\n",
      " Train Epoch: 9/10 [60000/60000 (100%)]\tLoss: 0.000744\t Test Accuracy: 98.8600%\n",
      " Train Epoch: 10/10 [60000/60000 (100%)]\tLoss: 0.089732\t Test Accuracy: 98.4800%\n",
      "<============== Learning Rate : 0.003==============>\n",
      " Train Epoch: 1/10 [60000/60000 (100%)]\tLoss: 0.066594\t Test Accuracy: 98.2300%\n",
      " Train Epoch: 2/10 [60000/60000 (100%)]\tLoss: 0.002592\t Test Accuracy: 97.9700%\n",
      " Train Epoch: 3/10 [60000/60000 (100%)]\tLoss: 0.045962\t Test Accuracy: 98.7200%\n",
      " Train Epoch: 4/10 [60000/60000 (100%)]\tLoss: 0.023122\t Test Accuracy: 98.6200%\n",
      " Train Epoch: 5/10 [60000/60000 (100%)]\tLoss: 0.048519\t Test Accuracy: 98.5700%\n",
      " Train Epoch: 6/10 [60000/60000 (100%)]\tLoss: 0.016224\t Test Accuracy: 97.8900%\n",
      " Train Epoch: 7/10 [60000/60000 (100%)]\tLoss: 0.057490\t Test Accuracy: 98.2300%\n",
      " Train Epoch: 8/10 [60000/60000 (100%)]\tLoss: 0.030714\t Test Accuracy: 98.3900%\n",
      " Train Epoch: 9/10 [60000/60000 (100%)]\tLoss: 0.005251\t Test Accuracy: 97.9500%\n",
      " Train Epoch: 10/10 [60000/60000 (100%)]\tLoss: 0.011924\t Test Accuracy: 98.6800%\n",
      "<============== Learning Rate : 0.01==============>\n",
      " Train Epoch: 1/10 [60000/60000 (100%)]\tLoss: 0.207698\t Test Accuracy: 96.6200%\n",
      " Train Epoch: 2/10 [60000/60000 (100%)]\tLoss: 0.087012\t Test Accuracy: 97.2900%\n",
      " Train Epoch: 3/10 [60000/60000 (100%)]\tLoss: 0.348985\t Test Accuracy: 95.4800%\n",
      " Train Epoch: 4/10 [60000/60000 (100%)]\tLoss: 0.200631\t Test Accuracy: 94.8900%\n",
      " Train Epoch: 5/10 [60000/60000 (100%)]\tLoss: 0.058177\t Test Accuracy: 96.7600%\n",
      " Train Epoch: 6/10 [60000/60000 (100%)]\tLoss: 0.058698\t Test Accuracy: 95.9300%\n",
      " Train Epoch: 7/10 [60000/60000 (100%)]\tLoss: 0.120071\t Test Accuracy: 96.6700%\n",
      " Train Epoch: 8/10 [60000/60000 (100%)]\tLoss: 0.121952\t Test Accuracy: 96.9500%\n",
      " Train Epoch: 9/10 [60000/60000 (100%)]\tLoss: 0.020169\t Test Accuracy: 96.9200%\n",
      " Train Epoch: 10/10 [60000/60000 (100%)]\tLoss: 0.070200\t Test Accuracy: 95.1300%\n",
      "<============== Learning Rate : 0.03==============>\n",
      " Train Epoch: 1/10 [60000/60000 (100%)]\tLoss: 0.299142\t Test Accuracy: 95.0300%\n",
      " Train Epoch: 2/10 [60000/60000 (100%)]\tLoss: 2.817273\t Test Accuracy: 11.3500%\n",
      " Train Epoch: 3/10 [60000/60000 (100%)]\tLoss: 2.352355\t Test Accuracy: 10.1000%\n",
      " Train Epoch: 4/10 [60000/60000 (100%)]\tLoss: 2.306434\t Test Accuracy: 9.7400%\n",
      " Train Epoch: 5/10 [60000/60000 (100%)]\tLoss: 2.305459\t Test Accuracy: 11.3500%\n",
      " Train Epoch: 6/10 [60000/60000 (100%)]\tLoss: 2.275534\t Test Accuracy: 9.8200%\n",
      " Train Epoch: 7/10 [60000/60000 (100%)]\tLoss: 2.317553\t Test Accuracy: 11.3500%\n",
      " Train Epoch: 8/10 [60000/60000 (100%)]\tLoss: 2.329880\t Test Accuracy: 11.3500%\n",
      " Train Epoch: 9/10 [60000/60000 (100%)]\tLoss: 2.306484\t Test Accuracy: 11.3500%\n",
      " Train Epoch: 10/10 [60000/60000 (100%)]\tLoss: 2.295466\t Test Accuracy: 11.3500%\n",
      "<============== Learning Rate : 0.1==============>\n",
      " Train Epoch: 1/10 [60000/60000 (100%)]\tLoss: 2.376454\t Test Accuracy: 9.8200%\n",
      " Train Epoch: 2/10 [60000/60000 (100%)]\tLoss: 2.308948\t Test Accuracy: 10.0900%\n",
      " Train Epoch: 3/10 [60000/60000 (100%)]\tLoss: 2.311821\t Test Accuracy: 10.2800%\n",
      " Train Epoch: 4/10 [60000/60000 (100%)]\tLoss: 2.335333\t Test Accuracy: 10.2800%\n",
      " Train Epoch: 5/10 [60000/60000 (100%)]\tLoss: 50.663403\t Test Accuracy: 8.9200%\n",
      " Train Epoch: 6/10 [60000/60000 (100%)]\tLoss: 3.368279\t Test Accuracy: 9.5800%\n",
      " Train Epoch: 7/10 [60000/60000 (100%)]\tLoss: 2.584589\t Test Accuracy: 10.2800%\n",
      " Train Epoch: 8/10 [60000/60000 (100%)]\tLoss: 2.290804\t Test Accuracy: 9.8000%\n",
      " Train Epoch: 9/10 [60000/60000 (100%)]\tLoss: 2.300240\t Test Accuracy: 11.3500%\n",
      " Train Epoch: 10/10 [60000/60000 (100%)]\tLoss: 2.324092\t Test Accuracy: 10.2800%\n"
     ]
    }
   ],
   "source": [
    "from functions.training import train_model, evaluate_model\n",
    "\n",
    "losses = []\n",
    "accuracies = []\n",
    "EPOCHS = 10\n",
    "batch_size = 256\n",
    "nb_batch = int(np.ceil(len(train_loader.dataset)/batch_size))\n",
    "\n",
    "learning_rates = [0.0001, 0.0003, 0.001, 0.003, 0.01, 0.03, 0.1]\n",
    "\n",
    "for lr in learning_rates:\n",
    "  print(\"<============== Learning Rate : \"+ str(lr) +\"==============>\")\n",
    "  optimizer = optim.Adam(model_lenet.parameters(),  lr=lr)\n",
    "  for epoch in range(EPOCHS):\n",
    "    losses.extend(train_model(train_loader, device, model_lenet, optimizer, epoch, EPOCHS, batch_size)[-nb_batch:])\n",
    "    accuracies.append(evaluate_model(model_lenet, device, test_loader, losses[-1], EPOCHS, epoch, batch_size, len(train_loader.dataset)))"
   ]
  },
  {
   "cell_type": "code",
   "execution_count": 42,
   "metadata": {
    "colab": {
     "base_uri": "https://localhost:8080/",
     "height": 550
    },
    "id": "RkJ1NNRzpKKF",
    "outputId": "982fdd4c-e60d-476b-d76d-cd29ca66748d"
   },
   "outputs": [
    {
     "data": {
      "text/plain": [
       "Text(0.5, 1.0, 'Accuracy in function of learning rate')"
      ]
     },
     "execution_count": 42,
     "metadata": {
      "tags": []
     },
     "output_type": "execute_result"
    },
    {
     "data": {
      "text/plain": [
       "<Figure size 432x288 with 0 Axes>"
      ]
     },
     "metadata": {
      "tags": []
     },
     "output_type": "display_data"
    },
    {
     "data": {
      "image/png": "[encoded data removed]",
      "text/plain": [
       "<Figure size 864x576 with 1 Axes>"
      ]
     },
     "metadata": {
      "needs_background": "light",
      "tags": []
     },
     "output_type": "display_data"
    }
   ],
   "source": [
    "fig = plt.figure()\n",
    "x = np.arange(10)\n",
    "\n",
    "cnt = 0\n",
    "fig = plt.figure(figsize=(12, 8))\n",
    "for lr in learning_rates:\n",
    "  plt.plot(x, accuracies[cnt*10:(cnt+1)*10], label=str(lr))\n",
    "  cnt+=1\n",
    "\n",
    "plt.legend(loc='lower right')\n",
    "plt.xlabel(\"Epochs\")\n",
    "plt.ylabel(\"Accuracy\")\n",
    "plt.title(\"Accuracy in function of learning rate\")"
   ]
  }
 ],
 "metadata": {
  "accelerator": "GPU",
  "colab": {
   "name": "LeNet.ipynb",
   "provenance": []
  },
  "kernelspec": {
   "display_name": "Python 3",
   "language": "python",
   "name": "python3"
  },
  "language_info": {
   "codemirror_mode": {
    "name": "ipython",
    "version": 3
   },
   "file_extension": ".py",
   "mimetype": "text/x-python",
   "name": "python",
   "nbconvert_exporter": "python",
   "pygments_lexer": "ipython3",
   "version": "3.8.5"
  },
  "pycharm": {
   "stem_cell": {
    "cell_type": "raw",
    "source": [],
    "metadata": {
     "collapsed": false
    }
   }
  }
 },
 "nbformat": 4,
 "nbformat_minor": 1
}